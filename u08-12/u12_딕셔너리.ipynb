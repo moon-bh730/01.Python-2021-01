{
  "nbformat": 4,
  "nbformat_minor": 0,
  "metadata": {
    "colab": {
      "name": "u12_딕셔너리.ipynb",
      "provenance": [],
      "collapsed_sections": [],
      "toc_visible": true
    },
    "kernelspec": {
      "name": "python3",
      "display_name": "Python 3"
    },
    "language_info": {
      "name": "python"
    }
  },
  "cells": [
    {
      "cell_type": "markdown",
      "metadata": {
        "id": "WG-5KB-DRJ5Z"
      },
      "source": [
        "# Unit12. 딕셔너리(Dictionary)\n",
        "- 대응 관계를 나타낼 수 있는 자료형. \n",
        "- 대응 관계를 나타내는 자료형, 이를 연관 배열(Associative array) 또는 해시(Hash)라고 한다."
      ]
    },
    {
      "cell_type": "code",
      "metadata": {
        "id": "os-jYIsARDu_"
      },
      "source": [
        "#리스트는 값이 무엇을 의미하는지 알기 어렵다\n",
        "lux = [490, 334, 550, 18.72]"
      ],
      "execution_count": 1,
      "outputs": []
    },
    {
      "cell_type": "code",
      "metadata": {
        "colab": {
          "base_uri": "https://localhost:8080/"
        },
        "id": "jrs2SrmuSNMc",
        "outputId": "ef78f4ef-eef4-4e0e-a186-cd1cd2ef5669"
      },
      "source": [
        "# key:value 의 구성을 갖는다.\n",
        "\n",
        "lux = {'health': 490      #체력\n",
        "       , 'mana': 334      #마력\n",
        "       , 'melee': 550     #사거리\n",
        "       , 'armor': 18.72   #방어력\n",
        "       }\n",
        "lux"
      ],
      "execution_count": 2,
      "outputs": [
        {
          "output_type": "execute_result",
          "data": {
            "text/plain": [
              "{'armor': 18.72, 'health': 490, 'mana': 334, 'melee': 550}"
            ]
          },
          "metadata": {
            "tags": []
          },
          "execution_count": 2
        }
      ]
    },
    {
      "cell_type": "markdown",
      "metadata": {
        "id": "IY3AGLPdTp5z"
      },
      "source": [
        "## 12.1 딕셔너리 생성"
      ]
    },
    {
      "cell_type": "code",
      "metadata": {
        "colab": {
          "base_uri": "https://localhost:8080/"
        },
        "id": "jZIAgKrXS4i0",
        "outputId": "47b81c1e-39b9-49ef-9eaf-f792bb11f679"
      },
      "source": [
        "# 동일요소를 추가하면? 마지막 한개만 인정하는듯\n",
        "\n",
        "lux = {'health': 490      #체력\n",
        "       ,'health': 900\n",
        "       , 'mana': 334      #마력\n",
        "       , 'melee': 550     #사거리\n",
        "       , 'armor': 18.72   #방어력\n",
        "       }\n",
        "lux"
      ],
      "execution_count": 3,
      "outputs": [
        {
          "output_type": "execute_result",
          "data": {
            "text/plain": [
              "{'armor': 18.72, 'health': 900, 'mana': 334, 'melee': 550}"
            ]
          },
          "metadata": {
            "tags": []
          },
          "execution_count": 3
        }
      ]
    },
    {
      "cell_type": "code",
      "metadata": {
        "colab": {
          "base_uri": "https://localhost:8080/"
        },
        "id": "IffxDaCLT1uD",
        "outputId": "64b73957-55c7-4dfb-e52e-3e1b16dd34f6"
      },
      "source": [
        "#빈 딕셔너리 만들기\n",
        "a = {}\n",
        "b = dict()\n",
        "a,b"
      ],
      "execution_count": 4,
      "outputs": [
        {
          "output_type": "execute_result",
          "data": {
            "text/plain": [
              "({}, {})"
            ]
          },
          "metadata": {
            "tags": []
          },
          "execution_count": 4
        }
      ]
    },
    {
      "cell_type": "code",
      "metadata": {
        "colab": {
          "base_uri": "https://localhost:8080/"
        },
        "id": "5_da6KhHUEaj",
        "outputId": "6dbaab81-0dec-4103-a163-cbaeddb39d5e"
      },
      "source": [
        "#set도 딕서너리와 같은 모양의 값을 갖는다.\n",
        "a = set((1,2,3,4,5))\n",
        "a"
      ],
      "execution_count": 6,
      "outputs": [
        {
          "output_type": "execute_result",
          "data": {
            "text/plain": [
              "{1, 2, 3, 4, 5}"
            ]
          },
          "metadata": {
            "tags": []
          },
          "execution_count": 6
        }
      ]
    },
    {
      "cell_type": "code",
      "metadata": {
        "colab": {
          "base_uri": "https://localhost:8080/"
        },
        "id": "6dpVBkSzVFB7",
        "outputId": "4a48c7d0-a767-4eec-e133-a7e0432645f4"
      },
      "source": [
        "# dic 함수는 key:value로 묶어준다\n",
        "\n",
        "a = ['a','b','c','d']\n",
        "b = [1,2,3,4]\n",
        "dict(zip(a,b))"
      ],
      "execution_count": 9,
      "outputs": [
        {
          "output_type": "execute_result",
          "data": {
            "text/plain": [
              "{'a': 1, 'b': 2, 'c': 3, 'd': 4}"
            ]
          },
          "metadata": {
            "tags": []
          },
          "execution_count": 9
        }
      ]
    },
    {
      "cell_type": "markdown",
      "metadata": {
        "id": "njKvvFUnV4oA"
      },
      "source": [
        "## 12.2 딕셔너리 키에 접근하고 값 할당하기"
      ]
    },
    {
      "cell_type": "code",
      "metadata": {
        "colab": {
          "base_uri": "https://localhost:8080/"
        },
        "id": "yR2wGWeMVhd0",
        "outputId": "4117e6e5-930f-442e-ec00-10079bd7874b"
      },
      "source": [
        "lux"
      ],
      "execution_count": 10,
      "outputs": [
        {
          "output_type": "execute_result",
          "data": {
            "text/plain": [
              "{'armor': 18.72, 'health': 900, 'mana': 334, 'melee': 550}"
            ]
          },
          "metadata": {
            "tags": []
          },
          "execution_count": 10
        }
      ]
    },
    {
      "cell_type": "code",
      "metadata": {
        "colab": {
          "base_uri": "https://localhost:8080/"
        },
        "id": "ExA6NytCWFPK",
        "outputId": "270dde4b-5501-4412-e4b1-e96c0d54cda5"
      },
      "source": [
        "lux['mana'], lux['armor']"
      ],
      "execution_count": 13,
      "outputs": [
        {
          "output_type": "execute_result",
          "data": {
            "text/plain": [
              "(334, 18.72)"
            ]
          },
          "metadata": {
            "tags": []
          },
          "execution_count": 13
        }
      ]
    },
    {
      "cell_type": "code",
      "metadata": {
        "colab": {
          "base_uri": "https://localhost:8080/",
          "height": 172
        },
        "id": "vauRn-2EWKvj",
        "outputId": "0f811459-35a1-4d78-94b3-84929ee987a8"
      },
      "source": [
        "#다음의 형식은 지원하지 않고 오류가 난다.\n",
        "lux.mana"
      ],
      "execution_count": 14,
      "outputs": [
        {
          "output_type": "error",
          "ename": "AttributeError",
          "evalue": "ignored",
          "traceback": [
            "\u001b[0;31m---------------------------------------------------------------------------\u001b[0m",
            "\u001b[0;31mAttributeError\u001b[0m                            Traceback (most recent call last)",
            "\u001b[0;32m<ipython-input-14-77a75fef73c4>\u001b[0m in \u001b[0;36m<module>\u001b[0;34m()\u001b[0m\n\u001b[0;32m----> 1\u001b[0;31m \u001b[0mlux\u001b[0m\u001b[0;34m.\u001b[0m\u001b[0mmana\u001b[0m\u001b[0;34m\u001b[0m\u001b[0;34m\u001b[0m\u001b[0m\n\u001b[0m",
            "\u001b[0;31mAttributeError\u001b[0m: 'dict' object has no attribute 'mana'"
          ]
        }
      ]
    },
    {
      "cell_type": "code",
      "metadata": {
        "colab": {
          "base_uri": "https://localhost:8080/"
        },
        "id": "hyII7Q0HWofU",
        "outputId": "a8dc408a-aa67-4e9d-9e0b-e4fc2827cdbd"
      },
      "source": [
        "# 새로운 항목의 추가\n",
        "# 키값이 기존에 없다면 추가 된다. \n",
        "lux['new']  = 10\n",
        "lux"
      ],
      "execution_count": 15,
      "outputs": [
        {
          "output_type": "execute_result",
          "data": {
            "text/plain": [
              "{'armor': 18.72, 'health': 900, 'mana': 334, 'melee': 550, 'new': 10}"
            ]
          },
          "metadata": {
            "tags": []
          },
          "execution_count": 15
        }
      ]
    },
    {
      "cell_type": "code",
      "metadata": {
        "colab": {
          "base_uri": "https://localhost:8080/"
        },
        "id": "W3kPPSjqXMtM",
        "outputId": "ee5b7a4b-5f3c-4ac3-e9ac-b5d52a61ae26"
      },
      "source": [
        "# 키값이 기존에 있다면 갱신 된다. \n",
        "\n",
        "lux['mana']  = 10000\n",
        "lux"
      ],
      "execution_count": 16,
      "outputs": [
        {
          "output_type": "execute_result",
          "data": {
            "text/plain": [
              "{'armor': 18.72, 'health': 900, 'mana': 10000, 'melee': 550, 'new': 10}"
            ]
          },
          "metadata": {
            "tags": []
          },
          "execution_count": 16
        }
      ]
    },
    {
      "cell_type": "code",
      "metadata": {
        "colab": {
          "base_uri": "https://localhost:8080/"
        },
        "id": "0Fxm5hADXeJj",
        "outputId": "cc34e9e2-6bfa-4974-b0da-c8ee441bfe2f"
      },
      "source": [
        "# 'mana'항목이 존재하면 +100 하고, 없으면 값이 50인 마나항목을 생성 하라\n",
        "#e = {'mana':150}\n",
        "e = {}\n",
        "\n",
        "if 'mana' in e:\n",
        "  e['mana'] += 100\n",
        "  #e['mana'] = e['mana'] +100\n",
        "else:\n",
        "  e['mana'] = 50\n",
        "\n",
        "e"
      ],
      "execution_count": 19,
      "outputs": [
        {
          "output_type": "execute_result",
          "data": {
            "text/plain": [
              "{'mana': 50}"
            ]
          },
          "metadata": {
            "tags": []
          },
          "execution_count": 19
        }
      ]
    },
    {
      "cell_type": "markdown",
      "metadata": {
        "id": "0taahbFcZQFF"
      },
      "source": [
        "### 딕셔너리 키의 갯수"
      ]
    },
    {
      "cell_type": "code",
      "metadata": {
        "colab": {
          "base_uri": "https://localhost:8080/"
        },
        "id": "vtylnhUxYxZ8",
        "outputId": "d3f7449a-b6ef-4525-976a-f51676c04896"
      },
      "source": [
        "lux"
      ],
      "execution_count": 20,
      "outputs": [
        {
          "output_type": "execute_result",
          "data": {
            "text/plain": [
              "{'armor': 18.72, 'health': 900, 'mana': 10000, 'melee': 550, 'new': 10}"
            ]
          },
          "metadata": {
            "tags": []
          },
          "execution_count": 20
        }
      ]
    },
    {
      "cell_type": "code",
      "metadata": {
        "colab": {
          "base_uri": "https://localhost:8080/"
        },
        "id": "9uVgF3rvZTD0",
        "outputId": "7ea493b1-2c52-4bf3-bd76-ea54a651dc04"
      },
      "source": [
        "len(lux)"
      ],
      "execution_count": 21,
      "outputs": [
        {
          "output_type": "execute_result",
          "data": {
            "text/plain": [
              "5"
            ]
          },
          "metadata": {
            "tags": []
          },
          "execution_count": 21
        }
      ]
    },
    {
      "cell_type": "code",
      "metadata": {
        "colab": {
          "base_uri": "https://localhost:8080/"
        },
        "id": "sMA76hSVZU5c",
        "outputId": "67874027-2ff7-4045-b61d-43a2b4c451d6"
      },
      "source": [
        "type(lux)"
      ],
      "execution_count": 22,
      "outputs": [
        {
          "output_type": "execute_result",
          "data": {
            "text/plain": [
              "dict"
            ]
          },
          "metadata": {
            "tags": []
          },
          "execution_count": 22
        }
      ]
    },
    {
      "cell_type": "code",
      "metadata": {
        "colab": {
          "base_uri": "https://localhost:8080/"
        },
        "id": "jQEpZJbFZ8eL",
        "outputId": "6667188d-346c-4b3e-b1ee-9d6d263faed6"
      },
      "source": [
        "type(lux['armor'])"
      ],
      "execution_count": 23,
      "outputs": [
        {
          "output_type": "execute_result",
          "data": {
            "text/plain": [
              "float"
            ]
          },
          "metadata": {
            "tags": []
          },
          "execution_count": 23
        }
      ]
    },
    {
      "cell_type": "code",
      "metadata": {
        "colab": {
          "base_uri": "https://localhost:8080/"
        },
        "id": "JJQ_9yZOaBsT",
        "outputId": "bee10288-9776-40ae-c9a9-946b8fdbc096"
      },
      "source": [
        "lux.keys()"
      ],
      "execution_count": 24,
      "outputs": [
        {
          "output_type": "execute_result",
          "data": {
            "text/plain": [
              "dict_keys(['health', 'mana', 'melee', 'armor', 'new'])"
            ]
          },
          "metadata": {
            "tags": []
          },
          "execution_count": 24
        }
      ]
    },
    {
      "cell_type": "code",
      "metadata": {
        "colab": {
          "base_uri": "https://localhost:8080/"
        },
        "id": "gmC6Fp-2ap7s",
        "outputId": "2e0a0c57-43cf-4c3f-e607-328cc8b40782"
      },
      "source": [
        "lux.values()"
      ],
      "execution_count": 25,
      "outputs": [
        {
          "output_type": "execute_result",
          "data": {
            "text/plain": [
              "dict_values([900, 10000, 550, 18.72, 10])"
            ]
          },
          "metadata": {
            "tags": []
          },
          "execution_count": 25
        }
      ]
    },
    {
      "cell_type": "code",
      "metadata": {
        "colab": {
          "base_uri": "https://localhost:8080/"
        },
        "id": "F4dYCvLYasOc",
        "outputId": "0f0c5db6-d49d-42df-8f4f-64a337b981d1"
      },
      "source": [
        "for key in lux.keys():\n",
        "  print(f'{key}: {lux[key]}')"
      ],
      "execution_count": 27,
      "outputs": [
        {
          "output_type": "stream",
          "text": [
            "health: 900\n",
            "mana: 10000\n",
            "melee: 550\n",
            "armor: 18.72\n",
            "new: 10\n"
          ],
          "name": "stdout"
        }
      ]
    },
    {
      "cell_type": "code",
      "metadata": {
        "colab": {
          "base_uri": "https://localhost:8080/"
        },
        "id": "tduzR3cta2T0",
        "outputId": "3c359640-25e5-4db5-8e49-cb02791d0bd2"
      },
      "source": [
        "for key, vlaue in lux.items():\n",
        "  print(f'{key}: {vlaue}')"
      ],
      "execution_count": 30,
      "outputs": [
        {
          "output_type": "stream",
          "text": [
            "health: 900\n",
            "mana: 10000\n",
            "melee: 550\n",
            "armor: 18.72\n",
            "new: 10\n"
          ],
          "name": "stdout"
        }
      ]
    },
    {
      "cell_type": "code",
      "metadata": {
        "id": "N5sEP_J-bKKk"
      },
      "source": [
        ""
      ],
      "execution_count": null,
      "outputs": []
    }
  ]
}