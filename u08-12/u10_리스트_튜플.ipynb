{
  "nbformat": 4,
  "nbformat_minor": 0,
  "metadata": {
    "colab": {
      "name": "u10_리스트_튜플.ipynb",
      "provenance": [],
      "collapsed_sections": []
    },
    "kernelspec": {
      "name": "python3",
      "display_name": "Python 3"
    },
    "language_info": {
      "name": "python"
    }
  },
  "cells": [
    {
      "cell_type": "markdown",
      "metadata": {
        "id": "kANV63f4g1ml"
      },
      "source": [
        "# Unit 10. 리슽와 튜플\n",
        "- [] - 리스트\n",
        "- () - 튜플\n",
        "- {} - 딕셔너리, 세트(집합)\n",
        "\n",
        "- numpy에서 []는 array로 사용한다."
      ]
    },
    {
      "cell_type": "markdown",
      "metadata": {
        "id": "UrUSFn8ciGYk"
      },
      "source": [
        "## 10.1 리스트(list)\n"
      ]
    },
    {
      "cell_type": "code",
      "metadata": {
        "colab": {
          "base_uri": "https://localhost:8080/"
        },
        "id": "gA5Bak6fftG-",
        "outputId": "9700fd1f-be62-4e2f-e7ea-94b749bd16ed"
      },
      "source": [
        "a = [22,33,44,55,66,77]\n",
        "a"
      ],
      "execution_count": 1,
      "outputs": [
        {
          "output_type": "execute_result",
          "data": {
            "text/plain": [
              "[22, 33, 44, 55, 66, 77]"
            ]
          },
          "metadata": {
            "tags": []
          },
          "execution_count": 1
        }
      ]
    },
    {
      "cell_type": "code",
      "metadata": {
        "colab": {
          "base_uri": "https://localhost:8080/"
        },
        "id": "cRI9yXlHiNeM",
        "outputId": "4ae0266b-7f47-479f-abbc-f3efec177963"
      },
      "source": [
        "# 파이썬에서 다른 자료형을 리스트 엘리먼트로 구성이 가능하다\n",
        "person = [ 'james', 19 , 175.7, True, [22,33,44]]\n",
        "person"
      ],
      "execution_count": 7,
      "outputs": [
        {
          "output_type": "execute_result",
          "data": {
            "text/plain": [
              "['james', 19, 175.7, True, [22, 33, 44]]"
            ]
          },
          "metadata": {
            "tags": []
          },
          "execution_count": 7
        }
      ]
    },
    {
      "cell_type": "code",
      "metadata": {
        "colab": {
          "base_uri": "https://localhost:8080/"
        },
        "id": "vRVZNwVEilN4",
        "outputId": "c738854c-8ac1-49d4-fb9d-522715557e7d"
      },
      "source": [
        "#가독성? 다음과 같은 사용을 많이 한다., 순서는 보장되지 않는다.\n",
        "person_dic = {'name':'bob','age':22,'height':170.2,'is_mail':True,'bp':[110,65]}\n",
        "person_dic"
      ],
      "execution_count": 8,
      "outputs": [
        {
          "output_type": "execute_result",
          "data": {
            "text/plain": [
              "{'age': 22, 'bp': [110, 65], 'height': 170.2, 'is_mail': True, 'name': 'bob'}"
            ]
          },
          "metadata": {
            "tags": []
          },
          "execution_count": 8
        }
      ]
    },
    {
      "cell_type": "markdown",
      "metadata": {
        "id": "lRYTzxg2j008"
      },
      "source": [
        "### 빈 리스트 만들기"
      ]
    },
    {
      "cell_type": "code",
      "metadata": {
        "colab": {
          "base_uri": "https://localhost:8080/"
        },
        "id": "lP_BvBzFjcSj",
        "outputId": "c9845c13-0c0f-4797-8ac7-baa4aa19f108"
      },
      "source": [
        "a = []\n",
        "b = list()\n",
        "a,b"
      ],
      "execution_count": 9,
      "outputs": [
        {
          "output_type": "execute_result",
          "data": {
            "text/plain": [
              "([], [])"
            ]
          },
          "metadata": {
            "tags": []
          },
          "execution_count": 9
        }
      ]
    },
    {
      "cell_type": "code",
      "metadata": {
        "colab": {
          "base_uri": "https://localhost:8080/"
        },
        "id": "Sz26GAECj-_w",
        "outputId": "7bcf3207-feed-4f89-c93d-6d4aec57cee0"
      },
      "source": [
        "a,b = [],[]\n",
        "a,b"
      ],
      "execution_count": 10,
      "outputs": [
        {
          "output_type": "execute_result",
          "data": {
            "text/plain": [
              "([], [])"
            ]
          },
          "metadata": {
            "tags": []
          },
          "execution_count": 10
        }
      ]
    },
    {
      "cell_type": "markdown",
      "metadata": {
        "id": "UgzrxuPakYYz"
      },
      "source": [
        "### range\n",
        "- range([시작숫자],[끝숫자+1],[증감숫자])\n",
        "- 시작숫자 생략시 0이 시작숫자가 된다\n",
        "- 증감숫자 생략시 1이 기본값이 된다."
      ]
    },
    {
      "cell_type": "code",
      "metadata": {
        "colab": {
          "base_uri": "https://localhost:8080/"
        },
        "id": "zZ5gFHYikSw_",
        "outputId": "1362e1ec-70d2-4317-a35d-165389bdeaaf"
      },
      "source": [
        "#내부 구성을 알 수 없다\n",
        "a = range(10)\n",
        "a"
      ],
      "execution_count": 11,
      "outputs": [
        {
          "output_type": "execute_result",
          "data": {
            "text/plain": [
              "range(0, 10)"
            ]
          },
          "metadata": {
            "tags": []
          },
          "execution_count": 11
        }
      ]
    },
    {
      "cell_type": "code",
      "metadata": {
        "colab": {
          "base_uri": "https://localhost:8080/"
        },
        "id": "89DVZarplBOf",
        "outputId": "894e867a-ff4b-4c01-cbe9-20e56ccb675e"
      },
      "source": [
        "#list 함수를 사용하여 구성 도출이 가능하다\n",
        "list(a)"
      ],
      "execution_count": 12,
      "outputs": [
        {
          "output_type": "execute_result",
          "data": {
            "text/plain": [
              "[0, 1, 2, 3, 4, 5, 6, 7, 8, 9]"
            ]
          },
          "metadata": {
            "tags": []
          },
          "execution_count": 12
        }
      ]
    },
    {
      "cell_type": "code",
      "metadata": {
        "colab": {
          "base_uri": "https://localhost:8080/"
        },
        "id": "lTArkW6AlDNk",
        "outputId": "5ba1fc68-0c3f-4ebb-985a-08d430d4eebf"
      },
      "source": [
        "list(range(1,11))"
      ],
      "execution_count": 13,
      "outputs": [
        {
          "output_type": "execute_result",
          "data": {
            "text/plain": [
              "[1, 2, 3, 4, 5, 6, 7, 8, 9, 10]"
            ]
          },
          "metadata": {
            "tags": []
          },
          "execution_count": 13
        }
      ]
    },
    {
      "cell_type": "code",
      "metadata": {
        "colab": {
          "base_uri": "https://localhost:8080/"
        },
        "id": "T9lSp72xlfB_",
        "outputId": "c4541938-b242-4ddf-b498-cec916dc9490"
      },
      "source": [
        "#1~10중 홀수\n",
        "list(range(1,10,2))"
      ],
      "execution_count": 14,
      "outputs": [
        {
          "output_type": "execute_result",
          "data": {
            "text/plain": [
              "[1, 3, 5, 7, 9]"
            ]
          },
          "metadata": {
            "tags": []
          },
          "execution_count": 14
        }
      ]
    },
    {
      "cell_type": "code",
      "metadata": {
        "colab": {
          "base_uri": "https://localhost:8080/"
        },
        "id": "Yr_Sa9p1lr-w",
        "outputId": "7a9ccf9c-0ffe-4338-c8ae-f549e2314870"
      },
      "source": [
        "#1~10중 짝수\n",
        "list(range(2,11,2))"
      ],
      "execution_count": 16,
      "outputs": [
        {
          "output_type": "execute_result",
          "data": {
            "text/plain": [
              "[2, 4, 6, 8, 10]"
            ]
          },
          "metadata": {
            "tags": []
          },
          "execution_count": 16
        }
      ]
    },
    {
      "cell_type": "code",
      "metadata": {
        "colab": {
          "base_uri": "https://localhost:8080/"
        },
        "id": "Mjb8HJ7TlwnY",
        "outputId": "0f919460-a785-42f5-9765-f4fd4553a261"
      },
      "source": [
        "list(range(10,0,-1))"
      ],
      "execution_count": 19,
      "outputs": [
        {
          "output_type": "execute_result",
          "data": {
            "text/plain": [
              "[10, 9, 8, 7, 6, 5, 4, 3, 2, 1]"
            ]
          },
          "metadata": {
            "tags": []
          },
          "execution_count": 19
        }
      ]
    },
    {
      "cell_type": "markdown",
      "metadata": {
        "id": "QSWsv1Peowsw"
      },
      "source": [
        "## 10.2 튜플(tuple)\n",
        "- 리스트와 동일하게 여러 객체를 모아서 담는다. \n",
        "- 숫자, 문자, 객체, 배열, 튜플 안의 튜플 전부 가능하다. \n",
        "- 튜플 내의 값은 수정이 불가하다. \n",
        "- 추가도, 삭제도 안 된다. 한번 만들어지면 끝까지 가지고 가야 된다.\n",
        "- ( )로 사용하고, ( )가 없어도 동일하게 사용 가능하다."
      ]
    },
    {
      "cell_type": "code",
      "metadata": {
        "colab": {
          "base_uri": "https://localhost:8080/"
        },
        "id": "___RnwfuofbY",
        "outputId": "3b3e8b35-08f9-4d0b-cf5f-dee4aee44994"
      },
      "source": [
        "a = (38, 21, 47)\n",
        "a"
      ],
      "execution_count": 21,
      "outputs": [
        {
          "output_type": "execute_result",
          "data": {
            "text/plain": [
              "(38, 21, 47)"
            ]
          },
          "metadata": {
            "tags": []
          },
          "execution_count": 21
        }
      ]
    },
    {
      "cell_type": "code",
      "metadata": {
        "colab": {
          "base_uri": "https://localhost:8080/"
        },
        "id": "7oKaTnLoo6DA",
        "outputId": "3c570e10-5210-4806-eb5e-9b8f81874d5d"
      },
      "source": [
        "# 튜플은 괄호 없이도 사용 가능하다.\n",
        "a = 38, 27 , 47\n",
        "a"
      ],
      "execution_count": 22,
      "outputs": [
        {
          "output_type": "execute_result",
          "data": {
            "text/plain": [
              "(38, 27, 47)"
            ]
          },
          "metadata": {
            "tags": []
          },
          "execution_count": 22
        }
      ]
    },
    {
      "cell_type": "code",
      "metadata": {
        "colab": {
          "base_uri": "https://localhost:8080/"
        },
        "id": "OKBRVeojo-94",
        "outputId": "decf06b3-711e-46f0-e519-628ad7e2e839"
      },
      "source": [
        "person = [ 'james', 19 , 175.7, True, [22,33,44]]\n",
        "person"
      ],
      "execution_count": 23,
      "outputs": [
        {
          "output_type": "execute_result",
          "data": {
            "text/plain": [
              "['james', 19, 175.7, True, [22, 33, 44]]"
            ]
          },
          "metadata": {
            "tags": []
          },
          "execution_count": 23
        }
      ]
    },
    {
      "cell_type": "code",
      "metadata": {
        "colab": {
          "base_uri": "https://localhost:8080/"
        },
        "id": "10y28BRNqZzQ",
        "outputId": "577eff8c-ee0f-4632-e544-a1ca7b7f65bc"
      },
      "source": [
        "a = tuple()\n",
        "a"
      ],
      "execution_count": 24,
      "outputs": [
        {
          "output_type": "execute_result",
          "data": {
            "text/plain": [
              "()"
            ]
          },
          "metadata": {
            "tags": []
          },
          "execution_count": 24
        }
      ]
    },
    {
      "cell_type": "code",
      "metadata": {
        "colab": {
          "base_uri": "https://localhost:8080/"
        },
        "id": "rO-YdbABqcgg",
        "outputId": "bd9d26b4-6e22-4f42-af0d-80d2e417ed78"
      },
      "source": [
        "#a는 정수\n",
        "a = (38)\n",
        "a"
      ],
      "execution_count": 25,
      "outputs": [
        {
          "output_type": "execute_result",
          "data": {
            "text/plain": [
              "38"
            ]
          },
          "metadata": {
            "tags": []
          },
          "execution_count": 25
        }
      ]
    },
    {
      "cell_type": "code",
      "metadata": {
        "colab": {
          "base_uri": "https://localhost:8080/"
        },
        "id": "BQXMjmK5qf54",
        "outputId": "8cd1bc15-8eef-4db0-b365-c2470af7554c"
      },
      "source": [
        "#a는 튜플\n",
        "a = (38,)\n",
        "a"
      ],
      "execution_count": 26,
      "outputs": [
        {
          "output_type": "execute_result",
          "data": {
            "text/plain": [
              "(38,)"
            ]
          },
          "metadata": {
            "tags": []
          },
          "execution_count": 26
        }
      ]
    },
    {
      "cell_type": "code",
      "metadata": {
        "colab": {
          "base_uri": "https://localhost:8080/"
        },
        "id": "68AhW3IXqkog",
        "outputId": "77f4844b-7c0a-4568-ac54-96fed22b51f2"
      },
      "source": [
        "tuple(range(5))"
      ],
      "execution_count": 27,
      "outputs": [
        {
          "output_type": "execute_result",
          "data": {
            "text/plain": [
              "(0, 1, 2, 3, 4)"
            ]
          },
          "metadata": {
            "tags": []
          },
          "execution_count": 27
        }
      ]
    },
    {
      "cell_type": "markdown",
      "metadata": {
        "id": "fqGINN_hrVph"
      },
      "source": [
        "### 리스트 <--> 튜플"
      ]
    },
    {
      "cell_type": "code",
      "metadata": {
        "colab": {
          "base_uri": "https://localhost:8080/"
        },
        "id": "8bO7so4KrTrA",
        "outputId": "6b238c7d-c0c4-46d0-e7e0-e9b2f8546277"
      },
      "source": [
        "a = [1, 3, 4]\n",
        "b = tuple(a)\n",
        "b"
      ],
      "execution_count": 28,
      "outputs": [
        {
          "output_type": "execute_result",
          "data": {
            "text/plain": [
              "(1, 3, 4)"
            ]
          },
          "metadata": {
            "tags": []
          },
          "execution_count": 28
        }
      ]
    },
    {
      "cell_type": "code",
      "metadata": {
        "colab": {
          "base_uri": "https://localhost:8080/"
        },
        "id": "rSJg_3obrd0Q",
        "outputId": "984c619b-02b7-4963-a827-5fabcdae4210"
      },
      "source": [
        "c = list(b)\n",
        "c"
      ],
      "execution_count": 29,
      "outputs": [
        {
          "output_type": "execute_result",
          "data": {
            "text/plain": [
              "[1, 3, 4]"
            ]
          },
          "metadata": {
            "tags": []
          },
          "execution_count": 29
        }
      ]
    },
    {
      "cell_type": "markdown",
      "metadata": {
        "id": "i5XtuXl8rib4"
      },
      "source": [
        "### 문자열"
      ]
    },
    {
      "cell_type": "code",
      "metadata": {
        "colab": {
          "base_uri": "https://localhost:8080/"
        },
        "id": "OlsTGmilrhPA",
        "outputId": "574009df-3b48-46c0-e7d7-d4790aebcaf1"
      },
      "source": [
        "tuple('hello')"
      ],
      "execution_count": 30,
      "outputs": [
        {
          "output_type": "execute_result",
          "data": {
            "text/plain": [
              "('h', 'e', 'l', 'l', 'o')"
            ]
          },
          "metadata": {
            "tags": []
          },
          "execution_count": 30
        }
      ]
    },
    {
      "cell_type": "code",
      "metadata": {
        "colab": {
          "base_uri": "https://localhost:8080/"
        },
        "id": "QWStoZVOrmfA",
        "outputId": "fbf5aa1c-5040-4afa-971a-23285031bd79"
      },
      "source": [
        "list('안녕하세요')"
      ],
      "execution_count": 31,
      "outputs": [
        {
          "output_type": "execute_result",
          "data": {
            "text/plain": [
              "['안', '녕', '하', '세', '요']"
            ]
          },
          "metadata": {
            "tags": []
          },
          "execution_count": 31
        }
      ]
    },
    {
      "cell_type": "markdown",
      "metadata": {
        "id": "b0xuguhAsrug"
      },
      "source": [
        "### 언팩킹"
      ]
    },
    {
      "cell_type": "code",
      "metadata": {
        "colab": {
          "base_uri": "https://localhost:8080/"
        },
        "id": "SNL374Iwsqdj",
        "outputId": "5c05b688-e813-4f1f-962b-9d50956fd732"
      },
      "source": [
        "# tuple unpacking\n",
        "a = (1,3,4)\n",
        "x, y, z = a\n",
        "x,y,z"
      ],
      "execution_count": 34,
      "outputs": [
        {
          "output_type": "execute_result",
          "data": {
            "text/plain": [
              "(1, 3, 4)"
            ]
          },
          "metadata": {
            "tags": []
          },
          "execution_count": 34
        }
      ]
    },
    {
      "cell_type": "code",
      "metadata": {
        "colab": {
          "base_uri": "https://localhost:8080/"
        },
        "id": "JmjxWj8ps_yQ",
        "outputId": "0179c0c2-b3ee-4484-f733-00b84407967d"
      },
      "source": [
        "# list unpacking\n",
        "x, y, z = [1, 3, 5]\n",
        "x, y, z "
      ],
      "execution_count": 36,
      "outputs": [
        {
          "output_type": "execute_result",
          "data": {
            "text/plain": [
              "(1, 3, 5)"
            ]
          },
          "metadata": {
            "tags": []
          },
          "execution_count": 36
        }
      ]
    },
    {
      "cell_type": "code",
      "metadata": {
        "id": "5_pTcTl5tSQ4"
      },
      "source": [
        ""
      ],
      "execution_count": null,
      "outputs": []
    }
  ]
}