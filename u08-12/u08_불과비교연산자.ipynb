{
  "nbformat": 4,
  "nbformat_minor": 2,
  "metadata": {
    "colab": {
      "name": "u08_불과비교연산자.ipynb",
      "provenance": [],
      "collapsed_sections": []
    },
    "kernelspec": {
      "name": "python3",
      "display_name": "Python 3"
    },
    "language_info": {
      "name": "python"
    }
  },
  "cells": [
    {
      "cell_type": "markdown",
      "source": [
        "# Unit 8. 불과 비교/논리 연산자\r\n"
      ],
      "metadata": {
        "id": "LQYpLwFpecrE"
      }
    },
    {
      "cell_type": "markdown",
      "source": [
        "## 8.1 불(bool)과 비교 연산자"
      ],
      "metadata": {
        "id": "UUnpWZbrelyn"
      }
    },
    {
      "cell_type": "code",
      "execution_count": 2,
      "source": [
        "True, False"
      ],
      "outputs": [
        {
          "output_type": "execute_result",
          "data": {
            "text/plain": [
              "(True, False)"
            ]
          },
          "metadata": {
            "tags": []
          },
          "execution_count": 2
        }
      ],
      "metadata": {
        "colab": {
          "base_uri": "https://localhost:8080/"
        },
        "id": "IEW4Yo3HdoLY",
        "outputId": "758b43a0-c42a-4b39-a371-c411ece780e7"
      }
    },
    {
      "cell_type": "code",
      "execution_count": 3,
      "source": [
        "# >, >=, <, <=, ==, !=\r\n",
        "10 >= 5"
      ],
      "outputs": [
        {
          "output_type": "execute_result",
          "data": {
            "text/plain": [
              "True"
            ]
          },
          "metadata": {
            "tags": []
          },
          "execution_count": 3
        }
      ],
      "metadata": {
        "colab": {
          "base_uri": "https://localhost:8080/"
        },
        "id": "k-SgqADXe3-I",
        "outputId": "17e3f8f5-e219-4b4b-effe-ccac1c1d09d4"
      }
    },
    {
      "cell_type": "code",
      "execution_count": 4,
      "source": [
        "a = 10 != 5\r\n",
        "a"
      ],
      "outputs": [
        {
          "output_type": "execute_result",
          "data": {
            "text/plain": [
              "True"
            ]
          },
          "metadata": {
            "tags": []
          },
          "execution_count": 4
        }
      ],
      "metadata": {
        "colab": {
          "base_uri": "https://localhost:8080/"
        },
        "id": "S5lTZ5eJfy75",
        "outputId": "672b1073-c3a3-42ce-9846-f2d5c77721ba"
      }
    },
    {
      "cell_type": "code",
      "execution_count": 5,
      "source": [
        "'Python' == 'python'"
      ],
      "outputs": [
        {
          "output_type": "execute_result",
          "data": {
            "text/plain": [
              "False"
            ]
          },
          "metadata": {
            "tags": []
          },
          "execution_count": 5
        }
      ],
      "metadata": {
        "colab": {
          "base_uri": "https://localhost:8080/"
        },
        "id": "fOlmehHWgFLJ",
        "outputId": "5c903aaa-2d93-4ee9-c21f-fc1c7a4b3d29"
      }
    },
    {
      "cell_type": "markdown",
      "source": [
        "## 8.2 논리연산자\n",
        "- and, or, not"
      ],
      "metadata": {
        "id": "8puTnTFegl_U"
      }
    },
    {
      "cell_type": "code",
      "execution_count": 6,
      "source": [
        "not True and False or not False     #not, and, or의 순서로 우선순위를 갖고 실행된다"
      ],
      "outputs": [
        {
          "output_type": "execute_result",
          "data": {
            "text/plain": [
              "True"
            ]
          },
          "metadata": {
            "tags": []
          },
          "execution_count": 6
        }
      ],
      "metadata": {
        "colab": {
          "base_uri": "https://localhost:8080/"
        },
        "id": "LpUOVO4dgOLR",
        "outputId": "a25c427a-3f83-49a3-f49c-77e257c1f6d7"
      }
    },
    {
      "cell_type": "code",
      "execution_count": 7,
      "source": [
        "((not True) and False) or (not False)"
      ],
      "outputs": [
        {
          "output_type": "execute_result",
          "data": {
            "text/plain": [
              "True"
            ]
          },
          "metadata": {
            "tags": []
          },
          "execution_count": 7
        }
      ],
      "metadata": {
        "colab": {
          "base_uri": "https://localhost:8080/"
        },
        "id": "L5VH1dk9kA7S",
        "outputId": "efb66e1d-1429-44cc-9cf4-4add86957cf2"
      }
    },
    {
      "cell_type": "code",
      "execution_count": 9,
      "source": [
        "# x > 10, x < 5\n",
        "x = 6\n",
        "x > 10 or x < 5"
      ],
      "outputs": [
        {
          "output_type": "execute_result",
          "data": {
            "text/plain": [
              "False"
            ]
          },
          "metadata": {
            "tags": []
          },
          "execution_count": 9
        }
      ],
      "metadata": {
        "colab": {
          "base_uri": "https://localhost:8080/"
        },
        "id": "qJjfyzY7kXfh",
        "outputId": "b4f624f6-4902-4c96-99a1-5e0516078fea"
      }
    },
    {
      "cell_type": "code",
      "execution_count": 10,
      "source": [
        "# 파이썬에서만 허용되는 형식\n",
        "5 < x < 10"
      ],
      "outputs": [
        {
          "output_type": "execute_result",
          "data": {
            "text/plain": [
              "True"
            ]
          },
          "metadata": {
            "tags": []
          },
          "execution_count": 10
        }
      ],
      "metadata": {
        "colab": {
          "base_uri": "https://localhost:8080/"
        },
        "id": "THYef8xmkfaJ",
        "outputId": "a7258e90-1e72-46b2-9afd-2302145135e9"
      }
    },
    {
      "cell_type": "markdown",
      "source": [
        "# 정수, 실수, 문자열"
      ],
      "metadata": {
        "id": "4Y340bOIlMyn"
      }
    },
    {
      "cell_type": "code",
      "execution_count": 14,
      "source": [
        "bool(0), bool(1), bool(5), bool(-2)   # 0만 아니면 모두 true"
      ],
      "outputs": [
        {
          "output_type": "execute_result",
          "data": {
            "text/plain": [
              "(False, True, True, True)"
            ]
          },
          "metadata": {
            "tags": []
          },
          "execution_count": 14
        }
      ],
      "metadata": {
        "colab": {
          "base_uri": "https://localhost:8080/"
        },
        "id": "e1VDR1CilAFY",
        "outputId": "0e1d56b2-abc3-4261-b8e0-3a3fcd3011d9"
      }
    },
    {
      "cell_type": "code",
      "execution_count": 15,
      "source": [
        "bool(''), bool('cv'), bool('aa'), bool(' ')     # '' 만 아니면 모두 true"
      ],
      "outputs": [
        {
          "output_type": "execute_result",
          "data": {
            "text/plain": [
              "(False, True, True, True)"
            ]
          },
          "metadata": {
            "tags": []
          },
          "execution_count": 15
        }
      ],
      "metadata": {
        "colab": {
          "base_uri": "https://localhost:8080/"
        },
        "id": "JhPMHpuSlVji",
        "outputId": "a85fa05c-5616-4013-911d-6375e2bd7345"
      }
    },
    {
      "cell_type": "code",
      "execution_count": 17,
      "source": [
        "#다음과 같이 조건식에 활용 가능\n",
        "if 4:\n",
        "  print('4 is True')"
      ],
      "outputs": [],
      "metadata": {
        "id": "47JSUA9clrJ9"
      }
    },
    {
      "cell_type": "code",
      "execution_count": 18,
      "source": [
        "int(True), int(False)"
      ],
      "outputs": [
        {
          "output_type": "execute_result",
          "data": {
            "text/plain": [
              "(1, 0)"
            ]
          },
          "metadata": {
            "tags": []
          },
          "execution_count": 18
        }
      ],
      "metadata": {
        "colab": {
          "base_uri": "https://localhost:8080/"
        },
        "id": "-7507TGelzo9",
        "outputId": "fe11f617-7306-43ca-b24e-be62624d6fed"
      }
    },
    {
      "cell_type": "markdown",
      "source": [
        "### Short-circuit evaluation"
      ],
      "metadata": {
        "id": "4SRklAJQmroC"
      }
    },
    {
      "cell_type": "code",
      "execution_count": 19,
      "source": [
        "1 or 'python'"
      ],
      "outputs": [
        {
          "output_type": "execute_result",
          "data": {
            "text/plain": [
              "1"
            ]
          },
          "metadata": {
            "tags": []
          },
          "execution_count": 19
        }
      ],
      "metadata": {
        "colab": {
          "base_uri": "https://localhost:8080/"
        },
        "id": "el-Qx5i-mAOy",
        "outputId": "664345d6-dc40-4cfc-a190-d1f8d7dbb859"
      }
    },
    {
      "cell_type": "code",
      "execution_count": 20,
      "source": [
        "0 or 'python'"
      ],
      "outputs": [
        {
          "output_type": "execute_result",
          "data": {
            "text/plain": [
              "'python'"
            ],
            "application/vnd.google.colaboratory.intrinsic+json": {
              "type": "string"
            }
          },
          "metadata": {
            "tags": []
          },
          "execution_count": 20
        }
      ],
      "metadata": {
        "colab": {
          "base_uri": "https://localhost:8080/",
          "height": 35
        },
        "id": "SLDnc7qPmP1x",
        "outputId": "27ff2be5-dac9-4c2d-a2b0-11dfdbcbb9b7"
      }
    },
    {
      "cell_type": "code",
      "execution_count": 21,
      "source": [
        "1 and 'python'"
      ],
      "outputs": [
        {
          "output_type": "execute_result",
          "data": {
            "text/plain": [
              "'python'"
            ],
            "application/vnd.google.colaboratory.intrinsic+json": {
              "type": "string"
            }
          },
          "metadata": {
            "tags": []
          },
          "execution_count": 21
        }
      ],
      "metadata": {
        "colab": {
          "base_uri": "https://localhost:8080/",
          "height": 35
        },
        "id": "cJy1QZ0MmXpd",
        "outputId": "c0c74aec-d74b-4ba3-b8d3-27f22bd6ed17"
      }
    },
    {
      "cell_type": "code",
      "execution_count": 22,
      "source": [
        "0 and 'python'"
      ],
      "outputs": [
        {
          "output_type": "execute_result",
          "data": {
            "text/plain": [
              "0"
            ]
          },
          "metadata": {
            "tags": []
          },
          "execution_count": 22
        }
      ],
      "metadata": {
        "colab": {
          "base_uri": "https://localhost:8080/"
        },
        "id": "TcaXsCSumkLN",
        "outputId": "30b802f0-0c07-4a57-ee90-badb4dc986e7"
      }
    },
    {
      "cell_type": "code",
      "execution_count": 28,
      "source": [
        "c = -a\n",
        "c = a + 10"
      ],
      "outputs": [],
      "metadata": {
        "id": "T05MlbOpmmR3"
      }
    },
    {
      "cell_type": "code",
      "execution_count": 44,
      "source": [
        "a = 10\n",
        "b = 20\n",
        "not b != 20 and a > 5"
      ],
      "outputs": [
        {
          "output_type": "execute_result",
          "data": {
            "text/plain": [
              "True"
            ]
          },
          "metadata": {
            "tags": []
          },
          "execution_count": 44
        }
      ],
      "metadata": {
        "colab": {
          "base_uri": "https://localhost:8080/"
        },
        "id": "jHl0NShHsmMy",
        "outputId": "9a5ed6e3-03bd-448c-b372-6ef8af18a096"
      }
    },
    {
      "cell_type": "code",
      "execution_count": null,
      "source": [],
      "outputs": [],
      "metadata": {
        "id": "aCC5CbJ2tEji"
      }
    }
  ]
}