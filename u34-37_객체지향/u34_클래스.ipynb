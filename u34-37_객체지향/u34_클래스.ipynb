{
 "cells": [
  {
   "cell_type": "markdown",
   "source": [
    "# Unit 34. 클래스(Class)"
   ],
   "metadata": {}
  },
  {
   "cell_type": "markdown",
   "source": [
    "## 34.1 클래스와 메서드 만들기"
   ],
   "metadata": {}
  },
  {
   "cell_type": "code",
   "execution_count": 1,
   "source": [
    "class Person:           #클래스 이름은 대문자로 시작한다.\r\n",
    "    def greeting(self):     #클래스 함수의 첫 인자는 self로 한다.\r\n",
    "        print(\"hello\")\r\n"
   ],
   "outputs": [],
   "metadata": {}
  },
  {
   "cell_type": "code",
   "execution_count": 2,
   "source": [
    "# 만든 클래스의 사용은 인스턴스를 만들어야 한다.\r\n",
    "james = Person()\r\n",
    "maria = Person()"
   ],
   "outputs": [],
   "metadata": {}
  },
  {
   "cell_type": "code",
   "execution_count": 3,
   "source": [
    "james.greeting()"
   ],
   "outputs": [
    {
     "output_type": "stream",
     "name": "stdout",
     "text": [
      "hello\n"
     ]
    }
   ],
   "metadata": {}
  },
  {
   "cell_type": "code",
   "execution_count": 4,
   "source": [
    "maria.greeting()"
   ],
   "outputs": [
    {
     "output_type": "stream",
     "name": "stdout",
     "text": [
      "hello\n"
     ]
    }
   ],
   "metadata": {}
  },
  {
   "cell_type": "code",
   "execution_count": 5,
   "source": [
    "Person().greeting()"
   ],
   "outputs": [
    {
     "output_type": "stream",
     "name": "stdout",
     "text": [
      "hello\n"
     ]
    }
   ],
   "metadata": {}
  },
  {
   "cell_type": "code",
   "execution_count": 6,
   "source": [
    "# 클래스 내에서 메서드 호출\r\n",
    "class Person:\r\n",
    "    def greeting(self):\r\n",
    "        print(\"hihi~hi\")\r\n",
    "\r\n",
    "    def hihihi(self):\r\n",
    "        self.greeting()"
   ],
   "outputs": [],
   "metadata": {}
  },
  {
   "cell_type": "code",
   "execution_count": 7,
   "source": [
    "james = Person()\r\n",
    "james.hihihi()"
   ],
   "outputs": [
    {
     "output_type": "stream",
     "name": "stdout",
     "text": [
      "hihi~hi\n"
     ]
    }
   ],
   "metadata": {}
  },
  {
   "cell_type": "code",
   "execution_count": 8,
   "source": [
    "# isinstance(인스턴스, 클래스/데이터타입)\r\n",
    "#   - 인스턴스가 특정 클래스/데이터 타입과 일치할 경우에는 True를 아닌 경우에는 False를 리턴\r\n",
    "\r\n",
    "def factorial(n):\r\n",
    "    if not isinstance(n,int) or n < 0:\r\n",
    "        return None\r\n",
    "    if n == 0:\r\n",
    "        return 1\r\n",
    "    return n*factorial(n-1)"
   ],
   "outputs": [],
   "metadata": {}
  },
  {
   "cell_type": "code",
   "execution_count": 9,
   "source": [
    "factorial(3.14)"
   ],
   "outputs": [],
   "metadata": {}
  },
  {
   "cell_type": "code",
   "execution_count": 10,
   "source": [
    "factorial(6)"
   ],
   "outputs": [
    {
     "output_type": "execute_result",
     "data": {
      "text/plain": [
       "720"
      ]
     },
     "metadata": {},
     "execution_count": 10
    }
   ],
   "metadata": {}
  },
  {
   "cell_type": "markdown",
   "source": [
    "## 34.2 속성(Attribute)"
   ],
   "metadata": {}
  },
  {
   "cell_type": "code",
   "execution_count": 11,
   "source": [
    "# __init__의 이해\r\n",
    "#   - 컨스트럭터라고 불리는 초기화를 위한 함수(메소드)\r\n",
    "#   - 인스턴스화를 실시할 때 반드시 처음에 호출되는 특수한 함수\r\n",
    "#   - 오브젝트 생성(인스턴스를 생성)과 관련하여 데이터의 초기를 실시하는 함수\r\n",
    "\r\n",
    "class Person:\r\n",
    "    def __init__(self):\r\n",
    "        self.hello = \"옥체만안 하신지요?\"        # hello 속성을 갖게 됨\r\n",
    "\r\n",
    "    def greeting(self):\r\n",
    "        print(self.hello)"
   ],
   "outputs": [],
   "metadata": {}
  },
  {
   "cell_type": "code",
   "execution_count": 12,
   "source": [
    "maria = Person()\r\n",
    "maria.greeting()"
   ],
   "outputs": [
    {
     "output_type": "stream",
     "name": "stdout",
     "text": [
      "옥체만안 하신지요?\n"
     ]
    }
   ],
   "metadata": {}
  },
  {
   "cell_type": "code",
   "execution_count": 13,
   "source": [
    "maria.hello = \"how are you?\"\r\n",
    "maria.greeting()"
   ],
   "outputs": [
    {
     "output_type": "stream",
     "name": "stdout",
     "text": [
      "how are you?\n"
     ]
    }
   ],
   "metadata": {}
  },
  {
   "cell_type": "code",
   "execution_count": 14,
   "source": [
    "class Person:\r\n",
    "    def __init__(self,hello):           # constructor\r\n",
    "        self.hello = hello\r\n",
    "    def greeting(self):\r\n",
    "        print(self.hello)"
   ],
   "outputs": [],
   "metadata": {}
  },
  {
   "cell_type": "code",
   "execution_count": 15,
   "source": [
    "# \r\n",
    "james = Person(\"옥체만안?\")\r\n",
    "maria = Person(\"how are you?\")"
   ],
   "outputs": [],
   "metadata": {}
  },
  {
   "cell_type": "code",
   "execution_count": 16,
   "source": [
    "james.greeting()\r\n",
    "maria.greeting()"
   ],
   "outputs": [
    {
     "output_type": "stream",
     "name": "stdout",
     "text": [
      "옥체만안?\n",
      "how are you?\n"
     ]
    }
   ],
   "metadata": {}
  },
  {
   "cell_type": "code",
   "execution_count": 17,
   "source": [
    "class Person:\r\n",
    "    def __init__(self, name, age, addr):\r\n",
    "        self.hello = \"안녕하세요?\"\r\n",
    "        self.name = name\r\n",
    "        self.age = age\r\n",
    "        self.addr = addr\r\n",
    "        \r\n",
    "    def greeting(self):\r\n",
    "        print(f'{self.hello} 저는 {self.name} 입니다.')"
   ],
   "outputs": [],
   "metadata": {}
  },
  {
   "cell_type": "code",
   "execution_count": 18,
   "source": [
    "maria = Person(\"마리아\",23,\"서울시 강남구 도곡동\")\r\n",
    "maria.greeting()"
   ],
   "outputs": [
    {
     "output_type": "stream",
     "name": "stdout",
     "text": [
      "안녕하세요? 저는 마리아 입니다.\n"
     ]
    }
   ],
   "metadata": {}
  },
  {
   "cell_type": "code",
   "execution_count": null,
   "source": [],
   "outputs": [],
   "metadata": {}
  }
 ],
 "metadata": {
  "orig_nbformat": 4,
  "language_info": {
   "name": "python",
   "version": "3.8.10",
   "mimetype": "text/x-python",
   "codemirror_mode": {
    "name": "ipython",
    "version": 3
   },
   "pygments_lexer": "ipython3",
   "nbconvert_exporter": "python",
   "file_extension": ".py"
  },
  "kernelspec": {
   "name": "python3",
   "display_name": "Python 3.8.10 64-bit ('base': conda)"
  },
  "interpreter": {
   "hash": "b3ba2566441a7c06988d0923437866b63cedc61552a5af99d1f4fb67d367b25f"
  }
 },
 "nbformat": 4,
 "nbformat_minor": 2
}