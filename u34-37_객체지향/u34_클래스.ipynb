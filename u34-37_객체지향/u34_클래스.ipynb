{
 "cells": [
  {
   "cell_type": "markdown",
   "source": [
    "# Unit 34. 클래스(Class)"
   ],
   "metadata": {}
  },
  {
   "cell_type": "markdown",
   "source": [
    "## 34.1 클래스와 메서드 만들기"
   ],
   "metadata": {}
  },
  {
   "cell_type": "code",
   "execution_count": 1,
   "source": [
    "class Person:           #클래스 이름은 대문자로 시작한다.\r\n",
    "    def greeting(self):     #클래스 함수의 첫 인자는 self로 한다.\r\n",
    "        print(\"hello\")\r\n"
   ],
   "outputs": [],
   "metadata": {}
  },
  {
   "cell_type": "code",
   "execution_count": 2,
   "source": [
    "# 만든 클래스의 사용은 인스턴스를 만들어야 한다.\r\n",
    "james = Person()\r\n",
    "maria = Person()"
   ],
   "outputs": [],
   "metadata": {}
  },
  {
   "cell_type": "code",
   "execution_count": 3,
   "source": [
    "james.greeting()"
   ],
   "outputs": [
    {
     "output_type": "stream",
     "name": "stdout",
     "text": [
      "hello\n"
     ]
    }
   ],
   "metadata": {}
  },
  {
   "cell_type": "code",
   "execution_count": 4,
   "source": [
    "maria.greeting()"
   ],
   "outputs": [
    {
     "output_type": "stream",
     "name": "stdout",
     "text": [
      "hello\n"
     ]
    }
   ],
   "metadata": {}
  },
  {
   "cell_type": "code",
   "execution_count": 5,
   "source": [
    "Person().greeting()"
   ],
   "outputs": [
    {
     "output_type": "stream",
     "name": "stdout",
     "text": [
      "hello\n"
     ]
    }
   ],
   "metadata": {}
  },
  {
   "cell_type": "code",
   "execution_count": 6,
   "source": [
    "# 클래스 내에서 메서드 호출\r\n",
    "class Person:\r\n",
    "    def greeting(self):\r\n",
    "        print(\"hihi~hi\")\r\n",
    "\r\n",
    "    def hihihi(self):\r\n",
    "        self.greeting()"
   ],
   "outputs": [],
   "metadata": {}
  },
  {
   "cell_type": "code",
   "execution_count": 7,
   "source": [
    "james = Person()\r\n",
    "james.hihihi()"
   ],
   "outputs": [
    {
     "output_type": "stream",
     "name": "stdout",
     "text": [
      "hihi~hi\n"
     ]
    }
   ],
   "metadata": {}
  },
  {
   "cell_type": "code",
   "execution_count": 8,
   "source": [
    "# isinstance(인스턴스, 클래스/데이터타입)\r\n",
    "#   - 인스턴스가 특정 클래스/데이터 타입과 일치할 경우에는 True를 아닌 경우에는 False를 리턴\r\n",
    "\r\n",
    "def factorial(n):\r\n",
    "    if not isinstance(n,int) or n < 0:\r\n",
    "        return None\r\n",
    "    if n == 0:\r\n",
    "        return 1\r\n",
    "    return n*factorial(n-1)"
   ],
   "outputs": [],
   "metadata": {}
  },
  {
   "cell_type": "code",
   "execution_count": 9,
   "source": [
    "factorial(3.14)"
   ],
   "outputs": [],
   "metadata": {}
  },
  {
   "cell_type": "code",
   "execution_count": 10,
   "source": [
    "factorial(6)"
   ],
   "outputs": [
    {
     "output_type": "execute_result",
     "data": {
      "text/plain": [
       "720"
      ]
     },
     "metadata": {},
     "execution_count": 10
    }
   ],
   "metadata": {}
  },
  {
   "cell_type": "markdown",
   "source": [
    "## 34.2 속성(Attribute)"
   ],
   "metadata": {}
  },
  {
   "cell_type": "code",
   "execution_count": 11,
   "source": [
    "# __init__의 이해\r\n",
    "#   - 컨스트럭터라고 불리는 초기화를 위한 함수(메소드)\r\n",
    "#   - 인스턴스화를 실시할 때 반드시 처음에 호출되는 특수한 함수\r\n",
    "#   - 오브젝트 생성(인스턴스를 생성)과 관련하여 데이터의 초기를 실시하는 함수\r\n",
    "\r\n",
    "class Person:\r\n",
    "    def __init__(self):\r\n",
    "        self.hello = \"옥체만안 하신지요?\"        # hello 속성을 갖게 됨\r\n",
    "\r\n",
    "    def greeting(self):\r\n",
    "        print(self.hello)"
   ],
   "outputs": [],
   "metadata": {}
  },
  {
   "cell_type": "code",
   "execution_count": 12,
   "source": [
    "maria = Person()\r\n",
    "maria.greeting()"
   ],
   "outputs": [
    {
     "output_type": "stream",
     "name": "stdout",
     "text": [
      "옥체만안 하신지요?\n"
     ]
    }
   ],
   "metadata": {}
  },
  {
   "cell_type": "code",
   "execution_count": 13,
   "source": [
    "maria.hello = \"how are you?\"\r\n",
    "maria.greeting()"
   ],
   "outputs": [
    {
     "output_type": "stream",
     "name": "stdout",
     "text": [
      "how are you?\n"
     ]
    }
   ],
   "metadata": {}
  },
  {
   "cell_type": "code",
   "execution_count": 14,
   "source": [
    "class Person:\r\n",
    "    def __init__(self,hello):           # constructor\r\n",
    "        self.hello = hello\r\n",
    "    def greeting(self):\r\n",
    "        print(self.hello)"
   ],
   "outputs": [],
   "metadata": {}
  },
  {
   "cell_type": "code",
   "execution_count": 15,
   "source": [
    "# \r\n",
    "james = Person(\"옥체만안?\")\r\n",
    "maria = Person(\"how are you?\")"
   ],
   "outputs": [],
   "metadata": {}
  },
  {
   "cell_type": "code",
   "execution_count": 16,
   "source": [
    "james.greeting()\r\n",
    "maria.greeting()"
   ],
   "outputs": [
    {
     "output_type": "stream",
     "name": "stdout",
     "text": [
      "옥체만안?\n",
      "how are you?\n"
     ]
    }
   ],
   "metadata": {}
  },
  {
   "cell_type": "code",
   "execution_count": 25,
   "source": [
    "class Person:\r\n",
    "    def __init__(self, name, age, addr):\r\n",
    "        self.hello = \"안녕하세요?\"\r\n",
    "        self.name = name\r\n",
    "        self.age = age\r\n",
    "        self.addr = addr\r\n",
    "\r\n",
    "    def greeting(self):\r\n",
    "        print(f'{self.hello} 저는 {self.name} 입니다.')\r\n",
    "\r\n",
    "    def __str__(self):\r\n",
    "        return 'hello : {}, name : {}, age : {}, addr : {}'.format(self.hello, self.name, self.age, self.addr)"
   ],
   "outputs": [],
   "metadata": {}
  },
  {
   "cell_type": "code",
   "execution_count": 26,
   "source": [
    "maria = Person(\"마리아\",23,\"서울시 강남구 도곡동\")\r\n",
    "maria.greeting()"
   ],
   "outputs": [
    {
     "output_type": "stream",
     "name": "stdout",
     "text": [
      "안녕하세요? 저는 마리아 입니다.\n"
     ]
    }
   ],
   "metadata": {}
  },
  {
   "cell_type": "code",
   "execution_count": 27,
   "source": [
    "print(maria)"
   ],
   "outputs": [
    {
     "output_type": "stream",
     "name": "stdout",
     "text": [
      "hello : 안녕하세요?, name : 마리아, age : 23, addr : 서울시 강남구 도곡동\n"
     ]
    }
   ],
   "metadata": {}
  },
  {
   "cell_type": "markdown",
   "source": [
    "## 34.3 비공개 속성"
   ],
   "metadata": {}
  },
  {
   "cell_type": "code",
   "execution_count": 28,
   "source": [
    "maria.age = 30\r\n",
    "print(maria)"
   ],
   "outputs": [
    {
     "output_type": "stream",
     "name": "stdout",
     "text": [
      "hello : 안녕하세요?, name : 마리아, age : 30, addr : 서울시 강남구 도곡동\n"
     ]
    }
   ],
   "metadata": {}
  },
  {
   "cell_type": "code",
   "execution_count": 31,
   "source": [
    "class Person:\r\n",
    "    def __init__(self, name, age, addr, wallet):\r\n",
    "        self.name = name\r\n",
    "        self.age = age\r\n",
    "        self.addr = addr\r\n",
    "        self.__wallet = wallet      # __를 붙이면 비공개 속성으로 지정된다.\r\n",
    "\r\n",
    "    def greeting(self):\r\n",
    "        print(f'안녕하세요 저는 {self.name} 입니다.')\r\n",
    "\r\n",
    "    def pay(self, amount):\r\n",
    "        if self.__wallet - amount < 0:\r\n",
    "            print(\"지갑에 돈이 부족합니다\")\r\n",
    "            return\r\n",
    "        self.__wallet = amount\r\n",
    "        print(\"지갑에 남은돈은 {} 입니다.\".format(self.__wallet))\r\n",
    "        \r\n",
    "    def __str__(self):\r\n",
    "        return 'name : {}, age : {}, addr : {}, wallet : {}'.format(self.name, self.age, self.addr, self.__wallet)\r\n"
   ],
   "outputs": [],
   "metadata": {}
  },
  {
   "cell_type": "code",
   "execution_count": 32,
   "source": [
    "james = Person(\"제임스\", 22, \"서울시 강남구 역삼동\", 50000)\r\n",
    "james.greeting()"
   ],
   "outputs": [
    {
     "output_type": "stream",
     "name": "stdout",
     "text": [
      "안녕하세요 저는 제임스 입니다.\n"
     ]
    }
   ],
   "metadata": {}
  },
  {
   "cell_type": "code",
   "execution_count": 33,
   "source": [
    "# __wallet은 비공개 속성으로 변경 불가 하다.\r\n",
    "james.__wallet = 1000000"
   ],
   "outputs": [],
   "metadata": {}
  },
  {
   "cell_type": "code",
   "execution_count": 34,
   "source": [
    "print(james)"
   ],
   "outputs": [
    {
     "output_type": "stream",
     "name": "stdout",
     "text": [
      "name : 제임스, age : 22, addr : 서울시 강남구 역삼동, wallet : 50000\n"
     ]
    }
   ],
   "metadata": {}
  },
  {
   "cell_type": "markdown",
   "source": [
    "### 비공개 속성값을 바꿀때"
   ],
   "metadata": {}
  },
  {
   "cell_type": "code",
   "execution_count": null,
   "source": [
    "james.pay(5000)"
   ],
   "outputs": [],
   "metadata": {}
  },
  {
   "cell_type": "code",
   "execution_count": 89,
   "source": [
    "class Account:\r\n",
    "    def __init__(self, accno, owner, balance):\r\n",
    "        if len(accno)>6 or len(accno)<0:\r\n",
    "            print(\"계좌번호를 확인해 주세요\")\r\n",
    "            return\r\n",
    "        self.accno = accno\r\n",
    "        self.owner = owner\r\n",
    "        self.__balance = balance      # __를 붙이면 비공개 속성으로 지정된다.\r\n",
    "\r\n",
    "    #입금\r\n",
    "    def deposit(self, amount):\r\n",
    "        if self.__balance + amount > 10000000:\r\n",
    "            print(\"잔액이 1천만원을 넘을 수 없습니다 \")\r\n",
    "            return\r\n",
    "        self.__balance += amount\r\n",
    "        print(\"지갑에 남은돈은 {} 입니다.\".format(self.__balance))            \r\n",
    "\r\n",
    "    #출금\r\n",
    "    def withdraw(self, amount):\r\n",
    "        if self.__balance - amount < 0:\r\n",
    "            print(\"잔액이 부족합니다\")\r\n",
    "            return\r\n",
    "        self.__balance -= amount\r\n",
    "        print(\"지갑에 남은돈은 {} 입니다.\".format(self.__balance))\r\n",
    "        \r\n",
    "    def __str__(self):\r\n",
    "        return 'accno : {}, owner : {}, balance : {}'.format(self.accno, self.owner, self.__balance)"
   ],
   "outputs": [],
   "metadata": {}
  },
  {
   "cell_type": "code",
   "execution_count": 113,
   "source": [
    "mmmmm = Account(\"12121\", \"Thor\", 50000)\r\n",
    "kkkkk = Account(\"22222\", \"ffff\", 898900)"
   ],
   "outputs": [],
   "metadata": {}
  },
  {
   "cell_type": "code",
   "execution_count": 115,
   "source": [
    "#mmmmm.withdraw(100000)\r\n",
    "#mmmmm.withdraw(150000)\r\n",
    "print(mmmmm)\r\n",
    "print(kkkkk)"
   ],
   "outputs": [
    {
     "output_type": "stream",
     "name": "stdout",
     "text": [
      "accno : 12121, owner : Thor, balance : 50000\n",
      "accno : 22222, owner : ffff, balance : 898900\n"
     ]
    }
   ],
   "metadata": {}
  },
  {
   "cell_type": "code",
   "execution_count": 116,
   "source": [
    "acc_list = [mmmmm, kkkkk]\r\n",
    "\r\n",
    "for account in acc_list:\r\n",
    "    print(account)"
   ],
   "outputs": [
    {
     "output_type": "stream",
     "name": "stdout",
     "text": [
      "accno : 12121, owner : Thor, balance : 50000\n",
      "accno : 22222, owner : ffff, balance : 898900\n"
     ]
    }
   ],
   "metadata": {}
  },
  {
   "cell_type": "markdown",
   "source": [
    "### 1: 계좌생성, 2: 계좌목록, 3: 입금. 4: 출금, 5: 종료"
   ],
   "metadata": {}
  },
  {
   "cell_type": "code",
   "execution_count": 128,
   "source": [
    "def check_duplicate(ano):\r\n",
    "    for acc in acc_list:\r\n",
    "        if ano == acc.accno:\r\n",
    "            return True\r\n",
    "    return False"
   ],
   "outputs": [],
   "metadata": {}
  },
  {
   "cell_type": "code",
   "execution_count": 129,
   "source": [
    "def create_account():\r\n",
    "    while True:\r\n",
    "        s = input(\" 계좌번호 성명 금액> \").split()\r\n",
    "        accno, owner = s[0], s[1]\r\n",
    "        amount = int(s[2])\r\n",
    "        if not check_duplicate(accno):\r\n",
    "            break\r\n",
    "    acc = Account(accno, owner, amount)\r\n",
    "    acc_list.append(acc)"
   ],
   "outputs": [],
   "metadata": {}
  },
  {
   "cell_type": "code",
   "execution_count": 130,
   "source": [
    "def deposit_account():\r\n",
    "    s = input(\"계좌번호 금액 > \").split()\r\n",
    "    ano, amount = s[0], int(s[1])\r\n",
    "    for acc in acc_list:\r\n",
    "        if acc.ano == ano:\r\n",
    "            acc.deposit(amount)\r\n",
    "            return"
   ],
   "outputs": [],
   "metadata": {}
  },
  {
   "cell_type": "code",
   "execution_count": 131,
   "source": [
    "def withdraw_account():\r\n",
    "    s = input(\"계좌번호 금액 > \").split()\r\n",
    "    ano, amount = s[0], int(s[1])\r\n",
    "    for acc in acc_list:\r\n",
    "        if acc.ano == ano:\r\n",
    "            acc.withdraw(amount)\r\n",
    "            return"
   ],
   "outputs": [],
   "metadata": {}
  },
  {
   "cell_type": "code",
   "execution_count": 133,
   "source": [
    "while True:\r\n",
    "    menu = int(input(\"1:계좌생성, 2:계좌목록, 3:입금. 4:출금, 5:종료> \"))\r\n",
    "    if menu == 5:\r\n",
    "        break\r\n",
    "    if menu == 1:\r\n",
    "        create_account()\r\n",
    "    elif menu ==2:\r\n",
    "        for account in acc_list:\r\n",
    "            print(account)\r\n",
    "    elif menu ==3:\r\n",
    "        deposit_account()\r\n",
    "    elif menu ==4:\r\n",
    "        withdraw_account()\r\n",
    "    else:\r\n",
    "        print(\"잘못된 명령어 입니다.\")"
   ],
   "outputs": [
    {
     "output_type": "error",
     "ename": "IndexError",
     "evalue": "list index out of range",
     "traceback": [
      "\u001b[1;31m---------------------------------------------------------------------------\u001b[0m",
      "\u001b[1;31mIndexError\u001b[0m                                Traceback (most recent call last)",
      "\u001b[1;32m<ipython-input-133-67c253c684d6>\u001b[0m in \u001b[0;36m<module>\u001b[1;34m\u001b[0m\n\u001b[0;32m      4\u001b[0m         \u001b[1;32mbreak\u001b[0m\u001b[1;33m\u001b[0m\u001b[1;33m\u001b[0m\u001b[0m\n\u001b[0;32m      5\u001b[0m     \u001b[1;32mif\u001b[0m \u001b[0mmenu\u001b[0m \u001b[1;33m==\u001b[0m \u001b[1;36m1\u001b[0m\u001b[1;33m:\u001b[0m\u001b[1;33m\u001b[0m\u001b[1;33m\u001b[0m\u001b[0m\n\u001b[1;32m----> 6\u001b[1;33m         \u001b[0mcreate_account\u001b[0m\u001b[1;33m(\u001b[0m\u001b[1;33m)\u001b[0m\u001b[1;33m\u001b[0m\u001b[1;33m\u001b[0m\u001b[0m\n\u001b[0m\u001b[0;32m      7\u001b[0m     \u001b[1;32melif\u001b[0m \u001b[0mmenu\u001b[0m \u001b[1;33m==\u001b[0m\u001b[1;36m2\u001b[0m\u001b[1;33m:\u001b[0m\u001b[1;33m\u001b[0m\u001b[1;33m\u001b[0m\u001b[0m\n\u001b[0;32m      8\u001b[0m         \u001b[1;32mfor\u001b[0m \u001b[0maccount\u001b[0m \u001b[1;32min\u001b[0m \u001b[0macc_list\u001b[0m\u001b[1;33m:\u001b[0m\u001b[1;33m\u001b[0m\u001b[1;33m\u001b[0m\u001b[0m\n",
      "\u001b[1;32m<ipython-input-129-80bd2bcd96fb>\u001b[0m in \u001b[0;36mcreate_account\u001b[1;34m()\u001b[0m\n\u001b[0;32m      2\u001b[0m     \u001b[1;32mwhile\u001b[0m \u001b[1;32mTrue\u001b[0m\u001b[1;33m:\u001b[0m\u001b[1;33m\u001b[0m\u001b[1;33m\u001b[0m\u001b[0m\n\u001b[0;32m      3\u001b[0m         \u001b[0ms\u001b[0m \u001b[1;33m=\u001b[0m \u001b[0minput\u001b[0m\u001b[1;33m(\u001b[0m\u001b[1;34m\" 계좌번호 성명 금액> \"\u001b[0m\u001b[1;33m)\u001b[0m\u001b[1;33m.\u001b[0m\u001b[0msplit\u001b[0m\u001b[1;33m(\u001b[0m\u001b[1;33m)\u001b[0m\u001b[1;33m\u001b[0m\u001b[1;33m\u001b[0m\u001b[0m\n\u001b[1;32m----> 4\u001b[1;33m         \u001b[0maccno\u001b[0m\u001b[1;33m,\u001b[0m \u001b[0mowner\u001b[0m \u001b[1;33m=\u001b[0m \u001b[0ms\u001b[0m\u001b[1;33m[\u001b[0m\u001b[1;36m0\u001b[0m\u001b[1;33m]\u001b[0m\u001b[1;33m,\u001b[0m \u001b[0ms\u001b[0m\u001b[1;33m[\u001b[0m\u001b[1;36m1\u001b[0m\u001b[1;33m]\u001b[0m\u001b[1;33m\u001b[0m\u001b[1;33m\u001b[0m\u001b[0m\n\u001b[0m\u001b[0;32m      5\u001b[0m         \u001b[0mamount\u001b[0m \u001b[1;33m=\u001b[0m \u001b[0mint\u001b[0m\u001b[1;33m(\u001b[0m\u001b[0ms\u001b[0m\u001b[1;33m[\u001b[0m\u001b[1;36m2\u001b[0m\u001b[1;33m]\u001b[0m\u001b[1;33m)\u001b[0m\u001b[1;33m\u001b[0m\u001b[1;33m\u001b[0m\u001b[0m\n\u001b[0;32m      6\u001b[0m         \u001b[1;32mif\u001b[0m \u001b[1;32mnot\u001b[0m \u001b[0mcheck_duplicate\u001b[0m\u001b[1;33m(\u001b[0m\u001b[0maccno\u001b[0m\u001b[1;33m)\u001b[0m\u001b[1;33m:\u001b[0m\u001b[1;33m\u001b[0m\u001b[1;33m\u001b[0m\u001b[0m\n",
      "\u001b[1;31mIndexError\u001b[0m: list index out of range"
     ]
    }
   ],
   "metadata": {}
  }
 ],
 "metadata": {
  "orig_nbformat": 4,
  "language_info": {
   "name": "python",
   "version": "3.8.10",
   "mimetype": "text/x-python",
   "codemirror_mode": {
    "name": "ipython",
    "version": 3
   },
   "pygments_lexer": "ipython3",
   "nbconvert_exporter": "python",
   "file_extension": ".py"
  },
  "kernelspec": {
   "name": "python3",
   "display_name": "Python 3.8.10 64-bit ('base': conda)"
  },
  "interpreter": {
   "hash": "b3ba2566441a7c06988d0923437866b63cedc61552a5af99d1f4fb67d367b25f"
  }
 },
 "nbformat": 4,
 "nbformat_minor": 2
}