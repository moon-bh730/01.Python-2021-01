{
 "cells": [
  {
   "cell_type": "markdown",
   "source": [
    "# Unit 36. 상속(Inheritance)"
   ],
   "metadata": {}
  },
  {
   "cell_type": "markdown",
   "source": [
    "## 36.1 기본상속"
   ],
   "metadata": {}
  },
  {
   "cell_type": "code",
   "execution_count": 1,
   "source": [
    "class Person:\r\n",
    "    def greeting(self):\r\n",
    "        print(\"잘살고 있니?\")\r\n",
    "\r\n",
    "class Student(Person):\r\n",
    "    def study(self):\r\n",
    "        print(\"공부하기\")"
   ],
   "outputs": [],
   "metadata": {}
  },
  {
   "cell_type": "code",
   "execution_count": 3,
   "source": [
    "james = Student()\r\n",
    "james.greeting()\r\n"
   ],
   "outputs": [
    {
     "output_type": "stream",
     "name": "stdout",
     "text": [
      "잘살고 있니?\n"
     ]
    }
   ],
   "metadata": {}
  },
  {
   "cell_type": "code",
   "execution_count": 4,
   "source": [
    "james.study()"
   ],
   "outputs": [
    {
     "output_type": "stream",
     "name": "stdout",
     "text": [
      "공부하기\n"
     ]
    }
   ],
   "metadata": {}
  },
  {
   "cell_type": "markdown",
   "source": [
    "## 36.3 기반 클래스의 속성 사용하기"
   ],
   "metadata": {}
  },
  {
   "cell_type": "code",
   "execution_count": 6,
   "source": [
    "class Person:\r\n",
    "    def __init__(self):\r\n",
    "        self.hello = \"안녕하세요?\"\r\n",
    "        print(\"Person.__init__\")\r\n",
    "\r\n",
    "class Student(Person):\r\n",
    "    def __init__(self):\r\n",
    "        self.school = \"파이썬\"\r\n",
    "        print(\"Student.__init__\")"
   ],
   "outputs": [],
   "metadata": {}
  },
  {
   "cell_type": "code",
   "execution_count": 7,
   "source": [
    "james = Student()\r\n",
    "james.school"
   ],
   "outputs": [
    {
     "output_type": "stream",
     "name": "stdout",
     "text": [
      "Student.__init__\n"
     ]
    },
    {
     "output_type": "execute_result",
     "data": {
      "text/plain": [
       "'파이썬'"
      ]
     },
     "metadata": {},
     "execution_count": 7
    }
   ],
   "metadata": {}
  },
  {
   "cell_type": "code",
   "execution_count": 8,
   "source": [
    "james.hello"
   ],
   "outputs": [
    {
     "output_type": "error",
     "ename": "AttributeError",
     "evalue": "'Student' object has no attribute 'hello'",
     "traceback": [
      "\u001b[1;31m---------------------------------------------------------------------------\u001b[0m",
      "\u001b[1;31mAttributeError\u001b[0m                            Traceback (most recent call last)",
      "\u001b[1;32m<ipython-input-8-da95e56173fd>\u001b[0m in \u001b[0;36m<module>\u001b[1;34m\u001b[0m\n\u001b[1;32m----> 1\u001b[1;33m \u001b[0mjames\u001b[0m\u001b[1;33m.\u001b[0m\u001b[0mhello\u001b[0m\u001b[1;33m\u001b[0m\u001b[1;33m\u001b[0m\u001b[0m\n\u001b[0m",
      "\u001b[1;31mAttributeError\u001b[0m: 'Student' object has no attribute 'hello'"
     ]
    }
   ],
   "metadata": {}
  },
  {
   "cell_type": "markdown",
   "source": [
    "### super()로 기반 클래스 초기화"
   ],
   "metadata": {}
  },
  {
   "cell_type": "code",
   "execution_count": 9,
   "source": [
    "class Person:\r\n",
    "    def __init__(self):\r\n",
    "        self.hello = \"안녕하세요?\"\r\n",
    "        print(\"Person.__init__\")\r\n",
    "\r\n",
    "class Student(Person):\r\n",
    "    def __init__(self):\r\n",
    "        super().__init__()\r\n",
    "        self.school = \"파이썬\"\r\n",
    "        print(\"Student.__init__\")"
   ],
   "outputs": [],
   "metadata": {}
  },
  {
   "cell_type": "code",
   "execution_count": 10,
   "source": [
    "james = Student()\r\n",
    "james.hello"
   ],
   "outputs": [
    {
     "output_type": "stream",
     "name": "stdout",
     "text": [
      "Person.__init__\n",
      "Student.__init__\n"
     ]
    },
    {
     "output_type": "execute_result",
     "data": {
      "text/plain": [
       "'안녕하세요?'"
      ]
     },
     "metadata": {},
     "execution_count": 10
    }
   ],
   "metadata": {}
  },
  {
   "cell_type": "code",
   "execution_count": 11,
   "source": [
    "class Person:\r\n",
    "    def __init__(self):\r\n",
    "        self.hello = \"안녕하세요?\"\r\n",
    "        print(\"Person.__init__\")\r\n",
    "\r\n",
    "class Student(Person):\r\n",
    "    pass"
   ],
   "outputs": [],
   "metadata": {}
  },
  {
   "cell_type": "code",
   "execution_count": 12,
   "source": [
    "maria = Student()\r\n",
    "maria.hello"
   ],
   "outputs": [
    {
     "output_type": "stream",
     "name": "stdout",
     "text": [
      "Person.__init__\n"
     ]
    },
    {
     "output_type": "execute_result",
     "data": {
      "text/plain": [
       "'안녕하세요?'"
      ]
     },
     "metadata": {},
     "execution_count": 12
    }
   ],
   "metadata": {}
  },
  {
   "cell_type": "markdown",
   "source": [
    "## 36.4 Method Overriding\r\n",
    "    - 오버라이딩(overriding)은 무시하다, 우선하다라는 뜻을 가지고 있는데 말 그대로 기반 클래스의 메서드를 무시하고 새로운 메서드를 만든다"
   ],
   "metadata": {}
  },
  {
   "cell_type": "code",
   "execution_count": 15,
   "source": [
    "class Person:\r\n",
    "    def greeting(self):\r\n",
    "        print('안녕하세요.')\r\n",
    " \r\n",
    "class Student(Person):\r\n",
    "    def greeting(self):\r\n",
    "        print('안녕하세요. 저는 파이썬 스터디 학생입니다.')"
   ],
   "outputs": [],
   "metadata": {}
  },
  {
   "cell_type": "code",
   "execution_count": 14,
   "source": [
    "james = Student()\r\n",
    "james.greeting()"
   ],
   "outputs": [
    {
     "output_type": "stream",
     "name": "stdout",
     "text": [
      "안녕하세요. 저는 파이썬 스터디 학생입니다.\n"
     ]
    }
   ],
   "metadata": {}
  },
  {
   "cell_type": "code",
   "execution_count": 20,
   "source": [
    "class Person:\r\n",
    "    def greeting(self):\r\n",
    "        print('안녕하세요.')\r\n",
    " \r\n",
    "class Student(Person):\r\n",
    "    def greeting(self):\r\n",
    "        super().greeting()\r\n",
    "        print('안녕하세요. 저는 파이썬 스터디 학생입니다.')"
   ],
   "outputs": [],
   "metadata": {}
  },
  {
   "cell_type": "code",
   "execution_count": 21,
   "source": [
    "maria = Student()\r\n",
    "maria.greeting()"
   ],
   "outputs": [
    {
     "output_type": "stream",
     "name": "stdout",
     "text": [
      "안녕하세요.\n",
      "안녕하세요. 저는 파이썬 스터디 학생입니다.\n"
     ]
    }
   ],
   "metadata": {}
  },
  {
   "cell_type": "markdown",
   "source": [
    "## 36.6 추상 클래스 - Interface\r\n",
    "    - 메서드의 목록만 가진 클래스"
   ],
   "metadata": {}
  },
  {
   "cell_type": "code",
   "execution_count": 27,
   "source": [
    "from abc import *\r\n",
    "\r\n",
    "# abstract base class 추상클래스 선언형식\r\n",
    "class StudendBase(metaclass = ABCMeta):\r\n",
    "    @abstractmethod                 #decorator\r\n",
    "    def study(self):\r\n",
    "        pass\r\n",
    "\r\n",
    "    @abstractmethod\r\n",
    "    def go_to_school(self):\r\n",
    "        pass\r\n",
    "\r\n"
   ],
   "outputs": [],
   "metadata": {}
  },
  {
   "cell_type": "code",
   "execution_count": 28,
   "source": [
    "class Student(StudendBase):\r\n",
    "    def study(self):\r\n",
    "        print(\"공부 시작!\")"
   ],
   "outputs": [],
   "metadata": {}
  },
  {
   "cell_type": "code",
   "execution_count": 29,
   "source": [
    "james = Student()\r\n",
    "james.study()"
   ],
   "outputs": [
    {
     "output_type": "error",
     "ename": "TypeError",
     "evalue": "Can't instantiate abstract class Student with abstract methods go_to_school",
     "traceback": [
      "\u001b[1;31m---------------------------------------------------------------------------\u001b[0m",
      "\u001b[1;31mTypeError\u001b[0m                                 Traceback (most recent call last)",
      "\u001b[1;32m<ipython-input-29-82a582c6ea7c>\u001b[0m in \u001b[0;36m<module>\u001b[1;34m\u001b[0m\n\u001b[1;32m----> 1\u001b[1;33m \u001b[0mjames\u001b[0m \u001b[1;33m=\u001b[0m \u001b[0mStudent\u001b[0m\u001b[1;33m(\u001b[0m\u001b[1;33m)\u001b[0m\u001b[1;33m\u001b[0m\u001b[1;33m\u001b[0m\u001b[0m\n\u001b[0m\u001b[0;32m      2\u001b[0m \u001b[0mjames\u001b[0m\u001b[1;33m.\u001b[0m\u001b[0mstudy\u001b[0m\u001b[1;33m(\u001b[0m\u001b[1;33m)\u001b[0m\u001b[1;33m\u001b[0m\u001b[1;33m\u001b[0m\u001b[0m\n",
      "\u001b[1;31mTypeError\u001b[0m: Can't instantiate abstract class Student with abstract methods go_to_school"
     ]
    }
   ],
   "metadata": {}
  },
  {
   "cell_type": "code",
   "execution_count": 30,
   "source": [
    "class Student(StudendBase):\r\n",
    "    def study(self):\r\n",
    "        print(\"공부 스타트!\")\r\n",
    "    def go_to_school(self):\r\n",
    "        print(\"학교 가기!!\")"
   ],
   "outputs": [],
   "metadata": {}
  },
  {
   "cell_type": "code",
   "execution_count": 34,
   "source": [
    "james = Student()\r\n",
    "james.study()\r\n",
    "james.go_to_school()"
   ],
   "outputs": [
    {
     "output_type": "stream",
     "name": "stdout",
     "text": [
      "공부 스타트!\n",
      "학교 가기!!\n"
     ]
    }
   ],
   "metadata": {}
  }
 ],
 "metadata": {
  "orig_nbformat": 4,
  "language_info": {
   "name": "python",
   "version": "3.8.10",
   "mimetype": "text/x-python",
   "codemirror_mode": {
    "name": "ipython",
    "version": 3
   },
   "pygments_lexer": "ipython3",
   "nbconvert_exporter": "python",
   "file_extension": ".py"
  },
  "kernelspec": {
   "name": "python3",
   "display_name": "Python 3.8.10 64-bit ('base': conda)"
  },
  "interpreter": {
   "hash": "b3ba2566441a7c06988d0923437866b63cedc61552a5af99d1f4fb67d367b25f"
  }
 },
 "nbformat": 4,
 "nbformat_minor": 2
}