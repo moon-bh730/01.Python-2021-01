{
  "nbformat": 4,
  "nbformat_minor": 0,
  "metadata": {
    "colab": {
      "name": "u15_elif.ipynb",
      "provenance": [],
      "collapsed_sections": []
    },
    "kernelspec": {
      "name": "python3",
      "display_name": "Python 3"
    },
    "language_info": {
      "name": "python"
    }
  },
  "cells": [
    {
      "cell_type": "markdown",
      "metadata": {
        "id": "chukHpZEn_G3"
      },
      "source": [
        "## Unit 15. elif\n"
      ]
    },
    {
      "cell_type": "code",
      "metadata": {
        "colab": {
          "base_uri": "https://localhost:8080/"
        },
        "id": "qw6T2WpHk0V9",
        "outputId": "230ac995-3f2a-48a8-e0de-a04ddb9fde90"
      },
      "source": [
        "x=15\n",
        "if x == 10:\n",
        "  print(\"It is 10.\")\n",
        "elif x == 20:\n",
        "  print(\"It is 20.\")\n",
        "else:\n",
        "  print(\"10, 20이 아닙니다.\")"
      ],
      "execution_count": 2,
      "outputs": [
        {
          "output_type": "stream",
          "text": [
            "10, 20이 아닙니다.\n"
          ],
          "name": "stdout"
        }
      ]
    },
    {
      "cell_type": "code",
      "metadata": {
        "colab": {
          "base_uri": "https://localhost:8080/"
        },
        "id": "OIHzd54GoqZx",
        "outputId": "0c7ad9f5-20b1-4670-e026-1da5a42f5124"
      },
      "source": [
        "# 숫자 - 입력, 3의 배수면 fizz 출력, 5의 배수면 buzz출력, 15의 배수면 fizzbuzz 출력\n",
        "# 15는 3,5,15의 배수이다\n",
        "\n",
        "i_num01 = int(input())\n",
        "\n",
        "if (i_num01 % 15) == 0:\n",
        "  print(\"fizzbuzz\")\n",
        "elif (i_num01 % 5) == 0:\n",
        "  print(\"buzz\")\n",
        "elif (i_num01 % 3) == 0:\n",
        "  print(\"fizz\")\n",
        "else:\n",
        "  print(i_num01)"
      ],
      "execution_count": 10,
      "outputs": [
        {
          "output_type": "stream",
          "text": [
            "15\n",
            "fizzbuzz\n"
          ],
          "name": "stdout"
        }
      ]
    },
    {
      "cell_type": "code",
      "metadata": {
        "colab": {
          "base_uri": "https://localhost:8080/"
        },
        "id": "ZQGMmPJOpHE3",
        "outputId": "5f917543-17cd-43e8-9ede-adae5fa95082"
      },
      "source": [
        "#간소화\n",
        "print(\"Fizz\"*(i_num01%3==0) + \"Buzz\"*(i_num01%5==0) or i_num01)\n"
      ],
      "execution_count": 14,
      "outputs": [
        {
          "output_type": "stream",
          "text": [
            "FizzBuzz\n"
          ],
          "name": "stdout"
        }
      ]
    },
    {
      "cell_type": "code",
      "metadata": {
        "id": "HrhssGb7rxVx"
      },
      "source": [
        ""
      ],
      "execution_count": null,
      "outputs": []
    }
  ]
}