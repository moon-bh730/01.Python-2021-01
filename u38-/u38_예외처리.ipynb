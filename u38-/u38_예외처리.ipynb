{
 "cells": [
  {
   "cell_type": "code",
   "execution_count": 1,
   "source": [
    "a = [1,2,3]\r\n",
    "a[4]"
   ],
   "outputs": [
    {
     "output_type": "error",
     "ename": "IndexError",
     "evalue": "list index out of range",
     "traceback": [
      "\u001b[1;31m---------------------------------------------------------------------------\u001b[0m",
      "\u001b[1;31mIndexError\u001b[0m                                Traceback (most recent call last)",
      "\u001b[1;32m<ipython-input-1-9bf40502c798>\u001b[0m in \u001b[0;36m<module>\u001b[1;34m\u001b[0m\n\u001b[0;32m      1\u001b[0m \u001b[0ma\u001b[0m \u001b[1;33m=\u001b[0m \u001b[1;33m[\u001b[0m\u001b[1;36m1\u001b[0m\u001b[1;33m,\u001b[0m\u001b[1;36m2\u001b[0m\u001b[1;33m,\u001b[0m\u001b[1;36m3\u001b[0m\u001b[1;33m]\u001b[0m\u001b[1;33m\u001b[0m\u001b[1;33m\u001b[0m\u001b[0m\n\u001b[1;32m----> 2\u001b[1;33m \u001b[0ma\u001b[0m\u001b[1;33m[\u001b[0m\u001b[1;36m4\u001b[0m\u001b[1;33m]\u001b[0m\u001b[1;33m\u001b[0m\u001b[1;33m\u001b[0m\u001b[0m\n\u001b[0m",
      "\u001b[1;31mIndexError\u001b[0m: list index out of range"
     ]
    }
   ],
   "metadata": {}
  },
  {
   "cell_type": "markdown",
   "source": [
    "## 38.1 try except"
   ],
   "metadata": {}
  },
  {
   "cell_type": "code",
   "execution_count": 2,
   "source": [
    "a = [1,2,3]\r\n",
    "try:\r\n",
    "    a[4]\r\n",
    "except:\r\n",
    "    print(\"예외 발생\")\r\n"
   ],
   "outputs": [
    {
     "output_type": "stream",
     "name": "stdout",
     "text": [
      "예외 발생\n"
     ]
    }
   ],
   "metadata": {}
  },
  {
   "cell_type": "code",
   "execution_count": null,
   "source": [
    "a = [1,2,3]\r\n",
    "try:\r\n",
    "    a[4]\r\n",
    "    except IndexError:    \r\n",
    "    print(\"Index Error 발생\")\r\n",
    "except IndexError:    \r\n",
    "    print(\"Index Error 발생\")"
   ],
   "outputs": [],
   "metadata": {}
  },
  {
   "cell_type": "code",
   "execution_count": 3,
   "source": [
    "try:\r\n",
    "    int(\"10d\")\r\n",
    "except ZeroDivisionError:\r\n",
    "    print(\"0으로 나눌 수 없습니다.\")\r\n",
    "except IndexError:    \r\n",
    "    print(\"Index Error 발생\")\r\n",
    "except ValueError:\r\n",
    "    print(\"Value Error 발생\")"
   ],
   "outputs": [
    {
     "output_type": "stream",
     "name": "stdout",
     "text": [
      "Value Error 발생\n"
     ]
    }
   ],
   "metadata": {}
  },
  {
   "cell_type": "markdown",
   "source": [
    "### 예외의 에러 메시지 받아오기"
   ],
   "metadata": {}
  },
  {
   "cell_type": "code",
   "execution_count": 4,
   "source": [
    "try:\r\n",
    "    int(\"10d\")\r\n",
    "except Exception as e:      # alias\r\n",
    "    print(e)                # Exception 객체의 __str__() method"
   ],
   "outputs": [
    {
     "output_type": "stream",
     "name": "stdout",
     "text": [
      "invalid literal for int() with base 10: '10d'\n"
     ]
    }
   ],
   "metadata": {}
  },
  {
   "cell_type": "markdown",
   "source": [
    "## 38.2 else-finally"
   ],
   "metadata": {}
  },
  {
   "cell_type": "code",
   "execution_count": 6,
   "source": [
    "try:\r\n",
    "    x = int(input(\"나눌 숫자 입력 > \"))\r\n",
    "    y = 10 / x\r\n",
    "except Exception as e:\r\n",
    "    print(e)\r\n",
    "else:\r\n",
    "    print(y)"
   ],
   "outputs": [
    {
     "output_type": "stream",
     "name": "stdout",
     "text": [
      "division by zero\n"
     ]
    }
   ],
   "metadata": {}
  },
  {
   "cell_type": "markdown",
   "source": [
    "### 예외와 상관없이 항상 실행 finally"
   ],
   "metadata": {}
  },
  {
   "cell_type": "code",
   "execution_count": 8,
   "source": [
    "try:\r\n",
    "    x = int(input(\"나눌 숫자 입력 > \"))\r\n",
    "    y = 10 / x\r\n",
    "except Exception as e:\r\n",
    "    print(e)\r\n",
    "else:\r\n",
    "    print(y)\r\n",
    "finally:\r\n",
    "    print(\"코드 실행 종료\")"
   ],
   "outputs": [
    {
     "output_type": "stream",
     "name": "stdout",
     "text": [
      "division by zero\n",
      "코드 실행 종료\n"
     ]
    }
   ],
   "metadata": {}
  },
  {
   "cell_type": "markdown",
   "source": [
    "## 38.3 예외 발생 시키기"
   ],
   "metadata": {}
  },
  {
   "cell_type": "code",
   "execution_count": 11,
   "source": [
    "import random\r\n",
    "try:\r\n",
    "    x = random.randint(1,10)\r\n",
    "    print(x)    \r\n",
    "    if x % 3 != 0:\r\n",
    "        raise Exception(\"3의 배수가 아닙니다\")\r\n",
    "except Exception as e:\r\n",
    "    print(\"예외 발생\", e)"
   ],
   "outputs": [
    {
     "output_type": "stream",
     "name": "stdout",
     "text": [
      "8\n",
      "예외 발생 3의 배수가 아닙니다\n"
     ]
    }
   ],
   "metadata": {}
  },
  {
   "cell_type": "code",
   "execution_count": 12,
   "source": [
    "def multiple11(x):\r\n",
    "    if x % 11 != 0:\r\n",
    "        raise Exception(\"11의 배수가 아닙니다.\")\r\n",
    "    print(x)"
   ],
   "outputs": [],
   "metadata": {}
  },
  {
   "cell_type": "code",
   "execution_count": 13,
   "source": [
    "try:\r\n",
    "    multiple11(100)\r\n",
    "except Exception as e:\r\n",
    "    print(\"예외발생 - \", e)"
   ],
   "outputs": [
    {
     "output_type": "stream",
     "name": "stdout",
     "text": [
      "예외발생 -  11의 배수가 아닙니다.\n"
     ]
    }
   ],
   "metadata": {}
  },
  {
   "cell_type": "code",
   "execution_count": 15,
   "source": [
    "try:        \r\n",
    "    for():\r\n",
    "        for():\r\n",
    "            for():\r\n",
    "                if 조건:\r\n",
    "                    # 다중 loop 완전 탈출\r\n",
    "                    raise Exception()\r\n",
    "except:\r\n",
    "    print(\"Escape\")"
   ],
   "outputs": [
    {
     "output_type": "error",
     "ename": "SyntaxError",
     "evalue": "invalid syntax (<ipython-input-15-c7f3e2398d66>, line 2)",
     "traceback": [
      "\u001b[1;36m  File \u001b[1;32m\"<ipython-input-15-c7f3e2398d66>\"\u001b[1;36m, line \u001b[1;32m2\u001b[0m\n\u001b[1;33m    for():\u001b[0m\n\u001b[1;37m         ^\u001b[0m\n\u001b[1;31mSyntaxError\u001b[0m\u001b[1;31m:\u001b[0m invalid syntax\n"
     ]
    }
   ],
   "metadata": {}
  },
  {
   "cell_type": "markdown",
   "source": [
    "## 38.4 예외 만들기"
   ],
   "metadata": {}
  },
  {
   "cell_type": "markdown",
   "source": [
    "# Exception 객체를 상속받아 객체를 만들면 됩니다."
   ],
   "metadata": {}
  }
 ],
 "metadata": {
  "orig_nbformat": 4,
  "language_info": {
   "name": "python",
   "version": "3.8.10",
   "mimetype": "text/x-python",
   "codemirror_mode": {
    "name": "ipython",
    "version": 3
   },
   "pygments_lexer": "ipython3",
   "nbconvert_exporter": "python",
   "file_extension": ".py"
  },
  "kernelspec": {
   "name": "python3",
   "display_name": "Python 3.8.10 64-bit ('base': conda)"
  },
  "interpreter": {
   "hash": "b3ba2566441a7c06988d0923437866b63cedc61552a5af99d1f4fb67d367b25f"
  }
 },
 "nbformat": 4,
 "nbformat_minor": 2
}