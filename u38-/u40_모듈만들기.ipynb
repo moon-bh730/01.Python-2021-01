{
 "cells": [
  {
   "cell_type": "markdown",
   "source": [
    "## 45.1 모듈 만들기"
   ],
   "metadata": {}
  },
  {
   "cell_type": "code",
   "execution_count": 11,
   "source": [
    "import u45_square2 as sq\r\n",
    "\r\n",
    "print(sq.base)\r\n",
    "print(sq.square(10))"
   ],
   "outputs": [
    {
     "output_type": "stream",
     "name": "stdout",
     "text": [
      "2\n",
      "1024\n"
     ]
    }
   ],
   "metadata": {}
  },
  {
   "cell_type": "code",
   "execution_count": 4,
   "source": [
    "!ls -l"
   ],
   "outputs": [
    {
     "output_type": "stream",
     "name": "stderr",
     "text": [
      "'ls'��(��) ���� �Ǵ� �ܺ� ����, ������ �� �ִ� ���α׷�, �Ǵ�\n",
      "��ġ ������ �ƴմϴ�.\n"
     ]
    }
   ],
   "metadata": {}
  },
  {
   "cell_type": "code",
   "execution_count": 3,
   "source": [
    "#list\r\n",
    "#! - shell escape를 통해서 \r\n",
    "!ls -l __pycache__"
   ],
   "outputs": [
    {
     "output_type": "stream",
     "name": "stderr",
     "text": [
      "'ls'��(��) ���� �Ǵ� �ܺ� ����, ������ �� �ִ� ���α׷�, �Ǵ�\n",
      "��ġ ������ �ƴմϴ�.\n"
     ]
    }
   ],
   "metadata": {}
  },
  {
   "cell_type": "markdown",
   "source": [
    "### 클래스"
   ],
   "metadata": {}
  },
  {
   "cell_type": "code",
   "execution_count": 12,
   "source": [
    "from u45_person import Person\r\n",
    "\r\n",
    "maria = Person(\"마리아\", 25, \"서울 강남 도곡\")\r\n",
    "maria.greeting()"
   ],
   "outputs": [
    {
     "output_type": "stream",
     "name": "stdout",
     "text": [
      "안녕하세요. 저는 마리아입니다.\n"
     ]
    }
   ],
   "metadata": {}
  },
  {
   "cell_type": "markdown",
   "source": [
    "## 45.2 모듈과 시작점"
   ],
   "metadata": {}
  },
  {
   "cell_type": "code",
   "execution_count": 13,
   "source": [
    "import u45_hello"
   ],
   "outputs": [
    {
     "output_type": "stream",
     "name": "stdout",
     "text": [
      "hello 모듈 시작\n",
      "hello.py __name__: u45_hello\n",
      "hello 모듈 끝\n"
     ]
    }
   ],
   "metadata": {}
  },
  {
   "cell_type": "code",
   "execution_count": 14,
   "source": [
    "!python u45_hello.py"
   ],
   "outputs": [
    {
     "output_type": "stream",
     "name": "stdout",
     "text": [
      "hello 모듈 시작\n",
      "hello.py __name__: __main__\n",
      "hello 모듈 끝\n"
     ]
    }
   ],
   "metadata": {}
  },
  {
   "cell_type": "markdown",
   "source": [
    "### Account 클래스를 bank 디렉토리 밑에 util.py라는 이름으로 사용"
   ],
   "metadata": {}
  },
  {
   "cell_type": "code",
   "execution_count": 17,
   "source": [
    "!mkdir bank"
   ],
   "outputs": [],
   "metadata": {}
  },
  {
   "cell_type": "code",
   "execution_count": 18,
   "source": [
    "!dir/w"
   ],
   "outputs": [
    {
     "output_type": "stream",
     "name": "stdout",
     "text": [
      " D ����̺��� ����: �� ����\n",
      " ���� �Ϸ� ��ȣ: AAFB-582F\n",
      "\n",
      " d:\\Workspace\\Python-2021\\u38- ���͸�\n",
      "\n",
      "[.]                    [..]                   [bank]\n",
      "u38_����ó��.ipynb     u40_��⸸���.ipynb   u43_����ǥ����.ipynb\n",
      "u44_�����Ű��.ipynb   u45_hello.py           u45_person.py\n",
      "u45_square2.py         [__pycache__]          ����ȯ��.txt\n",
      "               8�� ����              27,037 ����Ʈ\n",
      "               4�� ���͸�  489,107,005,440 ����Ʈ ����\n"
     ]
    }
   ],
   "metadata": {}
  },
  {
   "cell_type": "code",
   "execution_count": 19,
   "source": [
    "from bank.u45_util import Account"
   ],
   "outputs": [],
   "metadata": {}
  },
  {
   "cell_type": "code",
   "execution_count": 20,
   "source": [
    "acc = Account(\"123456\", \"제임스\", 150000)\r\n",
    "print(acc)"
   ],
   "outputs": [
    {
     "output_type": "stream",
     "name": "stdout",
     "text": [
      "accno : 123456, owner : 제임스, balance : 150000\n"
     ]
    }
   ],
   "metadata": {}
  }
 ],
 "metadata": {
  "orig_nbformat": 4,
  "language_info": {
   "name": "python",
   "version": "3.8.10",
   "mimetype": "text/x-python",
   "codemirror_mode": {
    "name": "ipython",
    "version": 3
   },
   "pygments_lexer": "ipython3",
   "nbconvert_exporter": "python",
   "file_extension": ".py"
  },
  "kernelspec": {
   "name": "python3",
   "display_name": "Python 3.8.10 64-bit ('base': conda)"
  },
  "interpreter": {
   "hash": "b3ba2566441a7c06988d0923437866b63cedc61552a5af99d1f4fb67d367b25f"
  }
 },
 "nbformat": 4,
 "nbformat_minor": 2
}