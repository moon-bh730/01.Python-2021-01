{
  "nbformat": 4,
  "nbformat_minor": 2,
  "metadata": {
    "colab": {
      "name": "u10_리스트_튜플.ipynb",
      "provenance": [],
      "collapsed_sections": []
    },
    "kernelspec": {
      "name": "python3",
      "display_name": "Python 3.8.10 64-bit ('base': conda)"
    },
    "language_info": {
      "name": "python",
      "version": "3.8.10"
    },
    "interpreter": {
      "hash": "b3ba2566441a7c06988d0923437866b63cedc61552a5af99d1f4fb67d367b25f"
    }
  },
  "cells": [
    {
      "cell_type": "markdown",
      "source": [
        "# Unit 10. 리스트와 튜플\r\n",
        "- [] - 리스트\r\n",
        "- () - 튜플\r\n",
        "- {} - 딕셔너리, 세트(집합)\r\n",
        "\r\n",
        "- numpy에서 []는 array로 사용한다."
      ],
      "metadata": {
        "id": "kANV63f4g1ml"
      }
    },
    {
      "cell_type": "markdown",
      "source": [
        "## 10.1 리스트(list)\n"
      ],
      "metadata": {
        "id": "UrUSFn8ciGYk"
      }
    },
    {
      "cell_type": "code",
      "execution_count": null,
      "source": [
        "a = [22,33,44,55,66,77]\r\n",
        "a"
      ],
      "outputs": [
        {
          "output_type": "execute_result",
          "data": {
            "text/plain": [
              "[22, 33, 44, 55, 66, 77]"
            ]
          },
          "metadata": {
            "tags": []
          },
          "execution_count": 1
        }
      ],
      "metadata": {
        "colab": {
          "base_uri": "https://localhost:8080/"
        },
        "id": "gA5Bak6fftG-",
        "outputId": "9700fd1f-be62-4e2f-e7ea-94b749bd16ed"
      }
    },
    {
      "cell_type": "code",
      "execution_count": 7,
      "source": [
        "# 파이썬에서 다른 자료형을 리스트 엘리먼트로 구성이 가능하다\r\n",
        "person = [ 'james', 19 , 175.7, True, [22,33,44]]\r\n",
        "person"
      ],
      "outputs": [
        {
          "output_type": "execute_result",
          "data": {
            "text/plain": [
              "['james', 19, 175.7, True, [22, 33, 44]]"
            ]
          },
          "metadata": {
            "tags": []
          },
          "execution_count": 7
        }
      ],
      "metadata": {
        "colab": {
          "base_uri": "https://localhost:8080/"
        },
        "id": "cRI9yXlHiNeM",
        "outputId": "4ae0266b-7f47-479f-abbc-f3efec177963"
      }
    },
    {
      "cell_type": "code",
      "execution_count": 8,
      "source": [
        "#가독성? 다음과 같은 사용을 많이 한다., 순서는 보장되지 않는다.\r\n",
        "person_dic = {'name':'bob','age':22,'height':170.2,'is_mail':True,'bp':[110,65]}\r\n",
        "person_dic"
      ],
      "outputs": [
        {
          "output_type": "execute_result",
          "data": {
            "text/plain": [
              "{'age': 22, 'bp': [110, 65], 'height': 170.2, 'is_mail': True, 'name': 'bob'}"
            ]
          },
          "metadata": {
            "tags": []
          },
          "execution_count": 8
        }
      ],
      "metadata": {
        "colab": {
          "base_uri": "https://localhost:8080/"
        },
        "id": "vRVZNwVEilN4",
        "outputId": "c738854c-8ac1-49d4-fb9d-522715557e7d"
      }
    },
    {
      "cell_type": "markdown",
      "source": [
        "### 빈 리스트 만들기"
      ],
      "metadata": {
        "id": "lRYTzxg2j008"
      }
    },
    {
      "cell_type": "code",
      "execution_count": 9,
      "source": [
        "a = []\r\n",
        "b = list()\r\n",
        "a,b"
      ],
      "outputs": [
        {
          "output_type": "execute_result",
          "data": {
            "text/plain": [
              "([], [])"
            ]
          },
          "metadata": {
            "tags": []
          },
          "execution_count": 9
        }
      ],
      "metadata": {
        "colab": {
          "base_uri": "https://localhost:8080/"
        },
        "id": "lP_BvBzFjcSj",
        "outputId": "c9845c13-0c0f-4797-8ac7-baa4aa19f108"
      }
    },
    {
      "cell_type": "code",
      "execution_count": 10,
      "source": [
        "a,b = [],[]\r\n",
        "a,b"
      ],
      "outputs": [
        {
          "output_type": "execute_result",
          "data": {
            "text/plain": [
              "([], [])"
            ]
          },
          "metadata": {
            "tags": []
          },
          "execution_count": 10
        }
      ],
      "metadata": {
        "colab": {
          "base_uri": "https://localhost:8080/"
        },
        "id": "Sz26GAECj-_w",
        "outputId": "7bcf3207-feed-4f89-c93d-6d4aec57cee0"
      }
    },
    {
      "cell_type": "markdown",
      "source": [
        "### range\n",
        "- range([시작숫자],[끝숫자+1],[증감숫자])\n",
        "- 시작숫자 생략시 0이 시작숫자가 된다\n",
        "- 증감숫자 생략시 1이 기본값이 된다."
      ],
      "metadata": {
        "id": "UgzrxuPakYYz"
      }
    },
    {
      "cell_type": "code",
      "execution_count": 11,
      "source": [
        "#내부 구성을 알 수 없다\r\n",
        "a = range(10)\r\n",
        "a"
      ],
      "outputs": [
        {
          "output_type": "execute_result",
          "data": {
            "text/plain": [
              "range(0, 10)"
            ]
          },
          "metadata": {
            "tags": []
          },
          "execution_count": 11
        }
      ],
      "metadata": {
        "colab": {
          "base_uri": "https://localhost:8080/"
        },
        "id": "zZ5gFHYikSw_",
        "outputId": "1362e1ec-70d2-4317-a35d-165389bdeaaf"
      }
    },
    {
      "cell_type": "code",
      "execution_count": 12,
      "source": [
        "#list 함수를 사용하여 구성 도출이 가능하다\r\n",
        "list(a)"
      ],
      "outputs": [
        {
          "output_type": "execute_result",
          "data": {
            "text/plain": [
              "[0, 1, 2, 3, 4, 5, 6, 7, 8, 9]"
            ]
          },
          "metadata": {
            "tags": []
          },
          "execution_count": 12
        }
      ],
      "metadata": {
        "colab": {
          "base_uri": "https://localhost:8080/"
        },
        "id": "89DVZarplBOf",
        "outputId": "894e867a-ff4b-4c01-cbe9-20e56ccb675e"
      }
    },
    {
      "cell_type": "code",
      "execution_count": 13,
      "source": [
        "list(range(1,11))"
      ],
      "outputs": [
        {
          "output_type": "execute_result",
          "data": {
            "text/plain": [
              "[1, 2, 3, 4, 5, 6, 7, 8, 9, 10]"
            ]
          },
          "metadata": {
            "tags": []
          },
          "execution_count": 13
        }
      ],
      "metadata": {
        "colab": {
          "base_uri": "https://localhost:8080/"
        },
        "id": "lTArkW6AlDNk",
        "outputId": "5ba1fc68-0c3f-4ebb-985a-08d430d4eebf"
      }
    },
    {
      "cell_type": "code",
      "execution_count": 14,
      "source": [
        "#1~10중 홀수\r\n",
        "list(range(1,10,2))"
      ],
      "outputs": [
        {
          "output_type": "execute_result",
          "data": {
            "text/plain": [
              "[1, 3, 5, 7, 9]"
            ]
          },
          "metadata": {
            "tags": []
          },
          "execution_count": 14
        }
      ],
      "metadata": {
        "colab": {
          "base_uri": "https://localhost:8080/"
        },
        "id": "T9lSp72xlfB_",
        "outputId": "c4541938-b242-4ddf-b498-cec916dc9490"
      }
    },
    {
      "cell_type": "code",
      "execution_count": 16,
      "source": [
        "#1~10중 짝수\r\n",
        "list(range(2,11,2))"
      ],
      "outputs": [
        {
          "output_type": "execute_result",
          "data": {
            "text/plain": [
              "[2, 4, 6, 8, 10]"
            ]
          },
          "metadata": {
            "tags": []
          },
          "execution_count": 16
        }
      ],
      "metadata": {
        "colab": {
          "base_uri": "https://localhost:8080/"
        },
        "id": "Yr_Sa9p1lr-w",
        "outputId": "7a9ccf9c-0ffe-4338-c8ae-f549e2314870"
      }
    },
    {
      "cell_type": "code",
      "execution_count": 19,
      "source": [
        "list(range(10,0,-1))"
      ],
      "outputs": [
        {
          "output_type": "execute_result",
          "data": {
            "text/plain": [
              "[10, 9, 8, 7, 6, 5, 4, 3, 2, 1]"
            ]
          },
          "metadata": {
            "tags": []
          },
          "execution_count": 19
        }
      ],
      "metadata": {
        "colab": {
          "base_uri": "https://localhost:8080/"
        },
        "id": "Mjb8HJ7TlwnY",
        "outputId": "0f919460-a785-42f5-9765-f4fd4553a261"
      }
    },
    {
      "cell_type": "markdown",
      "source": [
        "## 10.2 튜플(tuple)\n",
        "- 리스트와 동일하게 여러 객체를 모아서 담는다. \n",
        "- 숫자, 문자, 객체, 배열, 튜플 안의 튜플 전부 가능하다. \n",
        "- 튜플 내의 값은 수정이 불가하다. \n",
        "- 추가도, 삭제도 안 된다. 한번 만들어지면 끝까지 가지고 가야 된다.\n",
        "- ( )로 사용하고, ( )가 없어도 동일하게 사용 가능하다."
      ],
      "metadata": {
        "id": "QSWsv1Peowsw"
      }
    },
    {
      "cell_type": "code",
      "execution_count": 21,
      "source": [
        "a = (38, 21, 47)\r\n",
        "a"
      ],
      "outputs": [
        {
          "output_type": "execute_result",
          "data": {
            "text/plain": [
              "(38, 21, 47)"
            ]
          },
          "metadata": {
            "tags": []
          },
          "execution_count": 21
        }
      ],
      "metadata": {
        "colab": {
          "base_uri": "https://localhost:8080/"
        },
        "id": "___RnwfuofbY",
        "outputId": "3b3e8b35-08f9-4d0b-cf5f-dee4aee44994"
      }
    },
    {
      "cell_type": "code",
      "execution_count": 22,
      "source": [
        "# 튜플은 괄호 없이도 사용 가능하다.\r\n",
        "a = 38, 27 , 47\r\n",
        "a"
      ],
      "outputs": [
        {
          "output_type": "execute_result",
          "data": {
            "text/plain": [
              "(38, 27, 47)"
            ]
          },
          "metadata": {
            "tags": []
          },
          "execution_count": 22
        }
      ],
      "metadata": {
        "colab": {
          "base_uri": "https://localhost:8080/"
        },
        "id": "7oKaTnLoo6DA",
        "outputId": "3c570e10-5210-4806-eb5e-9b8f81874d5d"
      }
    },
    {
      "cell_type": "code",
      "execution_count": 23,
      "source": [
        "person = [ 'james', 19 , 175.7, True, [22,33,44]]\r\n",
        "person"
      ],
      "outputs": [
        {
          "output_type": "execute_result",
          "data": {
            "text/plain": [
              "['james', 19, 175.7, True, [22, 33, 44]]"
            ]
          },
          "metadata": {
            "tags": []
          },
          "execution_count": 23
        }
      ],
      "metadata": {
        "colab": {
          "base_uri": "https://localhost:8080/"
        },
        "id": "OKBRVeojo-94",
        "outputId": "decf06b3-711e-46f0-e519-628ad7e2e839"
      }
    },
    {
      "cell_type": "code",
      "execution_count": 24,
      "source": [
        "a = tuple()\r\n",
        "a"
      ],
      "outputs": [
        {
          "output_type": "execute_result",
          "data": {
            "text/plain": [
              "()"
            ]
          },
          "metadata": {
            "tags": []
          },
          "execution_count": 24
        }
      ],
      "metadata": {
        "colab": {
          "base_uri": "https://localhost:8080/"
        },
        "id": "10y28BRNqZzQ",
        "outputId": "577eff8c-ee0f-4632-e544-a1ca7b7f65bc"
      }
    },
    {
      "cell_type": "code",
      "execution_count": 25,
      "source": [
        "#a는 정수\r\n",
        "a = (38)\r\n",
        "a"
      ],
      "outputs": [
        {
          "output_type": "execute_result",
          "data": {
            "text/plain": [
              "38"
            ]
          },
          "metadata": {
            "tags": []
          },
          "execution_count": 25
        }
      ],
      "metadata": {
        "colab": {
          "base_uri": "https://localhost:8080/"
        },
        "id": "rO-YdbABqcgg",
        "outputId": "bd9d26b4-6e22-4f42-af0d-80d2e417ed78"
      }
    },
    {
      "cell_type": "code",
      "execution_count": 26,
      "source": [
        "#a는 튜플\r\n",
        "a = (38,)\r\n",
        "a"
      ],
      "outputs": [
        {
          "output_type": "execute_result",
          "data": {
            "text/plain": [
              "(38,)"
            ]
          },
          "metadata": {
            "tags": []
          },
          "execution_count": 26
        }
      ],
      "metadata": {
        "colab": {
          "base_uri": "https://localhost:8080/"
        },
        "id": "BQXMjmK5qf54",
        "outputId": "8cd1bc15-8eef-4db0-b365-c2470af7554c"
      }
    },
    {
      "cell_type": "code",
      "execution_count": 27,
      "source": [
        "tuple(range(5))"
      ],
      "outputs": [
        {
          "output_type": "execute_result",
          "data": {
            "text/plain": [
              "(0, 1, 2, 3, 4)"
            ]
          },
          "metadata": {
            "tags": []
          },
          "execution_count": 27
        }
      ],
      "metadata": {
        "colab": {
          "base_uri": "https://localhost:8080/"
        },
        "id": "68AhW3IXqkog",
        "outputId": "77f4844b-7c0a-4568-ac54-96fed22b51f2"
      }
    },
    {
      "cell_type": "markdown",
      "source": [
        "### 리스트 <--> 튜플"
      ],
      "metadata": {
        "id": "fqGINN_hrVph"
      }
    },
    {
      "cell_type": "code",
      "execution_count": 28,
      "source": [
        "a = [1, 3, 4]\r\n",
        "b = tuple(a)\r\n",
        "b"
      ],
      "outputs": [
        {
          "output_type": "execute_result",
          "data": {
            "text/plain": [
              "(1, 3, 4)"
            ]
          },
          "metadata": {
            "tags": []
          },
          "execution_count": 28
        }
      ],
      "metadata": {
        "colab": {
          "base_uri": "https://localhost:8080/"
        },
        "id": "8bO7so4KrTrA",
        "outputId": "6b238c7d-c0c4-46d0-e7e0-e9b2f8546277"
      }
    },
    {
      "cell_type": "code",
      "execution_count": 29,
      "source": [
        "c = list(b)\r\n",
        "c"
      ],
      "outputs": [
        {
          "output_type": "execute_result",
          "data": {
            "text/plain": [
              "[1, 3, 4]"
            ]
          },
          "metadata": {
            "tags": []
          },
          "execution_count": 29
        }
      ],
      "metadata": {
        "colab": {
          "base_uri": "https://localhost:8080/"
        },
        "id": "rSJg_3obrd0Q",
        "outputId": "984c619b-02b7-4963-a827-5fabcdae4210"
      }
    },
    {
      "cell_type": "markdown",
      "source": [
        "### 문자열"
      ],
      "metadata": {
        "id": "i5XtuXl8rib4"
      }
    },
    {
      "cell_type": "code",
      "execution_count": 30,
      "source": [
        "tuple('hello')"
      ],
      "outputs": [
        {
          "output_type": "execute_result",
          "data": {
            "text/plain": [
              "('h', 'e', 'l', 'l', 'o')"
            ]
          },
          "metadata": {
            "tags": []
          },
          "execution_count": 30
        }
      ],
      "metadata": {
        "colab": {
          "base_uri": "https://localhost:8080/"
        },
        "id": "OlsTGmilrhPA",
        "outputId": "574009df-3b48-46c0-e7d7-d4790aebcaf1"
      }
    },
    {
      "cell_type": "code",
      "execution_count": 31,
      "source": [
        "list('안녕하세요')"
      ],
      "outputs": [
        {
          "output_type": "execute_result",
          "data": {
            "text/plain": [
              "['안', '녕', '하', '세', '요']"
            ]
          },
          "metadata": {
            "tags": []
          },
          "execution_count": 31
        }
      ],
      "metadata": {
        "colab": {
          "base_uri": "https://localhost:8080/"
        },
        "id": "QWStoZVOrmfA",
        "outputId": "fbf5aa1c-5040-4afa-971a-23285031bd79"
      }
    },
    {
      "cell_type": "markdown",
      "source": [
        "### 언팩킹"
      ],
      "metadata": {
        "id": "b0xuguhAsrug"
      }
    },
    {
      "cell_type": "code",
      "execution_count": 34,
      "source": [
        "# tuple unpacking\n",
        "a = (1,3,4)\n",
        "x, y, z = a\n",
        "x,y,z"
      ],
      "outputs": [
        {
          "output_type": "execute_result",
          "data": {
            "text/plain": [
              "(1, 3, 4)"
            ]
          },
          "metadata": {
            "tags": []
          },
          "execution_count": 34
        }
      ],
      "metadata": {
        "colab": {
          "base_uri": "https://localhost:8080/"
        },
        "id": "SNL374Iwsqdj",
        "outputId": "5c05b688-e813-4f1f-962b-9d50956fd732"
      }
    },
    {
      "cell_type": "code",
      "execution_count": 36,
      "source": [
        "# list unpacking\n",
        "x, y, z = [1, 3, 5]\n",
        "x, y, z "
      ],
      "outputs": [
        {
          "output_type": "execute_result",
          "data": {
            "text/plain": [
              "(1, 3, 5)"
            ]
          },
          "metadata": {
            "tags": []
          },
          "execution_count": 36
        }
      ],
      "metadata": {
        "colab": {
          "base_uri": "https://localhost:8080/"
        },
        "id": "JmjxWj8ps_yQ",
        "outputId": "0179c0c2-b3ee-4484-f733-00b84407967d"
      }
    },
    {
      "cell_type": "code",
      "execution_count": null,
      "source": [],
      "outputs": [],
      "metadata": {
        "id": "5_pTcTl5tSQ4"
      }
    }
  ]
}