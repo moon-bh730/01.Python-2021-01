{
  "nbformat": 4,
  "nbformat_minor": 0,
  "metadata": {
    "colab": {
      "name": "u09_문자열.ipynb",
      "provenance": []
    },
    "kernelspec": {
      "name": "python3",
      "display_name": "Python 3"
    },
    "language_info": {
      "name": "python"
    }
  },
  "cells": [
    {
      "cell_type": "markdown",
      "metadata": {
        "id": "bVOiHtf-b3qQ"
      },
      "source": [
        "# Unit 9. 문자열\n",
        "- 메서드(split...)와 함수(meth...)의 구분"
      ]
    },
    {
      "cell_type": "code",
      "metadata": {
        "colab": {
          "base_uri": "https://localhost:8080/"
        },
        "id": "AY8Kb8Ngbula",
        "outputId": "6f45c120-2ea5-40a5-cea5-36d175a3258e"
      },
      "source": [
        "hello = \"hello, world!\"\n",
        "hello2 = 'hello, world!2'\n",
        "\n",
        "hello, hello2"
      ],
      "execution_count": 1,
      "outputs": [
        {
          "output_type": "execute_result",
          "data": {
            "text/plain": [
              "('hello, world!', 'hello, world!2')"
            ]
          },
          "metadata": {
            "tags": []
          },
          "execution_count": 1
        }
      ]
    },
    {
      "cell_type": "code",
      "metadata": {
        "colab": {
          "base_uri": "https://localhost:8080/"
        },
        "id": "4o64nBfAc4ff",
        "outputId": "7fa751a1-6fe8-46f4-9b05-e0c57daedfea"
      },
      "source": [
        "##연결자 처리 없는 줄바꿈은 에러\n",
        "#multiline = 'hello!\n",
        "#world!'\n",
        "\n",
        "#줄바꿈 연결 방법\n",
        "multiline = '''hello!\n",
        "world!'''\n",
        "multiline"
      ],
      "execution_count": 3,
      "outputs": [
        {
          "output_type": "stream",
          "text": [
            "hello!\n",
            "world!\n"
          ],
          "name": "stdout"
        }
      ]
    },
    {
      "cell_type": "code",
      "metadata": {
        "colab": {
          "base_uri": "https://localhost:8080/"
        },
        "id": "5MFC4mLEdf4f",
        "outputId": "368d7c29-497f-4d3a-c5cb-0ca4950ce55e"
      },
      "source": [
        "print(multiline)    #print함수는 줄바꿈 처리되어 출력 된다"
      ],
      "execution_count": 4,
      "outputs": [
        {
          "output_type": "stream",
          "text": [
            "hello!\n",
            "world!\n"
          ],
          "name": "stdout"
        }
      ]
    },
    {
      "cell_type": "code",
      "metadata": {
        "colab": {
          "base_uri": "https://localhost:8080/",
          "height": 35
        },
        "id": "8pvdbGAAeDPH",
        "outputId": "76bdb228-0053-4592-e03d-974b5f57ffc3"
      },
      "source": [
        "#문장 중간의 따옴표 처리 방법\n",
        "s = \"Python isn't difficult.\"\n",
        "s"
      ],
      "execution_count": 5,
      "outputs": [
        {
          "output_type": "execute_result",
          "data": {
            "application/vnd.google.colaboratory.intrinsic+json": {
              "type": "string"
            },
            "text/plain": [
              "\"Python isn't difficult.\""
            ]
          },
          "metadata": {
            "tags": []
          },
          "execution_count": 5
        }
      ]
    },
    {
      "cell_type": "code",
      "metadata": {
        "colab": {
          "base_uri": "https://localhost:8080/",
          "height": 35
        },
        "id": "5bPMi32yecBv",
        "outputId": "06087099-fafa-475d-82cb-104a5fb9eb2d"
      },
      "source": [
        "#문장 중간의 따옴표 처리 방법\n",
        "s = 'Alice said \"I love you.\"'\n",
        "s"
      ],
      "execution_count": 6,
      "outputs": [
        {
          "output_type": "execute_result",
          "data": {
            "application/vnd.google.colaboratory.intrinsic+json": {
              "type": "string"
            },
            "text/plain": [
              "'Alice said \"I love you.\"'"
            ]
          },
          "metadata": {
            "tags": []
          },
          "execution_count": 6
        }
      ]
    },
    {
      "cell_type": "code",
      "metadata": {
        "colab": {
          "base_uri": "https://localhost:8080/",
          "height": 35
        },
        "id": "dXRJawOOeyLu",
        "outputId": "8838096e-82da-4465-c51f-073d46173919"
      },
      "source": [
        "s = 'Python isn\\'t difficult.'\n",
        "s"
      ],
      "execution_count": 8,
      "outputs": [
        {
          "output_type": "execute_result",
          "data": {
            "application/vnd.google.colaboratory.intrinsic+json": {
              "type": "string"
            },
            "text/plain": [
              "\"Python isn't difficult.\""
            ]
          },
          "metadata": {
            "tags": []
          },
          "execution_count": 8
        }
      ]
    },
    {
      "cell_type": "code",
      "metadata": {
        "id": "1apRfwbWe7UH"
      },
      "source": [
        ""
      ],
      "execution_count": null,
      "outputs": []
    }
  ]
}