{
 "cells": [
  {
   "cell_type": "markdown",
   "source": [
    "# 15.4 심사문제: 교통카드 시스템 만들기\r\n",
    "표준 입력으로 나이(만 나이)가 입력됩니다(입력 값은 7 이상 입력됨). 교통카드 시스템에서 시내버스 요금은 다음과 같으며 각 나이에 맞게 요금을 차감한 뒤 잔액이 출력되게 만드세요(if, elif 사용). 현재 교통카드에는 9,000원이 들어있습니다.\r\n",
    "\r\n",
    "어린이(초등학생, 만 7세 이상 12세 이하): 650원\r\n",
    "청소년(중∙고등학생, 만 13세 이상 18세 이하): 1,050원\r\n",
    "어른(일반, 만 19세 이상): 1,250원"
   ],
   "metadata": {}
  },
  {
   "cell_type": "code",
   "execution_count": 13,
   "source": [
    "val_card = 9000\r\n",
    "#val_age = int(input())\r\n",
    "val_age = 19\r\n",
    "\r\n",
    "if val_age >= 7:\r\n",
    "    if val_age<=12:\r\n",
    "        val_card -= 650\r\n",
    "    elif 13<=val_age<=18:\r\n",
    "        val_card -= 1050\r\n",
    "    else:\r\n",
    "        val_card -= 1250\r\n",
    "    print(val_card)\r\n",
    "else:\r\n",
    "    print(\"7이상을 입력 해야 합니다.\")"
   ],
   "outputs": [
    {
     "output_type": "stream",
     "name": "stdout",
     "text": [
      "7750\n"
     ]
    }
   ],
   "metadata": {}
  },
  {
   "cell_type": "code",
   "execution_count": null,
   "source": [
    "if age >= 7:\r\n",
    "    if age<=12:\r\n",
    "        balance -= 650\r\n",
    "    elif 13<=age<=18:\r\n",
    "        balance -= 1050\r\n",
    "    else:\r\n",
    "        balance -= 1250"
   ],
   "outputs": [],
   "metadata": {}
  },
  {
   "cell_type": "markdown",
   "source": [
    "# 16.6 심사문제: 구구단 출력하기\r\n",
    "- 표준 입력으로 정수가 입력됩니다. \r\n",
    "- 입력된 정수의 구구단을 출력하는 프로그램을 만드세요(input에서 안내 문자열은 출력하지 않아야 합니다). \r\n",
    "- 출력 형식은 숫자 * 숫자 = 숫자처럼 만들고 숫자와 *, = 사이는 공백을 한 칸 띄웁니다."
   ],
   "metadata": {}
  },
  {
   "cell_type": "code",
   "execution_count": 17,
   "source": [
    "int_dan = int(input())\r\n",
    "\r\n",
    "for y in range(1, 10):\r\n",
    "    print(int_dan, \"*\", y, \"=\", int_dan*y)"
   ],
   "outputs": [
    {
     "output_type": "stream",
     "name": "stdout",
     "text": [
      "3 * 1 = 3\n",
      "3 * 2 = 6\n",
      "3 * 3 = 9\n",
      "3 * 4 = 12\n",
      "3 * 5 = 15\n",
      "3 * 6 = 18\n",
      "3 * 7 = 21\n",
      "3 * 8 = 24\n",
      "3 * 9 = 27\n"
     ]
    }
   ],
   "metadata": {}
  },
  {
   "cell_type": "markdown",
   "source": [
    "# 17.6 심사문제: 교통카드 잔액 출력하기\r\n",
    "\r\n",
    "\r\n",
    "-표준 입력으로 금액(정수)이 입력됩니다. 1회당 요금은 1,350원이고, \r\n",
    "     교통카드를 사용했을 때마다의 잔액을 각 줄에 출력하는 프로그램을 만드세요\r\n",
    "\r\n",
    "- (input에서 안내 문자열은 출력하지 않아야 합니다). \r\n",
    "\r\n",
    "-단, 최초 금액은 출력하지 않아야 합니다. \r\n",
    "\r\n",
    "- 그리고 잔액은 음수가 될 수 없으며 잔액이 부족하면 출력을 끝냅니다."
   ],
   "metadata": {}
  },
  {
   "cell_type": "code",
   "execution_count": 1,
   "source": [
    "#val_card = int(input())\r\n",
    "val_card = 9000\r\n",
    "\r\n",
    "while val_card >= 1350:    \r\n",
    "    val_card -= 1350\r\n",
    "    print(val_card)\r\n",
    "    "
   ],
   "outputs": [
    {
     "output_type": "stream",
     "name": "stdout",
     "text": [
      "7650\n",
      "6300\n",
      "4950\n",
      "3600\n",
      "2250\n",
      "900\n"
     ]
    }
   ],
   "metadata": {}
  },
  {
   "cell_type": "code",
   "execution_count": null,
   "source": [
    "amount = int(input())\r\n",
    "while amount >= 1350:    \r\n",
    "    amount -= 1350\r\n",
    "    print(amount)"
   ],
   "outputs": [],
   "metadata": {}
  },
  {
   "cell_type": "markdown",
   "source": [
    "# 18.6 심사문제: 두 수 사이의 숫자 중 3으로 끝나지 않는 숫자 출력하기\r\n",
    "    -표준 입력으로 정수 두 개가 입력됩니다(첫 번째 입력 값의 범위는 1~200, 두 번째 입력 값의 범위는 10~200이며 첫 번째 입력 값은 두 번째 입력 값보다 항상 작습니다). \r\n",
    "    -다음 소스 코드를 완성하여 첫 번째 정수와 두 번째 정수 사이의 숫자 중 3으로 끝나지 않는 숫자가 출력되게 만드세요. \r\n",
    "    -정답에 코드를 작성할 때는 while True:에 맞춰서 들여쓰기를 해주세요."
   ],
   "metadata": {}
  },
  {
   "cell_type": "markdown",
   "source": [],
   "metadata": {}
  },
  {
   "cell_type": "code",
   "execution_count": 7,
   "source": [
    "start, stop = map(int, input().split())\r\n",
    " \r\n",
    "i = start\r\n",
    " \r\n",
    "while True:\r\n",
    "    if i % 10 == 3:\r\n",
    "        i += 1\r\n",
    "        continue\r\n",
    "    if i > stop:\r\n",
    "        break \r\n",
    "    print(i, end=' ')\r\n",
    "    i += 1"
   ],
   "outputs": [
    {
     "output_type": "stream",
     "name": "stdout",
     "text": [
      "20 21 22 24 25 26 27 28 29 30 31 32 34 35 36 37 38 39 40 41 42 44 45 46 47 48 49 50 51 52 54 55 "
     ]
    }
   ],
   "metadata": {}
  },
  {
   "cell_type": "markdown",
   "source": [
    "# 19.6 심사문제: 산 모양으로 별 출력하기\r\n",
    "    - 표준 입력으로 삼각형의 높이가 입력됩니다. \r\n",
    "    - 입력된 높이만큼 산 모양으로 별을 출력하는 프로그램을 만드세요(input에서 안내 문자열은 출력하지 않아야 합니다). \r\n",
    "    - 이때 출력 결과는 예제와 정확히 일치해야 합니다. \r\n",
    "    - 모양이 같더라도 공백이나 빈 줄이 더 들어가면 틀린 것으로 처리됩니다."
   ],
   "metadata": {}
  },
  {
   "cell_type": "code",
   "execution_count": 12,
   "source": [
    "height = int(input())\r\n",
    "\r\n",
    "for i in range(height):\r\n",
    "    for j in reversed(range(height)):\r\n",
    "        if j > i:\r\n",
    "            print(' ', end='')\r\n",
    "        else:\r\n",
    "            print('*', end='')\r\n",
    "\r\n",
    "    for j in range(height):\r\n",
    "        if j < i:\r\n",
    "            print('*', end='')\r\n",
    "    print()"
   ],
   "outputs": [
    {
     "output_type": "stream",
     "name": "stdout",
     "text": [
      "\n",
      "*\n",
      "**\n",
      "***\n",
      "****\n",
      "*****\n",
      "******\n",
      "*******\n",
      "********\n"
     ]
    }
   ],
   "metadata": {}
  },
  {
   "cell_type": "code",
   "execution_count": null,
   "source": [],
   "outputs": [],
   "metadata": {}
  }
 ],
 "metadata": {
  "orig_nbformat": 4,
  "language_info": {
   "name": "python",
   "version": "3.8.10",
   "mimetype": "text/x-python",
   "codemirror_mode": {
    "name": "ipython",
    "version": 3
   },
   "pygments_lexer": "ipython3",
   "nbconvert_exporter": "python",
   "file_extension": ".py"
  },
  "kernelspec": {
   "name": "python3",
   "display_name": "Python 3.8.10 64-bit ('base': conda)"
  },
  "interpreter": {
   "hash": "b3ba2566441a7c06988d0923437866b63cedc61552a5af99d1f4fb67d367b25f"
  }
 },
 "nbformat": 4,
 "nbformat_minor": 2
}