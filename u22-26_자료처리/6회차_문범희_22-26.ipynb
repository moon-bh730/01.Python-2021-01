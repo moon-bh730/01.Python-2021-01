{
 "cells": [
  {
   "cell_type": "markdown",
   "source": [
    "# 22.10 심사문제: 2의 거듭제곱 리스트 생성하기\r\n",
    "    - 표준 입력으로 정수 두 개가 입력됩니다(첫 번째 입력 값의 범위는 1~20, 두 번째 입력 값의 범위는 10~30이며 첫 번째 입력 값은 두 번째 입력 값보다 항상 작습니다). \r\n",
    "    - 첫 번째 정수부터 두 번째 정수까지를 지수로 하는 2의 거듭제곱 리스트를 출력하는 프로그램을 만드세요(input에서 안내 문자열은 출력하지 않아야 합니다). \r\n",
    "    - 단, 리스트의 두 번째 요소와 뒤에서 두 번째 요소는 삭제한 뒤 출력하세요. 출력 결과는 리스트 형태라야 합니다."
   ],
   "metadata": {}
  },
  {
   "cell_type": "code",
   "execution_count": 14,
   "source": [
    "\r\n",
    "a,b = map(int, input().split())\r\n",
    "\r\n",
    "test = [2**i for i in range(a,b+1)]\r\n",
    "\r\n",
    "del test[1]\r\n",
    "del test[len(test)-2]\r\n",
    "\r\n",
    "print(test)"
   ],
   "outputs": [
    {
     "output_type": "stream",
     "name": "stdout",
     "text": [
      "[2048, 8192, 16384, 32768, 65536, 262144]\n"
     ]
    }
   ],
   "metadata": {}
  },
  {
   "cell_type": "markdown",
   "source": [
    "# 23.7 심사문제: 지뢰찾기\r\n",
    "    - 표준 입력으로 2차원 리스트의 가로(col)와 세로(row)가 입력되고 그 다음 줄부터 리스트의 요소로 들어갈 문자가 입력됩니다. \r\n",
    "    - 이때 2차원 리스트 안에서 *는 지뢰이고 .은 지뢰가 아닙니다. \r\n",
    "    - 지뢰가 아닌 요소에는 인접한 지뢰의 개수를 출력하는 프로그램을 만드세요(input에서 안내 문자열은 출력하지 않아야 합니다).\r\n",
    "    - 여러 줄을 입력 받으려면 다음과 같이 for 반복문에서 input을 호출한 뒤 append로 각 줄을 추가하면 됩니다\r\n",
    "    - (list 안에 문자열을 넣으면 문자열이 문자 리스트로 변환됩니다)."
   ],
   "metadata": {}
  },
  {
   "cell_type": "code",
   "execution_count": 29,
   "source": [
    "col, row = map(int, input().split())\r\n",
    "\r\n",
    "matrix = []\r\n",
    "    \r\n",
    "for i in range(row):\r\n",
    "    matrix.append(list(input()))\r\n",
    "\r\n",
    "for i in range(col):\r\n",
    "    for j in range(row):\r\n",
    "        if matrix[i][j]=='*':\r\n",
    "            print('*',end='')\r\n",
    "            \r\n",
    "        else:\r\n",
    "            count=0\r\n",
    "            for k in range(i-1,i+2):\r\n",
    "                for l in range(j-1,j+2):\r\n",
    "                    if k<0 or k>=row or l<0 or l>=row:\r\n",
    "                        continue\r\n",
    "                    elif matrix[k][l]=='*':\r\n",
    "                        count+=1\r\n",
    "            print(count,end='')\r\n",
    "    print()\r\n",
    "\r\n",
    "#3 3\r\n",
    "#.**\r\n",
    "#*..\r\n",
    "#.*.\r\n",
    "#결과\r\n",
    "#2**\r\n",
    "#*43\r\n",
    "#2*1\r\n"
   ],
   "outputs": [
    {
     "output_type": "stream",
     "name": "stdout",
     "text": [
      "2**\n",
      "*43\n",
      "2*1\n"
     ]
    }
   ],
   "metadata": {}
  },
  {
   "cell_type": "markdown",
   "source": [
    "# 24.6 심사문제: 높은 가격순으로 출력하기\r\n",
    "    - 표준 입력으로 물품 가격 여러 개가 문자열 한 줄로 입력되고, 각 가격은 ;(세미콜론)으로 구분되어 있습니다. \r\n",
    "    - 입력된 가격을 높은 가격순으로 출력하는 프로그램을 만드세요(input에서 안내 문자열은 출력하지 않아야 합니다). \r\n",
    "    - 이때 가격은 길이를 9로 만든 뒤 오른쪽으로 정렬하고 천단위로 ,(콤마)를 넣으세요."
   ],
   "metadata": {}
  },
  {
   "cell_type": "code",
   "execution_count": 37,
   "source": [
    "# 1. input 물품가격 여러개 입력(구분은;)\r\n",
    "str_price =  \"11;15;22;1000;15;1500;2000;1000000;7000001122;77\"\r\n",
    "#str_price = input()\r\n",
    "#print(str_price)\r\n",
    "\r\n",
    "#빈리스트 만들기\r\n",
    "dif_price=[]\r\n",
    "dif_price_sorted=[]\r\n",
    "\r\n",
    "#리스트에 나누어 값을 넣기\r\n",
    "dif_price = map(int,str_price.split(\";\"))\r\n",
    "\r\n",
    "# 2. 높은 가격순 정렬\r\n",
    "dif_price_sorted = sorted(dif_price,reverse=True)\r\n",
    "\r\n",
    "\r\n",
    "# 3. 가격 길이를 9로 맞추기\r\n",
    "# 4. 오른쪽 정렬\r\n",
    "# 5. 천단위 콤마처리\r\n",
    "# 6. 출력   \r\n",
    "for i in (dif_price_sorted):\r\n",
    "    print(\"%9s\" % format(i,\",\"))\r\n"
   ],
   "outputs": [
    {
     "output_type": "stream",
     "name": "stdout",
     "text": [
      "7,000,001,122\n",
      "1,000,000\n",
      "    2,000\n",
      "    1,500\n",
      "    1,000\n",
      "       77\n",
      "       22\n",
      "       15\n",
      "       15\n",
      "       11\n"
     ]
    }
   ],
   "metadata": {}
  },
  {
   "cell_type": "code",
   "execution_count": null,
   "source": [
    "str_price = input()\r\n",
    "\r\n",
    "dif_price=[]\r\n",
    "dif_price_sorted=[]\r\n",
    "\r\n",
    "dif_price = map(int,str_price.split(\";\"))\r\n",
    "dif_price_sorted = sorted(dif_price,reverse=True)\r\n",
    "\r\n",
    "for i in (dif_price_sorted):\r\n",
    "    print(\"%9s\" % format(i,\",\"))"
   ],
   "outputs": [],
   "metadata": {}
  },
  {
   "cell_type": "markdown",
   "source": [
    "# 25.8 심사문제: 딕셔너리에서 특정 값 삭제하기\r\n",
    "    - 표준 입력으로 문자열 여러 개와 숫자 여러 개가 두 줄로 입력되고, \r\n",
    "    - 첫 번째 줄은 키, 두 번째 줄은 값으로 하여 딕셔너리를 생성합니다. \r\n",
    "    - 다음 코드를 완성하여 딕셔너리에서 키가 'delta'인 키-값 쌍과 값이 30인 키-값 쌍을 삭제하도록 만드세요."
   ],
   "metadata": {}
  },
  {
   "cell_type": "code",
   "execution_count": 19,
   "source": [
    "keys = input().split()\r\n",
    "values = map(int, input().split())\r\n",
    " \r\n",
    "#values = [\"50\", \"22\", \"77\", \"88\"]\r\n",
    "#keys = [\"aa\", \"bb\", \"cc\", \"delta\"]\r\n",
    "\r\n",
    "x = dict(zip(keys, values))\r\n",
    "\r\n",
    "print(x)\r\n",
    "\r\n",
    "x.pop('delta')\r\n",
    "x = {key: value for key, value in x.items() if value != 30}\r\n",
    "\r\n",
    "print(x)"
   ],
   "outputs": [
    {
     "output_type": "stream",
     "name": "stdout",
     "text": [
      "{'aa': '50', 'bb': '22', 'cc': '77', 'delta': '88'}\n",
      "{'aa': '50', 'bb': '22', 'cc': '77'}\n"
     ]
    }
   ],
   "metadata": {}
  },
  {
   "cell_type": "code",
   "execution_count": null,
   "source": [
    "keys = input().split()\r\n",
    "values = map(int, input().split())\r\n",
    "\r\n",
    "x = dict(zip(keys, values))\r\n",
    "\r\n",
    "x.pop('delta')\r\n",
    "x = {key: value for key, value in x.items() if value != 30}\r\n",
    "\r\n",
    "print(x)"
   ],
   "outputs": [],
   "metadata": {}
  },
  {
   "cell_type": "markdown",
   "source": [
    "# 26.9 심사문제: 공약수 구하기\r\n",
    "    - 표준 입력으로 양의 정수 두 개가 입력됩니다. 다음 소스 코드를 완성하여 두 숫자의 공약수를 세트 형태로 구하도록 만드세요. 단, 최종 결과는 공약수의 합으로 판단합니다."
   ],
   "metadata": {}
  },
  {
   "cell_type": "code",
   "execution_count": 24,
   "source": [
    "\r\n",
    "#a,b = map(int,input().split())\r\n",
    "\r\n",
    "a = 15\r\n",
    "b = 57\r\n",
    "\r\n",
    "a = {i for i in range(1,a+1) if a % i == 0}\r\n",
    "b = {k for k in range(1,b+1) if b % k == 0}\r\n",
    "\r\n",
    "divisor = a & b\r\n",
    " \r\n",
    "result = 0\r\n",
    "if type(divisor) == set:\r\n",
    "    result = sum(divisor)\r\n",
    " \r\n",
    "print(result)"
   ],
   "outputs": [
    {
     "output_type": "stream",
     "name": "stdout",
     "text": [
      "4\n"
     ]
    }
   ],
   "metadata": {}
  },
  {
   "cell_type": "code",
   "execution_count": null,
   "source": [
    "a,b = map(int,input().split())\r\n",
    "\r\n",
    "a = {i for i in range(1,a+1) if a % i == 0}\r\n",
    "b = {k for k in range(1,b+1) if b % k == 0}"
   ],
   "outputs": [],
   "metadata": {}
  }
 ],
 "metadata": {
  "orig_nbformat": 4,
  "language_info": {
   "name": "python",
   "version": "3.8.10",
   "mimetype": "text/x-python",
   "codemirror_mode": {
    "name": "ipython",
    "version": 3
   },
   "pygments_lexer": "ipython3",
   "nbconvert_exporter": "python",
   "file_extension": ".py"
  },
  "kernelspec": {
   "name": "python3",
   "display_name": "Python 3.8.10 64-bit ('base': conda)"
  },
  "interpreter": {
   "hash": "b3ba2566441a7c06988d0923437866b63cedc61552a5af99d1f4fb67d367b25f"
  }
 },
 "nbformat": 4,
 "nbformat_minor": 2
}