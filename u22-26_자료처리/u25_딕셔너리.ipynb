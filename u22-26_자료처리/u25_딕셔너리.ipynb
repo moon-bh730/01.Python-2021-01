{
 "cells": [
  {
   "cell_type": "markdown",
   "source": [
    "# Unit 25. 딕셔너리 \r\n",
    "    - 사용형태 : dictionary(딕셔너리)\r\n",
    "    - 파라미터 : 딕셔너리 타입은 immutable한 키(key)와 mutable한 값(value)으로 맵핑되어 있는 순서가 없는 집합"
   ],
   "metadata": {}
  },
  {
   "cell_type": "markdown",
   "source": [
    "## 25.1 딕셔너리 조작"
   ],
   "metadata": {}
  },
  {
   "cell_type": "code",
   "execution_count": 3,
   "source": [
    "x = {'a':10 ,'b':20 ,'c':30 ,'d':40 }\r\n",
    "y = x.setdefault('e', 100)\r\n",
    "print(x)\r\n",
    "print(y)\r\n",
    "print(x, y)"
   ],
   "outputs": [
    {
     "output_type": "stream",
     "name": "stdout",
     "text": [
      "{'a': 10, 'b': 20, 'c': 30, 'd': 40, 'e': 100}\n",
      "100\n",
      "{'a': 10, 'b': 20, 'c': 30, 'd': 40, 'e': 100} 100\n"
     ]
    }
   ],
   "metadata": {}
  },
  {
   "cell_type": "code",
   "execution_count": 4,
   "source": [
    "x = {'a':10 ,'b':20 ,'c':30 ,'d':40 }\r\n",
    "x['e'] = 100\r\n",
    "print(x)"
   ],
   "outputs": [
    {
     "output_type": "stream",
     "name": "stdout",
     "text": [
      "{'a': 10, 'b': 20, 'c': 30, 'd': 40, 'e': 100}\n"
     ]
    }
   ],
   "metadata": {}
  },
  {
   "cell_type": "code",
   "execution_count": 5,
   "source": [
    "x['a'] = 90\r\n",
    "print(x)"
   ],
   "outputs": [
    {
     "output_type": "stream",
     "name": "stdout",
     "text": [
      "{'a': 90, 'b': 20, 'c': 30, 'd': 40, 'e': 100}\n"
     ]
    }
   ],
   "metadata": {}
  },
  {
   "cell_type": "code",
   "execution_count": 6,
   "source": [
    "x"
   ],
   "outputs": [
    {
     "output_type": "execute_result",
     "data": {
      "text/plain": [
       "{'a': 90, 'b': 20, 'c': 30, 'd': 40, 'e': 100}"
      ]
     },
     "metadata": {},
     "execution_count": 6
    }
   ],
   "metadata": {}
  },
  {
   "cell_type": "code",
   "execution_count": 7,
   "source": [
    "x.get(\"c\")"
   ],
   "outputs": [
    {
     "output_type": "execute_result",
     "data": {
      "text/plain": [
       "30"
      ]
     },
     "metadata": {},
     "execution_count": 7
    }
   ],
   "metadata": {}
  },
  {
   "cell_type": "code",
   "execution_count": 8,
   "source": [
    "x[\"c\"]"
   ],
   "outputs": [
    {
     "output_type": "execute_result",
     "data": {
      "text/plain": [
       "30"
      ]
     },
     "metadata": {},
     "execution_count": 8
    }
   ],
   "metadata": {}
  },
  {
   "cell_type": "markdown",
   "source": [
    "### 키-값쌍을 모두 가져오기"
   ],
   "metadata": {}
  },
  {
   "cell_type": "code",
   "execution_count": 9,
   "source": [
    "x = {'a':10 ,'b':20 ,'c':30 ,'d':40 }\r\n",
    "print(x.items())"
   ],
   "outputs": [
    {
     "output_type": "stream",
     "name": "stdout",
     "text": [
      "dict_items([('a', 10), ('b', 20), ('c', 30), ('d', 40)])\n"
     ]
    }
   ],
   "metadata": {}
  },
  {
   "cell_type": "code",
   "execution_count": 10,
   "source": [
    "x.keys()"
   ],
   "outputs": [
    {
     "output_type": "execute_result",
     "data": {
      "text/plain": [
       "dict_keys(['a', 'b', 'c', 'd'])"
      ]
     },
     "metadata": {},
     "execution_count": 10
    }
   ],
   "metadata": {}
  },
  {
   "cell_type": "code",
   "execution_count": 11,
   "source": [
    "x.values()"
   ],
   "outputs": [
    {
     "output_type": "execute_result",
     "data": {
      "text/plain": [
       "dict_values([10, 20, 30, 40])"
      ]
     },
     "metadata": {},
     "execution_count": 11
    }
   ],
   "metadata": {}
  },
  {
   "cell_type": "markdown",
   "source": [
    "### 리스트와 튜플로 딕셔너리 생성하기"
   ],
   "metadata": {}
  },
  {
   "cell_type": "code",
   "execution_count": 13,
   "source": [
    "#키와 값을 교체\r\n",
    "dict(zip(x.values(), x.keys()))"
   ],
   "outputs": [
    {
     "output_type": "execute_result",
     "data": {
      "text/plain": [
       "{10: 'a', 20: 'b', 30: 'c', 40: 'd'}"
      ]
     },
     "metadata": {},
     "execution_count": 13
    }
   ],
   "metadata": {}
  },
  {
   "cell_type": "code",
   "execution_count": 15,
   "source": [
    "k = ('a','b','c','d')\r\n",
    "v = (10,20,30,40)\r\n",
    "dict(zip(k,v))"
   ],
   "outputs": [
    {
     "output_type": "execute_result",
     "data": {
      "text/plain": [
       "{'a': 10, 'b': 20, 'c': 30, 'd': 40}"
      ]
     },
     "metadata": {},
     "execution_count": 15
    }
   ],
   "metadata": {}
  },
  {
   "cell_type": "markdown",
   "source": [
    "## 25.2 반복문"
   ],
   "metadata": {}
  },
  {
   "cell_type": "code",
   "execution_count": 17,
   "source": [
    "x = {'a':10 ,'b':20 ,'c':30 ,'d':40 }\r\n",
    "for key, value in x.items():\r\n",
    "    print(f'{key}:{value}')"
   ],
   "outputs": [
    {
     "output_type": "stream",
     "name": "stdout",
     "text": [
      "a:10\n",
      "b:20\n",
      "c:30\n",
      "d:40\n"
     ]
    }
   ],
   "metadata": {}
  },
  {
   "cell_type": "code",
   "execution_count": 18,
   "source": [
    "#위와 동일 효과\r\n",
    "x = {'a':10 ,'b':20 ,'c':30 ,'d':40 }\r\n",
    "\r\n",
    "for key in x.keys():\r\n",
    "    print(f'{key}:{x[key]}')"
   ],
   "outputs": [
    {
     "output_type": "stream",
     "name": "stdout",
     "text": [
      "a:10\n",
      "b:20\n",
      "c:30\n",
      "d:40\n"
     ]
    }
   ],
   "metadata": {}
  },
  {
   "cell_type": "code",
   "execution_count": 19,
   "source": [
    "for i, (k,v) in enumerate(x.items()):\r\n",
    "    print(i,k,v)"
   ],
   "outputs": [
    {
     "output_type": "stream",
     "name": "stdout",
     "text": [
      "0 a 10\n",
      "1 b 20\n",
      "2 c 30\n",
      "3 d 40\n"
     ]
    }
   ],
   "metadata": {}
  },
  {
   "cell_type": "markdown",
   "source": [
    "## 25.3 딕셔너리 표현식"
   ],
   "metadata": {}
  },
  {
   "cell_type": "code",
   "execution_count": 20,
   "source": [
    "x = {'a':10 ,'b':20 ,'c':30 ,'d':40 }\r\n",
    "x2 = {key:value*value for key, value in x.items()}\r\n",
    "print(x2)"
   ],
   "outputs": [
    {
     "output_type": "stream",
     "name": "stdout",
     "text": [
      "{'a': 100, 'b': 400, 'c': 900, 'd': 1600}\n"
     ]
    }
   ],
   "metadata": {}
  },
  {
   "cell_type": "code",
   "execution_count": 21,
   "source": [
    "x2 = {}\r\n",
    "for key, value in x.items():\r\n",
    "    x2[key] = value * value\r\n",
    "print(x2)"
   ],
   "outputs": [
    {
     "output_type": "stream",
     "name": "stdout",
     "text": [
      "{'a': 100, 'b': 400, 'c': 900, 'd': 1600}\n"
     ]
    }
   ],
   "metadata": {}
  },
  {
   "cell_type": "markdown",
   "source": [
    "## 25.4 딕셔너리 안에서 딕셔너리 사용"
   ],
   "metadata": {}
  },
  {
   "cell_type": "code",
   "execution_count": 22,
   "source": [
    "terrestrial_planet = {\r\n",
    "    'Mercury': {\r\n",
    "        'mean_radius': 2439.7,\r\n",
    "        'mass': 3.3022E+23,\r\n",
    "        'orbital_period': 87.969\r\n",
    "    },\r\n",
    "    'Venus': {\r\n",
    "        'mean_radius': 6051.8,\r\n",
    "        'mass': 4.8676E+24,\r\n",
    "        'orbital_period': 224.70069,\r\n",
    "    },\r\n",
    "    'Earth': {\r\n",
    "        'mean_radius': 6371.0,\r\n",
    "        'mass': 5.97219E+24,\r\n",
    "        'orbital_period': 365.25641,\r\n",
    "    },\r\n",
    "    'Mars': {\r\n",
    "        'mean_radius': 3389.5,\r\n",
    "        'mass': 6.4185E+23,\r\n",
    "        'orbital_period': 686.9600,\r\n",
    "    }\r\n",
    "}\r\n",
    " \r\n",
    "print(terrestrial_planet['Venus']['mean_radius'])    # 6051.8"
   ],
   "outputs": [
    {
     "output_type": "stream",
     "name": "stdout",
     "text": [
      "6051.8\n"
     ]
    }
   ],
   "metadata": {}
  },
  {
   "cell_type": "code",
   "execution_count": 34,
   "source": [
    "result = {'results': {'common': {'countPerPage': '10',\r\n",
    "   'currentPage': '1',\r\n",
    "   'errorCode': '0',\r\n",
    "   'errorMessage': '정상',\r\n",
    "   'totalCount': '1'},\r\n",
    "  'juso': [{'admCd': '4215013700',\r\n",
    "    'bdKdcd': '0',\r\n",
    "    'bdMgtSn': '4215013700100940000017657',\r\n",
    "    'bdNm': '경포대',\r\n",
    "    'buldMnnm': '365',\r\n",
    "    'buldSlno': '0',\r\n",
    "    'detBdNmList': '',\r\n",
    "    'emdNm': '저동',\r\n",
    "    'emdNo': '03',\r\n",
    "    'engAddr': '365, Gyeongpo-ro, Gangneung-si, Gangwon-do',\r\n",
    "    'jibunAddr': '강원도 강릉시 저동 94 경포대',\r\n",
    "    'liNm': '',\r\n",
    "    'lnbrMnnm': '94',\r\n",
    "    'lnbrSlno': '0',\r\n",
    "    'mtYn': '0',\r\n",
    "    'rn': '경포로',\r\n",
    "    'rnMgtSn': '421503220002',\r\n",
    "    'roadAddr': '강원도 강릉시 경포로 365(저동)',\r\n",
    "    'roadAddrPart1': '강원도 강릉시 경포로 365',\r\n",
    "    'roadAddrPart2': '(저동)',\r\n",
    "    'sggNm': '강릉시',\r\n",
    "    'siNm': '강원도',\r\n",
    "    'udrtYn': '0',\r\n",
    "    'zipNo': '25461'}]}}\r\n",
    "\r\n",
    "result['results']['juso'][0]['roadAddr']"
   ],
   "outputs": [
    {
     "output_type": "execute_result",
     "data": {
      "text/plain": [
       "'강원도 강릉시 경포로 365(저동)'"
      ]
     },
     "metadata": {},
     "execution_count": 34
    }
   ],
   "metadata": {}
  },
  {
   "cell_type": "code",
   "execution_count": 48,
   "source": [
    "result = {'documents': [{'address': {'address_name': '강원 강릉시 저동 94',\r\n",
    "    'b_code': '4215013700',\r\n",
    "    'h_code': '4215066500',\r\n",
    "    'main_address_no': '94',\r\n",
    "    'mountain_yn': 'N',\r\n",
    "    'region_1depth_name': '강원',\r\n",
    "    'region_2depth_name': '강릉시',\r\n",
    "    'region_3depth_h_name': '경포동',\r\n",
    "    'region_3depth_name': '저동',\r\n",
    "    'sub_address_no': '',\r\n",
    "    'x': '128.896538649542',\r\n",
    "    'y': '37.7955687639648'},\r\n",
    "   'address_name': '강원 강릉시 경포로 365',\r\n",
    "   'address_type': 'ROAD_ADDR',\r\n",
    "   'road_address': {'address_name': '강원 강릉시 경포로 365',\r\n",
    "    'building_name': '경포대',\r\n",
    "    'main_building_no': '365',\r\n",
    "    'region_1depth_name': '강원',\r\n",
    "    'region_2depth_name': '강릉시',\r\n",
    "    'region_3depth_name': '저동',\r\n",
    "    'road_name': '경포로',\r\n",
    "    'sub_building_no': '',\r\n",
    "    'underground_yn': 'N',\r\n",
    "    'x': '128.896538649542',\r\n",
    "    'y': '37.7955687639648',\r\n",
    "    'zone_no': '25461'},\r\n",
    "   'x': '128.896538649542',\r\n",
    "   'y': '37.7955687639648'}],\r\n",
    " 'meta': {'is_end': True, 'pageable_count': 1, 'total_count': 1}}\r\n",
    "\r\n",
    "print(result)\r\n",
    "print(\"\\n-------------------------------\\n\")\r\n",
    "print(result['documents'][0]['x'])\r\n",
    "print(result['documents'][0]['y'])"
   ],
   "outputs": [
    {
     "output_type": "stream",
     "name": "stdout",
     "text": [
      "{'documents': [{'address': {'address_name': '강원 강릉시 저동 94', 'b_code': '4215013700', 'h_code': '4215066500', 'main_address_no': '94', 'mountain_yn': 'N', 'region_1depth_name': '강원', 'region_2depth_name': '강릉시', 'region_3depth_h_name': '경포동', 'region_3depth_name': '저동', 'sub_address_no': '', 'x': '128.896538649542', 'y': '37.7955687639648'}, 'address_name': '강원 강릉시 경포로 365', 'address_type': 'ROAD_ADDR', 'road_address': {'address_name': '강원 강릉시 경포로 365', 'building_name': '경포대', 'main_building_no': '365', 'region_1depth_name': '강원', 'region_2depth_name': '강릉시', 'region_3depth_name': '저동', 'road_name': '경포로', 'sub_building_no': '', 'underground_yn': 'N', 'x': '128.896538649542', 'y': '37.7955687639648', 'zone_no': '25461'}, 'x': '128.896538649542', 'y': '37.7955687639648'}], 'meta': {'is_end': True, 'pageable_count': 1, 'total_count': 1}}\n",
      "\n",
      "-------------------------------\n",
      "\n",
      "128.896538649542\n",
      "37.7955687639648\n"
     ]
    }
   ],
   "metadata": {}
  },
  {
   "cell_type": "code",
   "execution_count": 49,
   "source": [
    "lat = float(result['documents'][0]['x'])\r\n",
    "lng = float(result['documents'][0]['y'])\r\n",
    "print(f'위도 : {lat:.6f}, 경도 : {lng:.6f}')"
   ],
   "outputs": [
    {
     "output_type": "stream",
     "name": "stdout",
     "text": [
      "위도 : 128.896539, 경도 : 37.795569\n"
     ]
    }
   ],
   "metadata": {}
  },
  {
   "cell_type": "code",
   "execution_count": null,
   "source": [],
   "outputs": [],
   "metadata": {}
  }
 ],
 "metadata": {
  "orig_nbformat": 4,
  "language_info": {
   "name": "python",
   "version": "3.8.10",
   "mimetype": "text/x-python",
   "codemirror_mode": {
    "name": "ipython",
    "version": 3
   },
   "pygments_lexer": "ipython3",
   "nbconvert_exporter": "python",
   "file_extension": ".py"
  },
  "kernelspec": {
   "name": "python3",
   "display_name": "Python 3.8.10 64-bit ('base': conda)"
  },
  "interpreter": {
   "hash": "b3ba2566441a7c06988d0923437866b63cedc61552a5af99d1f4fb67d367b25f"
  }
 },
 "nbformat": 4,
 "nbformat_minor": 2
}