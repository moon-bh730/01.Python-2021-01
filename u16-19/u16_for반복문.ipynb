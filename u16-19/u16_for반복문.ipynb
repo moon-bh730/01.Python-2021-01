{
  "nbformat": 4,
  "nbformat_minor": 0,
  "metadata": {
    "colab": {
      "name": "u16_for반복문.ipynb",
      "provenance": [],
      "collapsed_sections": []
    },
    "kernelspec": {
      "name": "python3",
      "display_name": "Python 3"
    },
    "language_info": {
      "name": "python"
    }
  },
  "cells": [
    {
      "cell_type": "markdown",
      "metadata": {
        "id": "ecKM0cLbs-nB"
      },
      "source": [
        "# Unit 16. for 반복문"
      ]
    },
    {
      "cell_type": "markdown",
      "metadata": {
        "id": "fufwbn2vtIWG"
      },
      "source": [
        "## 16.1 for와 range\n",
        "- for 변수 in range(횟수):\n",
        "     반복할 코드"
      ]
    },
    {
      "cell_type": "code",
      "metadata": {
        "colab": {
          "base_uri": "https://localhost:8080/"
        },
        "id": "S9bq-nIys63w",
        "outputId": "8976ba68-9ab6-4529-e5f5-95288c52fb55"
      },
      "source": [
        "for i in range(10):\n",
        "  print(\"hello, 반복문 테스트!!\")"
      ],
      "execution_count": 1,
      "outputs": [
        {
          "output_type": "stream",
          "text": [
            "hello, 반복문 테스트!!\n",
            "hello, 반복문 테스트!!\n",
            "hello, 반복문 테스트!!\n",
            "hello, 반복문 테스트!!\n",
            "hello, 반복문 테스트!!\n",
            "hello, 반복문 테스트!!\n",
            "hello, 반복문 테스트!!\n",
            "hello, 반복문 테스트!!\n",
            "hello, 반복문 테스트!!\n",
            "hello, 반복문 테스트!!\n"
          ],
          "name": "stdout"
        }
      ]
    },
    {
      "cell_type": "code",
      "metadata": {
        "colab": {
          "base_uri": "https://localhost:8080/"
        },
        "id": "E9MXndcTtg9o",
        "outputId": "ad6a6099-e9ec-4ee9-ff81-93beea02e81c"
      },
      "source": [
        "for _ in range(10):\n",
        "  print(\"hello, 반복문 테스트!!\")"
      ],
      "execution_count": 2,
      "outputs": [
        {
          "output_type": "stream",
          "text": [
            "hello, 반복문 테스트!!\n",
            "hello, 반복문 테스트!!\n",
            "hello, 반복문 테스트!!\n",
            "hello, 반복문 테스트!!\n",
            "hello, 반복문 테스트!!\n",
            "hello, 반복문 테스트!!\n",
            "hello, 반복문 테스트!!\n",
            "hello, 반복문 테스트!!\n",
            "hello, 반복문 테스트!!\n",
            "hello, 반복문 테스트!!\n"
          ],
          "name": "stdout"
        }
      ]
    },
    {
      "cell_type": "markdown",
      "metadata": {
        "id": "614I7h43yEle"
      },
      "source": [
        "## 16.2 for와 range응용"
      ]
    },
    {
      "cell_type": "code",
      "metadata": {
        "colab": {
          "base_uri": "https://localhost:8080/"
        },
        "id": "VP6IP5GCyDJD",
        "outputId": "cc1b77a2-3aec-4e8f-b5ff-9151b2f89aa5"
      },
      "source": [
        "for i in range(6,10):\n",
        "  print(\"hello, 반복문 테스트!!\",i)"
      ],
      "execution_count": 3,
      "outputs": [
        {
          "output_type": "stream",
          "text": [
            "hello, 반복문 테스트!! 6\n",
            "hello, 반복문 테스트!! 7\n",
            "hello, 반복문 테스트!! 8\n",
            "hello, 반복문 테스트!! 9\n"
          ],
          "name": "stdout"
        }
      ]
    },
    {
      "cell_type": "code",
      "metadata": {
        "colab": {
          "base_uri": "https://localhost:8080/"
        },
        "id": "Q9AEGQ6QyRAB",
        "outputId": "0804a724-ed1f-4c78-c72f-5cfbf6223e08"
      },
      "source": [
        "for i in range(0,10,2):\n",
        "  print(\"hello, 반복문 테스트!!\",i)"
      ],
      "execution_count": 4,
      "outputs": [
        {
          "output_type": "stream",
          "text": [
            "hello, 반복문 테스트!! 0\n",
            "hello, 반복문 테스트!! 2\n",
            "hello, 반복문 테스트!! 4\n",
            "hello, 반복문 테스트!! 6\n",
            "hello, 반복문 테스트!! 8\n"
          ],
          "name": "stdout"
        }
      ]
    },
    {
      "cell_type": "code",
      "metadata": {
        "colab": {
          "base_uri": "https://localhost:8080/"
        },
        "id": "8SI-oa7YyXag",
        "outputId": "94db489c-1242-41bc-be6a-fbbfde130468"
      },
      "source": [
        "for i in range(10,0,-2):\n",
        "  print(\"hello, 반복문 테스트!!\",i)"
      ],
      "execution_count": 5,
      "outputs": [
        {
          "output_type": "stream",
          "text": [
            "hello, 반복문 테스트!! 10\n",
            "hello, 반복문 테스트!! 8\n",
            "hello, 반복문 테스트!! 6\n",
            "hello, 반복문 테스트!! 4\n",
            "hello, 반복문 테스트!! 2\n"
          ],
          "name": "stdout"
        }
      ]
    },
    {
      "cell_type": "code",
      "metadata": {
        "colab": {
          "base_uri": "https://localhost:8080/"
        },
        "id": "MFvc9yOQyboI",
        "outputId": "7032fe0a-88dc-4af5-ff80-8177a4d38e33"
      },
      "source": [
        "# 1~100까지 피즈버즈 찍기\n",
        "for i in range(1,101):\n",
        "  print(\"Fizz\"*(i%3==0) + \"Buzz\"*(i%5==0) or i, end = ' ')\n",
        "  if (i % 10 ==0):\n",
        "    print()\n"
      ],
      "execution_count": 10,
      "outputs": [
        {
          "output_type": "stream",
          "text": [
            "1 2 Fizz 4 Buzz Fizz 7 8 Fizz Buzz \n",
            "11 Fizz 13 14 FizzBuzz 16 17 Fizz 19 Buzz \n",
            "Fizz 22 23 Fizz Buzz 26 Fizz 28 29 FizzBuzz \n",
            "31 32 Fizz 34 Buzz Fizz 37 38 Fizz Buzz \n",
            "41 Fizz 43 44 FizzBuzz 46 47 Fizz 49 Buzz \n",
            "Fizz 52 53 Fizz Buzz 56 Fizz 58 59 FizzBuzz \n",
            "61 62 Fizz 64 Buzz Fizz 67 68 Fizz Buzz \n",
            "71 Fizz 73 74 FizzBuzz 76 77 Fizz 79 Buzz \n",
            "Fizz 82 83 Fizz Buzz 86 Fizz 88 89 FizzBuzz \n",
            "91 92 Fizz 94 Buzz Fizz 97 98 Fizz Buzz \n"
          ],
          "name": "stdout"
        }
      ]
    },
    {
      "cell_type": "markdown",
      "metadata": {
        "id": "iAP7_UfFz9_v"
      },
      "source": [
        "## 16.3 시퀀스 객체 반복"
      ]
    },
    {
      "cell_type": "code",
      "metadata": {
        "colab": {
          "base_uri": "https://localhost:8080/"
        },
        "id": "0aXWmPIfzBYg",
        "outputId": "2485f951-e811-4d9f-82c9-01eed8688606"
      },
      "source": [
        "fruits = ['apple','banana','cherry','watermelon']\n",
        "for element in fruits:\n",
        "  print(element)"
      ],
      "execution_count": 11,
      "outputs": [
        {
          "output_type": "stream",
          "text": [
            "apple\n",
            "banana\n",
            "cherry\n",
            "watermelon\n"
          ],
          "name": "stdout"
        }
      ]
    },
    {
      "cell_type": "code",
      "metadata": {
        "colab": {
          "base_uri": "https://localhost:8080/"
        },
        "id": "fa-kMkcd0X7h",
        "outputId": "212ad28e-ba7a-410b-e7f6-cd10b8aa6e8d"
      },
      "source": [
        "#변수명을 신경써서 조정\n",
        "fruit_list = ['apple','banana','cherry','watermelon']\n",
        "for fruit in fruit_list:\n",
        "  print(fruit)"
      ],
      "execution_count": 12,
      "outputs": [
        {
          "output_type": "stream",
          "text": [
            "apple\n",
            "banana\n",
            "cherry\n",
            "watermelon\n"
          ],
          "name": "stdout"
        }
      ]
    },
    {
      "cell_type": "markdown",
      "metadata": {
        "id": "ndZRTQBI1gy7"
      },
      "source": [
        "파이썬 변수 권장 설정\n",
        "- 변수는 소문자로 두개 단어를 연계하면 가독성에 좋다\n",
        "- 대문자는 클래스를 의미 함으로 변수명에 사용하지 않는게 좋다."
      ]
    },
    {
      "cell_type": "code",
      "metadata": {
        "colab": {
          "base_uri": "https://localhost:8080/"
        },
        "id": "sajMyGmr00Vp",
        "outputId": "40ab828d-0824-4955-9ed5-09529f1af7be"
      },
      "source": [
        "for letter in \"Python\":\n",
        "  print(letter, end=\" \")"
      ],
      "execution_count": 15,
      "outputs": [
        {
          "output_type": "stream",
          "text": [
            "P y t h o n "
          ],
          "name": "stdout"
        }
      ]
    },
    {
      "cell_type": "code",
      "metadata": {
        "colab": {
          "base_uri": "https://localhost:8080/"
        },
        "id": "BwGmPmYJ2aW4",
        "outputId": "f0d5f6ae-98bf-4568-8d5f-f8e762f9ccef"
      },
      "source": [
        "for letter in reversed(\"Python\"):\n",
        "  print(letter, end=\" \")"
      ],
      "execution_count": 16,
      "outputs": [
        {
          "output_type": "stream",
          "text": [
            "n o h t y P "
          ],
          "name": "stdout"
        }
      ]
    },
    {
      "cell_type": "code",
      "metadata": {
        "colab": {
          "base_uri": "https://localhost:8080/"
        },
        "id": "S_aL5BrH25jB",
        "outputId": "9ef427f5-969a-4a60-c820-987163c37c54"
      },
      "source": [
        "for number in (10,20,30):\n",
        "  print(number)"
      ],
      "execution_count": 17,
      "outputs": [
        {
          "output_type": "stream",
          "text": [
            "10\n",
            "20\n",
            "30\n"
          ],
          "name": "stdout"
        }
      ]
    },
    {
      "cell_type": "code",
      "metadata": {
        "id": "f5VuQG5z3Mtx"
      },
      "source": [
        ""
      ],
      "execution_count": null,
      "outputs": []
    }
  ]
}