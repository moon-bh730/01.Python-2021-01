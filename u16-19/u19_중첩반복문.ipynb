{
 "cells": [
  {
   "cell_type": "markdown",
   "source": [
    "# Unit 19. 중첩 반복문"
   ],
   "metadata": {}
  },
  {
   "cell_type": "markdown",
   "source": [
    "## 19.1 중첩(Nested) for loop"
   ],
   "metadata": {}
  },
  {
   "cell_type": "code",
   "execution_count": 2,
   "source": [
    "\r\n",
    "# 교재 그대로\r\n",
    "for i in range(5):\r\n",
    "    for k in range(10,50,10):\r\n",
    "        print(\"k:\", k, sep=\"\", end=\"\")\r\n",
    "    print(\"i : \", i, \"\\\\n\",sep=\"\")  "
   ],
   "outputs": [
    {
     "output_type": "stream",
     "name": "stdout",
     "text": [
      "k:10k:20k:30k:40i : 0\\n\n",
      "k:10k:20k:30k:40i : 1\\n\n",
      "k:10k:20k:30k:40i : 2\\n\n",
      "k:10k:20k:30k:40i : 3\\n\n",
      "k:10k:20k:30k:40i : 4\\n\n"
     ]
    }
   ],
   "metadata": {}
  },
  {
   "cell_type": "code",
   "execution_count": 4,
   "source": [
    "for i in range(1,6):\r\n",
    "    for k in range(10,50,10):\r\n",
    "        print( k, end=\" \")\r\n",
    "    print( i)"
   ],
   "outputs": [
    {
     "output_type": "stream",
     "name": "stdout",
     "text": [
      "10 20 30 40 1\n",
      "10 20 30 40 2\n",
      "10 20 30 40 3\n",
      "10 20 30 40 4\n",
      "10 20 30 40 5\n"
     ]
    }
   ],
   "metadata": {}
  },
  {
   "cell_type": "markdown",
   "source": [
    "## 19.2 별 사각형"
   ],
   "metadata": {}
  },
  {
   "cell_type": "code",
   "execution_count": 5,
   "source": [
    "for i in range(5):\r\n",
    "    for k in range(5):\r\n",
    "        print(\"*\", end=\"\")\r\n",
    "    print()"
   ],
   "outputs": [
    {
     "output_type": "stream",
     "name": "stdout",
     "text": [
      "*****\n",
      "*****\n",
      "*****\n",
      "*****\n",
      "*****\n"
     ]
    }
   ],
   "metadata": {}
  },
  {
   "cell_type": "code",
   "execution_count": 10,
   "source": [
    "# 평행사변형 그리기\r\n",
    "\r\n",
    "for i in range(5):\r\n",
    "    for _ in range(0,i):\r\n",
    "        print(\" \", end=\"\")\r\n",
    "    for _ in range(5):\r\n",
    "        print(\"*\", end=\"\")\r\n",
    "    print()\r\n"
   ],
   "outputs": [
    {
     "output_type": "stream",
     "name": "stdout",
     "text": [
      "*****\n",
      " *****\n",
      "  *****\n",
      "   *****\n",
      "    *****\n"
     ]
    }
   ],
   "metadata": {}
  },
  {
   "cell_type": "code",
   "execution_count": 12,
   "source": [
    "for i in range(4):\r\n",
    "    print(\" \"*i, \"*\"*5, sep=\"\")"
   ],
   "outputs": [
    {
     "output_type": "stream",
     "name": "stdout",
     "text": [
      "*****\n",
      " *****\n",
      "  *****\n",
      "   *****\n"
     ]
    }
   ],
   "metadata": {}
  },
  {
   "cell_type": "markdown",
   "source": [
    "## 19.3 계단식 별모양"
   ],
   "metadata": {}
  },
  {
   "cell_type": "code",
   "execution_count": 14,
   "source": [
    "#1. 계단 그리기\r\n",
    "for i in range(5):\r\n",
    "    for k in range(i):\r\n",
    "        print(\"*\", end=\"\")\r\n",
    "    print()"
   ],
   "outputs": [
    {
     "output_type": "stream",
     "name": "stdout",
     "text": [
      "\n",
      "*\n",
      "**\n",
      "***\n",
      "****\n"
     ]
    }
   ],
   "metadata": {}
  },
  {
   "cell_type": "code",
   "execution_count": 28,
   "source": [
    "for i in range(5): \r\n",
    "    print(\"*\" * (i+1))"
   ],
   "outputs": [
    {
     "output_type": "stream",
     "name": "stdout",
     "text": [
      "*\n",
      "**\n",
      "***\n",
      "****\n",
      "*****\n"
     ]
    }
   ],
   "metadata": {}
  },
  {
   "cell_type": "code",
   "execution_count": 26,
   "source": [
    "for i in range(5):    \r\n",
    "    for k in range(i):\r\n",
    "        print(\" \", end=\"\")\r\n",
    "    for k in range(5-i):\r\n",
    "        print(\"*\", end=\"\")\r\n",
    "    print()"
   ],
   "outputs": [
    {
     "output_type": "stream",
     "name": "stdout",
     "text": [
      "*****\n",
      " ****\n",
      "  ***\n",
      "   **\n",
      "    *\n"
     ]
    }
   ],
   "metadata": {}
  },
  {
   "cell_type": "code",
   "execution_count": 29,
   "source": [
    "for i in range(5): \r\n",
    "    print(\" \"*i, \"*\"*(5-i),sep=\"\")"
   ],
   "outputs": [
    {
     "output_type": "stream",
     "name": "stdout",
     "text": [
      "*****\n",
      " ****\n",
      "  ***\n",
      "   **\n",
      "    *\n"
     ]
    }
   ],
   "metadata": {}
  },
  {
   "cell_type": "code",
   "execution_count": 47,
   "source": [
    "dia = 9\r\n",
    "if dia % 2 == 1:\r\n",
    "    i = 1\r\n",
    "else :\r\n",
    "    i = 2\r\n",
    "\r\n",
    "for i in range(i, dia+1, 2):    \r\n",
    "    print(\" \"*((dia-i)//2), \"*\"*i ,\" \"*((dia-i)//2))\r\n",
    "\r\n",
    "for i in range(i-2, 0, -2):\r\n",
    "    print(\" \"*((dia-i)//2), \"*\"*i,\" \"*((dia-i)//2))"
   ],
   "outputs": [
    {
     "output_type": "stream",
     "name": "stdout",
     "text": [
      "     *     \n",
      "    ***    \n",
      "   *****   \n",
      "  *******  \n",
      " ********* \n",
      "  *******  \n",
      "   *****   \n",
      "    ***    \n",
      "     *     \n"
     ]
    }
   ],
   "metadata": {}
  },
  {
   "cell_type": "code",
   "execution_count": null,
   "source": [],
   "outputs": [],
   "metadata": {}
  }
 ],
 "metadata": {
  "orig_nbformat": 4,
  "language_info": {
   "name": "python",
   "version": "3.8.10",
   "mimetype": "text/x-python",
   "codemirror_mode": {
    "name": "ipython",
    "version": 3
   },
   "pygments_lexer": "ipython3",
   "nbconvert_exporter": "python",
   "file_extension": ".py"
  },
  "kernelspec": {
   "name": "python3",
   "display_name": "Python 3.8.10 64-bit ('base': conda)"
  },
  "interpreter": {
   "hash": "b3ba2566441a7c06988d0923437866b63cedc61552a5af99d1f4fb67d367b25f"
  }
 },
 "nbformat": 4,
 "nbformat_minor": 2
}