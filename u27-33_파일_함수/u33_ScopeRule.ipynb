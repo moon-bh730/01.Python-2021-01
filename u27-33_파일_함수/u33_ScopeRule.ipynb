{
 "cells": [
  {
   "cell_type": "markdown",
   "source": [
    "# Unit 33. 변수의 사용 범위(Scope Rule)"
   ],
   "metadata": {}
  },
  {
   "cell_type": "code",
   "execution_count": 1,
   "source": [
    "x = 10              #전역(global, public) 변수\r\n",
    "def foo():\r\n",
    "    print(x)\r\n",
    "\r\n",
    "foo()\r\n",
    "print(x)"
   ],
   "outputs": [
    {
     "output_type": "stream",
     "name": "stdout",
     "text": [
      "10\n",
      "10\n"
     ]
    }
   ],
   "metadata": {}
  },
  {
   "cell_type": "code",
   "execution_count": null,
   "source": [
    "def foo():\r\n",
    "    y = 10      #지역(local, private) 변수\r\n",
    "    print(y)\r\n",
    "\r\n",
    "foo()"
   ],
   "outputs": [],
   "metadata": {}
  },
  {
   "cell_type": "code",
   "execution_count": 2,
   "source": [
    "### 함수 안에서 전역 변수 변경하기"
   ],
   "outputs": [],
   "metadata": {}
  },
  {
   "cell_type": "code",
   "execution_count": 3,
   "source": [
    "x = 10              #전역(global, public) 변수\r\n",
    "def foo():\r\n",
    "    x=20\r\n",
    "    print(x)\r\n",
    "\r\n",
    "foo()\r\n",
    "print(x)"
   ],
   "outputs": [
    {
     "output_type": "stream",
     "name": "stdout",
     "text": [
      "20\n",
      "10\n"
     ]
    }
   ],
   "metadata": {}
  },
  {
   "cell_type": "code",
   "execution_count": 4,
   "source": [
    "x = 10              #전역(global, public) 변수\r\n",
    "def foo():\r\n",
    "    global x        # 전역변수임을 재 선언\r\n",
    "    x=20\r\n",
    "    print(x)\r\n",
    "\r\n",
    "foo()\r\n",
    "print(x)"
   ],
   "outputs": [
    {
     "output_type": "stream",
     "name": "stdout",
     "text": [
      "20\n",
      "20\n"
     ]
    }
   ],
   "metadata": {}
  },
  {
   "cell_type": "code",
   "execution_count": null,
   "source": [],
   "outputs": [],
   "metadata": {}
  }
 ],
 "metadata": {
  "orig_nbformat": 4,
  "language_info": {
   "name": "python",
   "version": "3.8.10",
   "mimetype": "text/x-python",
   "codemirror_mode": {
    "name": "ipython",
    "version": 3
   },
   "pygments_lexer": "ipython3",
   "nbconvert_exporter": "python",
   "file_extension": ".py"
  },
  "kernelspec": {
   "name": "python3",
   "display_name": "Python 3.8.10 64-bit ('base': conda)"
  },
  "interpreter": {
   "hash": "b3ba2566441a7c06988d0923437866b63cedc61552a5af99d1f4fb67d367b25f"
  }
 },
 "nbformat": 4,
 "nbformat_minor": 2
}