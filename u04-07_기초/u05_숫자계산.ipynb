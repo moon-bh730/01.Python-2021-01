{
  "nbformat": 4,
  "nbformat_minor": 0,
  "metadata": {
    "colab": {
      "name": "u05_숫자계산.ipynb",
      "provenance": [],
      "collapsed_sections": []
    },
    "kernelspec": {
      "name": "python3",
      "display_name": "Python 3"
    },
    "language_info": {
      "name": "python"
    }
  },
  "cells": [
    {
      "cell_type": "markdown",
      "metadata": {
        "id": "RydBAIE6o92K"
      },
      "source": [
        "# Unit 5. 숫자 계산하기"
      ]
    },
    {
      "cell_type": "markdown",
      "metadata": {
        "id": "wZBUUVStquPD"
      },
      "source": [
        "## 5.1 정수"
      ]
    },
    {
      "cell_type": "code",
      "metadata": {
        "colab": {
          "base_uri": "https://localhost:8080/"
        },
        "id": "sDKky6gkpK7s",
        "outputId": "12e4b9c2-8958-4ae0-dcab-0599716b36cb"
      },
      "source": [
        "# 4칙 연산, +, -< *, /, %, //\n",
        "5/2"
      ],
      "execution_count": null,
      "outputs": [
        {
          "output_type": "execute_result",
          "data": {
            "text/plain": [
              "2.5"
            ]
          },
          "metadata": {
            "tags": []
          },
          "execution_count": 2
        }
      ]
    },
    {
      "cell_type": "code",
      "metadata": {
        "colab": {
          "base_uri": "https://localhost:8080/"
        },
        "id": "xo1aYU7Bq5-k",
        "outputId": "97793d0f-f439-490c-df0e-e985f2b6befa"
      },
      "source": [
        "# % - module, 나머지\n",
        "5%2"
      ],
      "execution_count": null,
      "outputs": [
        {
          "output_type": "execute_result",
          "data": {
            "text/plain": [
              "1"
            ]
          },
          "metadata": {
            "tags": []
          },
          "execution_count": 3
        }
      ]
    },
    {
      "cell_type": "code",
      "metadata": {
        "colab": {
          "base_uri": "https://localhost:8080/"
        },
        "id": "552bm24Pt3uc",
        "outputId": "02f75702-43ee-4ebb-f444-33d38dc06fc7"
      },
      "source": [
        "# // - 몫\n",
        "5/2"
      ],
      "execution_count": null,
      "outputs": [
        {
          "output_type": "execute_result",
          "data": {
            "text/plain": [
              "2.5"
            ]
          },
          "metadata": {
            "tags": []
          },
          "execution_count": 4
        }
      ]
    },
    {
      "cell_type": "code",
      "metadata": {
        "colab": {
          "base_uri": "https://localhost:8080/"
        },
        "id": "5VidLnWHt8Lk",
        "outputId": "efe1780e-d407-4987-ac78-0ef862d87c94"
      },
      "source": [
        "# 배수 - 어떤 숫자를 3으로 모듈 연산을 했을때 결과가 0\n",
        "6%3"
      ],
      "execution_count": null,
      "outputs": [
        {
          "output_type": "execute_result",
          "data": {
            "text/plain": [
              "0"
            ]
          },
          "metadata": {
            "tags": []
          },
          "execution_count": 5
        }
      ]
    },
    {
      "cell_type": "code",
      "metadata": {
        "colab": {
          "base_uri": "https://localhost:8080/"
        },
        "id": "zDZcp-s8uOZk",
        "outputId": "a9661f50-ceed-40dd-9e58-bb5f732df7ee"
      },
      "source": [
        "# 거듭 제곱\n",
        "2**10"
      ],
      "execution_count": null,
      "outputs": [
        {
          "output_type": "execute_result",
          "data": {
            "text/plain": [
              "1024"
            ]
          },
          "metadata": {
            "tags": []
          },
          "execution_count": 6
        }
      ]
    },
    {
      "cell_type": "markdown",
      "metadata": {
        "id": "1BNR0DkVu7G_"
      },
      "source": [
        "값을 정수(integer)로 변환"
      ]
    },
    {
      "cell_type": "code",
      "metadata": {
        "colab": {
          "base_uri": "https://localhost:8080/"
        },
        "id": "-WmG1ENQuryM",
        "outputId": "13f4c099-f103-4bd6-cf40-20fa76309584"
      },
      "source": [
        "int(3.14)"
      ],
      "execution_count": null,
      "outputs": [
        {
          "output_type": "execute_result",
          "data": {
            "text/plain": [
              "3"
            ]
          },
          "metadata": {
            "tags": []
          },
          "execution_count": 7
        }
      ]
    },
    {
      "cell_type": "code",
      "metadata": {
        "colab": {
          "base_uri": "https://localhost:8080/"
        },
        "id": "Geq3XraAvF4E",
        "outputId": "df348af5-b438-4456-b182-337f868e734b"
      },
      "source": [
        "int(5/2)"
      ],
      "execution_count": null,
      "outputs": [
        {
          "output_type": "execute_result",
          "data": {
            "text/plain": [
              "2"
            ]
          },
          "metadata": {
            "tags": []
          },
          "execution_count": 8
        }
      ]
    },
    {
      "cell_type": "code",
      "metadata": {
        "colab": {
          "base_uri": "https://localhost:8080/"
        },
        "id": "lZV4kE5KvTwa",
        "outputId": "d6cab109-16d0-41b6-f672-48d25e70b059"
      },
      "source": [
        "# '작은 따옴표', \"큰 따옴표\" 모두 문자열로 인지한다.\n",
        "# 숫자는 따옴표 안에 있을때 다른색(밤색?)으로 문자는 녹색으로 표현된다.\n",
        "int('55')"
      ],
      "execution_count": null,
      "outputs": [
        {
          "output_type": "execute_result",
          "data": {
            "text/plain": [
              "55"
            ]
          },
          "metadata": {
            "tags": []
          },
          "execution_count": 9
        }
      ]
    },
    {
      "cell_type": "code",
      "metadata": {
        "colab": {
          "base_uri": "https://localhost:8080/"
        },
        "id": "QqsJEuQyvZb5",
        "outputId": "c481f5fa-a87a-41bd-a0b5-4ae7a8e8b9c8"
      },
      "source": [
        "string = '55'\n",
        "value = int(string)\n",
        "string, value"
      ],
      "execution_count": null,
      "outputs": [
        {
          "output_type": "execute_result",
          "data": {
            "text/plain": [
              "('55', 55)"
            ]
          },
          "metadata": {
            "tags": []
          },
          "execution_count": 10
        }
      ]
    },
    {
      "cell_type": "code",
      "metadata": {
        "colab": {
          "base_uri": "https://localhost:8080/"
        },
        "id": "DjRk3xWmwEcU",
        "outputId": "f99f0428-5c69-4ef9-f65d-a6e06233a86d"
      },
      "source": [
        "# 튜플\n",
        "type(string),type(value), type(3.14)"
      ],
      "execution_count": null,
      "outputs": [
        {
          "output_type": "execute_result",
          "data": {
            "text/plain": [
              "(str, int, float)"
            ]
          },
          "metadata": {
            "tags": []
          },
          "execution_count": 12
        }
      ]
    },
    {
      "cell_type": "markdown",
      "metadata": {
        "id": "0NaTPjzKxCfI"
      },
      "source": [
        "'5'     0011 0101     0x35     문자열(str)\n",
        "5       0000 0101     0x05     정수(int)\n",
        "5.       실수(float)\n",
        "\n",
        "\n",
        "정수 32비트의 표현 범위는\n",
        "-2147483648 ~ 2147483647\n",
        "\n",
        "실수는 1e-30 ~ e34 \n",
        "\n",
        "제한된 범위의 수치를 표현 한다."
      ]
    },
    {
      "cell_type": "code",
      "metadata": {
        "colab": {
          "base_uri": "https://localhost:8080/"
        },
        "id": "Aebkxq0TwVNU",
        "outputId": "0d33c1a1-c279-4878-e6d7-a90799c7c75d"
      },
      "source": [
        "# 몫과 나머지를 동시에 계산 divmod(5, 2)\n",
        "q, r = 5// 2, 5 %2        # 파이썬은 여러개의 변수를 여러개의 수식을 한줄에 처리 가능하다.\n",
        "q, r"
      ],
      "execution_count": null,
      "outputs": [
        {
          "output_type": "execute_result",
          "data": {
            "text/plain": [
              "(2, 1)"
            ]
          },
          "metadata": {
            "tags": []
          },
          "execution_count": 14
        }
      ]
    },
    {
      "cell_type": "markdown",
      "metadata": {
        "id": "HYjUnE8xx7SC"
      },
      "source": [
        "### 진수"
      ]
    },
    {
      "cell_type": "code",
      "metadata": {
        "colab": {
          "base_uri": "https://localhost:8080/"
        },
        "id": "ds6eWg2fxfPt",
        "outputId": "c026135f-c2a3-4a25-a0cc-fc2824f6bfc0"
      },
      "source": [
        "# 2진수, 8진수, 16 진수\n",
        "0b101, 0o5, 0x5"
      ],
      "execution_count": null,
      "outputs": [
        {
          "output_type": "execute_result",
          "data": {
            "text/plain": [
              "(5, 5, 5)"
            ]
          },
          "metadata": {
            "tags": []
          },
          "execution_count": 16
        }
      ]
    },
    {
      "cell_type": "code",
      "metadata": {
        "colab": {
          "base_uri": "https://localhost:8080/"
        },
        "id": "uxLglHD3yMPN",
        "outputId": "b76b726b-fb89-4708-fa41-bb16d70e3681"
      },
      "source": [
        "0xa6"
      ],
      "execution_count": null,
      "outputs": [
        {
          "output_type": "execute_result",
          "data": {
            "text/plain": [
              "166"
            ]
          },
          "metadata": {
            "tags": []
          },
          "execution_count": 17
        }
      ]
    },
    {
      "cell_type": "code",
      "metadata": {
        "id": "JRTuvPK1zCBV"
      },
      "source": [
        "# red - 0xff0000, green - 0x00ff00, blue - 0x0000ff\n",
        "#   흰색 - #ffffff, 회색 - #888888, 진한회색 - #444444"
      ],
      "execution_count": null,
      "outputs": []
    },
    {
      "cell_type": "markdown",
      "metadata": {
        "id": "vvZNJH0_zyxf"
      },
      "source": [
        "## 5.2 실수"
      ]
    },
    {
      "cell_type": "code",
      "metadata": {
        "colab": {
          "base_uri": "https://localhost:8080/"
        },
        "id": "4jHgyx9fzyJV",
        "outputId": "d09692c7-2542-4794-ca6c-fe86d175fe4e"
      },
      "source": [
        "3.5 +2.1"
      ],
      "execution_count": null,
      "outputs": [
        {
          "output_type": "execute_result",
          "data": {
            "text/plain": [
              "5.6"
            ]
          },
          "metadata": {
            "tags": []
          },
          "execution_count": 19
        }
      ]
    },
    {
      "cell_type": "code",
      "metadata": {
        "colab": {
          "base_uri": "https://localhost:8080/"
        },
        "id": "q42wre-sz288",
        "outputId": "a8fee3e8-76f9-4a16-b082-d6ddf03fb293"
      },
      "source": [
        "# 결과가 이상하게 나옴 - 실수 표현시 오차가 난다\n",
        "4.3 - 2.7"
      ],
      "execution_count": null,
      "outputs": [
        {
          "output_type": "execute_result",
          "data": {
            "text/plain": [
              "1.5999999999999996"
            ]
          },
          "metadata": {
            "tags": []
          },
          "execution_count": 21
        }
      ]
    },
    {
      "cell_type": "code",
      "metadata": {
        "colab": {
          "base_uri": "https://localhost:8080/"
        },
        "id": "x4qfccezz5N9",
        "outputId": "80e3b52e-ca25-4250-ec4a-f3bf9041e34e"
      },
      "source": [
        "#실수 계산의 오차로 프로그래밍에 어려움 있다\n",
        "#실수(소수점 이하)의 제한된 공간으로 오차 발생됨\n",
        "4.3 - 2.7 == 1.6"
      ],
      "execution_count": null,
      "outputs": [
        {
          "output_type": "execute_result",
          "data": {
            "text/plain": [
              "False"
            ]
          },
          "metadata": {
            "tags": []
          },
          "execution_count": 22
        }
      ]
    },
    {
      "cell_type": "code",
      "metadata": {
        "colab": {
          "base_uri": "https://localhost:8080/"
        },
        "id": "NPibaG920jXV",
        "outputId": "96cc3c8f-4e70-4879-f4cd-820177525b29"
      },
      "source": [
        "# numpy의 절대값 처리로 오차를 보정한다.\n",
        "import numpy as np\n",
        "np.abs((4.3 - 2.7) - 1.6) < 1e-10"
      ],
      "execution_count": null,
      "outputs": [
        {
          "output_type": "execute_result",
          "data": {
            "text/plain": [
              "True"
            ]
          },
          "metadata": {
            "tags": []
          },
          "execution_count": 23
        }
      ]
    },
    {
      "cell_type": "code",
      "metadata": {
        "colab": {
          "base_uri": "https://localhost:8080/"
        },
        "id": "Fj_J86JK0-OF",
        "outputId": "3992994f-51da-4d21-d9c0-f38a040d16e7"
      },
      "source": [
        "4.2 + 5"
      ],
      "execution_count": null,
      "outputs": [
        {
          "output_type": "execute_result",
          "data": {
            "text/plain": [
              "9.2"
            ]
          },
          "metadata": {
            "tags": []
          },
          "execution_count": 24
        }
      ]
    },
    {
      "cell_type": "code",
      "metadata": {
        "colab": {
          "base_uri": "https://localhost:8080/",
          "height": 172
        },
        "id": "OOnNnY_C2DNB",
        "outputId": "e2580f82-d178-4dde-c132-83ee12ce7e4f"
      },
      "source": [
        "4.2 + '5'   #오류 발생한다 형변환 필요"
      ],
      "execution_count": null,
      "outputs": [
        {
          "output_type": "error",
          "ename": "TypeError",
          "evalue": "ignored",
          "traceback": [
            "\u001b[0;31m---------------------------------------------------------------------------\u001b[0m",
            "\u001b[0;31mTypeError\u001b[0m                                 Traceback (most recent call last)",
            "\u001b[0;32m<ipython-input-25-2f5f5e05b22c>\u001b[0m in \u001b[0;36m<module>\u001b[0;34m()\u001b[0m\n\u001b[0;32m----> 1\u001b[0;31m \u001b[0;36m4.2\u001b[0m \u001b[0;34m+\u001b[0m \u001b[0;34m'5'\u001b[0m   \u001b[0;31m#오류 발생한다 형변환 필요\u001b[0m\u001b[0;34m\u001b[0m\u001b[0;34m\u001b[0m\u001b[0m\n\u001b[0m",
            "\u001b[0;31mTypeError\u001b[0m: unsupported operand type(s) for +: 'float' and 'str'"
          ]
        }
      ]
    },
    {
      "cell_type": "code",
      "metadata": {
        "colab": {
          "base_uri": "https://localhost:8080/"
        },
        "id": "UPfOI7GJ2Jfn",
        "outputId": "45d93357-bc21-40f0-e992-f84097428fb3"
      },
      "source": [
        "4.2 + float('5')"
      ],
      "execution_count": null,
      "outputs": [
        {
          "output_type": "execute_result",
          "data": {
            "text/plain": [
              "9.2"
            ]
          },
          "metadata": {
            "tags": []
          },
          "execution_count": 26
        }
      ]
    },
    {
      "cell_type": "code",
      "metadata": {
        "colab": {
          "base_uri": "https://localhost:8080/"
        },
        "id": "204vl8yf2Mzt",
        "outputId": "6c24d1cb-41b6-4757-c4e3-6cdb8d2bca56"
      },
      "source": [
        "int(0.2467 * 12 + 4.159)"
      ],
      "execution_count": null,
      "outputs": [
        {
          "output_type": "execute_result",
          "data": {
            "text/plain": [
              "7"
            ]
          },
          "metadata": {
            "tags": []
          },
          "execution_count": 27
        }
      ]
    },
    {
      "cell_type": "code",
      "metadata": {
        "id": "qT5TTo29J-ZI"
      },
      "source": [
        "# shell escape(!)\n",
        "!python practice.py"
      ],
      "execution_count": 33,
      "outputs": []
    },
    {
      "cell_type": "code",
      "metadata": {
        "colab": {
          "base_uri": "https://localhost:8080/"
        },
        "id": "Hzpuwf8TKTO3",
        "outputId": "143acf93-9b6b-4e84-9677-06446e05268c"
      },
      "source": [
        "!ls -al"
      ],
      "execution_count": null,
      "outputs": [
        {
          "output_type": "stream",
          "text": [
            "total 20\n",
            "drwxr-xr-x 1 root root 4096 Jul 27 04:10 .\n",
            "drwxr-xr-x 1 root root 4096 Jul 27 01:44 ..\n",
            "drwxr-xr-x 4 root root 4096 Jul 16 13:19 .config\n",
            "-rw-r--r-- 1 root root   27 Jul 27 04:10 practice_arithmetic.py\n",
            "drwxr-xr-x 1 root root 4096 Jul 16 13:20 sample_data\n"
          ],
          "name": "stdout"
        }
      ]
    },
    {
      "cell_type": "code",
      "metadata": {
        "id": "ZCtTo5U2KgDn",
        "colab": {
          "base_uri": "https://localhost:8080/"
        },
        "outputId": "b2820bc0-5007-4347-ebc3-83d18d5d9c13"
      },
      "source": [
        "!ls -l sample_data/"
      ],
      "execution_count": null,
      "outputs": [
        {
          "output_type": "stream",
          "text": [
            "total 55504\n",
            "-rwxr-xr-x 1 root root     1697 Jan  1  2000 anscombe.json\n",
            "-rw-r--r-- 1 root root   301141 Jul 16 13:20 california_housing_test.csv\n",
            "-rw-r--r-- 1 root root  1706430 Jul 16 13:20 california_housing_train.csv\n",
            "-rw-r--r-- 1 root root 18289443 Jul 16 13:20 mnist_test.csv\n",
            "-rw-r--r-- 1 root root 36523880 Jul 16 13:20 mnist_train_small.csv\n",
            "-rwxr-xr-x 1 root root      930 Jan  1  2000 README.md\n"
          ],
          "name": "stdout"
        }
      ]
    },
    {
      "cell_type": "code",
      "metadata": {
        "id": "fmYeGQZ_Kkcv"
      },
      "source": [
        ""
      ],
      "execution_count": null,
      "outputs": []
    }
  ]
}