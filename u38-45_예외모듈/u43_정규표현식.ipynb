{
 "cells": [
  {
   "cell_type": "markdown",
   "source": [
    "# Unit 43. 정규 표현식"
   ],
   "metadata": {}
  },
  {
   "cell_type": "markdown",
   "source": [
    "### 문자열 판단"
   ],
   "metadata": {}
  },
  {
   "cell_type": "code",
   "execution_count": 1,
   "source": [
    "import re\r\n",
    "re.match(\"hello\",\"hello, world!!\")"
   ],
   "outputs": [
    {
     "output_type": "execute_result",
     "data": {
      "text/plain": [
       "<re.Match object; span=(0, 5), match='hello'>"
      ]
     },
     "metadata": {},
     "execution_count": 1
    }
   ],
   "metadata": {}
  },
  {
   "cell_type": "code",
   "execution_count": 2,
   "source": [
    "z = re.match(\"hello\",\"hello, world!!\")\r\n",
    "if z:\r\n",
    "    print(\"Found!!\")\r\n",
    "else:\r\n",
    "    print(\"Not found.\")"
   ],
   "outputs": [
    {
     "output_type": "stream",
     "name": "stdout",
     "text": [
      "Found!!\n"
     ]
    }
   ],
   "metadata": {}
  },
  {
   "cell_type": "code",
   "execution_count": 3,
   "source": [
    "# match는 문장의 처음에서 찾는다.\r\n",
    "\r\n",
    "if re.match(\"world\",\"hello, world!!\"):\r\n",
    "    print(\"Found!!\")\r\n",
    "else:\r\n",
    "    print(\"Not found.\")"
   ],
   "outputs": [
    {
     "output_type": "stream",
     "name": "stdout",
     "text": [
      "Not found.\n"
     ]
    }
   ],
   "metadata": {}
  },
  {
   "cell_type": "code",
   "execution_count": 4,
   "source": [
    "# search는 모든 문장에서 찾는다.\r\n",
    "\r\n",
    "if re.search(\"world\",\"hello, world!!\"):\r\n",
    "    print(\"Found!!\")\r\n",
    "else:\r\n",
    "    print(\"Not found.\")"
   ],
   "outputs": [
    {
     "output_type": "stream",
     "name": "stdout",
     "text": [
      "Found!!\n"
     ]
    }
   ],
   "metadata": {}
  },
  {
   "cell_type": "markdown",
   "source": [
    "## 43.2 범위 판단"
   ],
   "metadata": {}
  },
  {
   "cell_type": "code",
   "execution_count": 8,
   "source": [
    "# 휴대전화 번호형식\r\n",
    "pattern = \"01[0-9]-[0-9]{4}-[0-9]{4}\"\r\n",
    "text = \"02-1234-5678\"\r\n",
    "if re.match(pattern,text):\r\n",
    "    print(\"올바른 휴대전화 번호\")\r\n",
    "else:\r\n",
    "    print(\"잘못된 휴대전화 번호\")"
   ],
   "outputs": [
    {
     "output_type": "stream",
     "name": "stdout",
     "text": [
      "잘못된 휴대전화 번호\n"
     ]
    }
   ],
   "metadata": {}
  },
  {
   "cell_type": "code",
   "execution_count": 10,
   "source": [
    "# 한글 패턴\r\n",
    "hangul = \"[ㄱ-ㅎ ㅏ-ㅣ 가-힣]+\"\r\n",
    "text = \"text\"\r\n",
    "if re.search(hangul, text):\r\n",
    "    print(\"한글이 있음\")\r\n",
    "else:\r\n",
    "    print(\"한글이 없음\")"
   ],
   "outputs": [
    {
     "output_type": "stream",
     "name": "stdout",
     "text": [
      "한글이 없음\n"
     ]
    }
   ],
   "metadata": {}
  },
  {
   "cell_type": "markdown",
   "source": [
    "### 이메일주소 검사하기"
   ],
   "metadata": {}
  },
  {
   "cell_type": "code",
   "execution_count": 28,
   "source": [
    "#p = re.compile(\"^[0-9a-zA-Z]([-_.]?[0-9a-zA-Z])*@[0-9a-zA-Z]([-_.]?[0-9a-zA-Z])*.[a-zA-Z]{2,3}$\")\r\n",
    " = re.compile(\"^[a-zA-Z0-9+-_.]+@[a-zA-Z0-9-]+\\.[a-zA-Z0-9-.]+$\")"
   ],
   "outputs": [
    {
     "output_type": "error",
     "ename": "IndentationError",
     "evalue": "unexpected indent (<ipython-input-28-7f053844ce0b>, line 2)",
     "traceback": [
      "\u001b[1;36m  File \u001b[1;32m\"<ipython-input-28-7f053844ce0b>\"\u001b[1;36m, line \u001b[1;32m2\u001b[0m\n\u001b[1;33m    = re.compile(\"^[a-zA-Z0-9+-_.]+@[a-zA-Z0-9-]+\\.[a-zA-Z0-9-.]+$\")\u001b[0m\n\u001b[1;37m    ^\u001b[0m\n\u001b[1;31mIndentationError\u001b[0m\u001b[1;31m:\u001b[0m unexpected indent\n"
     ]
    }
   ],
   "metadata": {}
  },
  {
   "cell_type": "code",
   "execution_count": 26,
   "source": [
    "emails = ['python@mail.example.com', 'python+kr@example.com',              # 올바른 형식\r\n",
    "          'python-dojang@example.co.kr', 'python_10@example.info',         # 올바른 형식\r\n",
    "          'python.dojang@e-xample.com',                                    # 올바른 형식\r\n",
    "          '@example.com', 'python@example', 'python@example-com'          # 잘못된 형식\r\n",
    "]"
   ],
   "outputs": [],
   "metadata": {}
  },
  {
   "cell_type": "code",
   "execution_count": 27,
   "source": [
    "for email in emails:\r\n",
    "    print(p.match(email) != None, end = \" \")"
   ],
   "outputs": [
    {
     "output_type": "stream",
     "name": "stdout",
     "text": [
      "True False True True True False True True "
     ]
    }
   ],
   "metadata": {}
  },
  {
   "cell_type": "markdown",
   "source": [
    "## 43.4 문자열 바꾸기"
   ],
   "metadata": {}
  },
  {
   "cell_type": "code",
   "execution_count": 11,
   "source": [
    "# re.sub(\"패턴\", \"바꿀문자열\", \"대상문자열\")\r\n",
    "re.sub(\"apple|orange\",\"fruit\",\"apple box orange tree\")"
   ],
   "outputs": [
    {
     "output_type": "execute_result",
     "data": {
      "text/plain": [
       "'fruit box fruit tree'"
      ]
     },
     "metadata": {},
     "execution_count": 11
    }
   ],
   "metadata": {}
  },
  {
   "cell_type": "code",
   "execution_count": 13,
   "source": [
    "re.sub(\"[0-9]\",\"n\",\"1 2 Fizz 4 Buzz Fizz 7 8 Fizz Buzz 11 12\")"
   ],
   "outputs": [
    {
     "output_type": "execute_result",
     "data": {
      "text/plain": [
       "'n n Fizz n Buzz Fizz n n Fizz Buzz nn nn'"
      ]
     },
     "metadata": {},
     "execution_count": 13
    }
   ],
   "metadata": {}
  },
  {
   "cell_type": "code",
   "execution_count": 12,
   "source": [
    "re.sub(\"[0-9]+\",\"n\",\"1 2 Fizz 4 Buzz Fizz 7 8 Fizz Buzz 11 12\")"
   ],
   "outputs": [
    {
     "output_type": "execute_result",
     "data": {
      "text/plain": [
       "'n n Fizz n Buzz Fizz n n Fizz Buzz n n'"
      ]
     },
     "metadata": {},
     "execution_count": 12
    }
   ],
   "metadata": {}
  },
  {
   "cell_type": "code",
   "execution_count": 20,
   "source": [
    "text = \"\"\"\r\n",
    "디즈니가 웨이브에 이어 KT 온라인 동영상 서비스(OTT) 시즌에서도 발을 빼면서 '디즈니플러스' 국내 출격 전 콘텐츠 교통정리에 속도를 낸다.\r\n",
    "디즈니 일부 콘텐츠가 KT 시즌에서 서비스 종료된다.\r\n",
    "4일 KT 시즌은 디즈니 제공 VOD 일부가 해당 권리사의 '국내 VOD 제공 정책 변경 및 종료 요청'에 따라 이달 31일 자로 서비스 종료된다고 공지했다.\r\n",
    "이에 따라 오는 31일 종료되는 디즈니 콘텐츠는 ▲ 디즈니&폭스 제공 영화 중 '가격 2천500원, 1천400원' 대상작 전체와 ▲ 마블 시리즈(어벤져스 등)·\r\n",
    "겨울왕국·엑스맨·킹스맨·보헤미안 랩소디·곡성 등이다.\r\n",
    "또 ▲ 폭스 채널 '워킹데드 시즌 1~10' ▲ 디즈니& 폭스 제공 해외 시리즈(미드) 전체 '크리미널 마인드·로스트·에이전트 오브 쉴드' 등 ▲ \r\n",
    "디즈니 채널 제공 키즈 전체 '리나는 뱀파이어·스티치! 새로운 모험' 등이다.\r\n",
    "디즈니는 웨이브에 이어 시즌까지, 국내 OTT와의 콘텐츠 제휴 규모를 축소하면서 '디즈니플러스' 국내 출범 전 교통정리를 서두르는 모양새다.\r\n",
    "디즈니는 올해 내 '디즈니플러스' 국내 서비스 개시를 목표로 국내 이통사와 제휴를 타진 중이고, \r\n",
    "지난 4월 웨이브에서 겨울왕국·어벤져스·아이언맨·스타 워즈 시리즈 등 영화 서비스를 중지한 바 있다.\r\n",
    "\"\"\""
   ],
   "outputs": [],
   "metadata": {}
  },
  {
   "cell_type": "code",
   "execution_count": 21,
   "source": [
    "not_hangul_blank = \"[^ㄱ-ㅎ ㅏ-ㅣ 가-힣 ]\"\r\n",
    "text = re.sub(not_hangul_blank, \"\",text)\r\n",
    "text"
   ],
   "outputs": [
    {
     "output_type": "execute_result",
     "data": {
      "text/plain": [
       "'디즈니가 웨이브에 이어  온라인 동영상 서비스 시즌에서도 발을 빼면서 디즈니플러스 국내 출격 전 콘텐츠 교통정리에 속도를 낸다디즈니 일부 콘텐츠가  시즌에서 서비스 종료된다일  시즌은 디즈니 제공  일부가 해당 권리사의 국내  제공 정책 변경 및 종료 요청에 따라 이달 일 자로 서비스 종료된다고 공지했다이에 따라 오는 일 종료되는 디즈니 콘텐츠는  디즈니폭스 제공 영화 중 가격 천원 천원 대상작 전체와  마블 시리즈어벤져스 등겨울왕국엑스맨킹스맨보헤미안 랩소디곡성 등이다또  폭스 채널 워킹데드 시즌   디즈니 폭스 제공 해외 시리즈미드 전체 크리미널 마인드로스트에이전트 오브 쉴드 등  디즈니 채널 제공 키즈 전체 리나는 뱀파이어스티치 새로운 모험 등이다디즈니는 웨이브에 이어 시즌까지 국내 와의 콘텐츠 제휴 규모를 축소하면서 디즈니플러스 국내 출범 전 교통정리를 서두르는 모양새다디즈니는 올해 내 디즈니플러스 국내 서비스 개시를 목표로 국내 이통사와 제휴를 타진 중이고 지난 월 웨이브에서 겨울왕국어벤져스아이언맨스타 워즈 시리즈 등 영화 서비스를 중지한 바 있다'"
      ]
     },
     "metadata": {},
     "execution_count": 21
    }
   ],
   "metadata": {}
  },
  {
   "cell_type": "code",
   "execution_count": 22,
   "source": [
    "text = \"스마트워치가 일종의 패션 아이템이 되면서 MZ세대(밀레니얼·Z세대)를 중심으로 소비자가 직접 시계를 맞춤형으로 제작(커스터마이징)하는 ‘애플워치 꾸미기’가 유행이다. 배경화면과 줄, 테두리 케이스를 취향대로 디자인해 ‘나만의 시계’를 만드는 것이다.\"\r\n",
    "text = re.sub(not_hangul_blank, \"\",text)\r\n",
    "text"
   ],
   "outputs": [
    {
     "output_type": "execute_result",
     "data": {
      "text/plain": [
       "'스마트워치가 일종의 패션 아이템이 되면서 세대밀레니얼세대를 중심으로 소비자가 직접 시계를 맞춤형으로 제작커스터마이징하는 애플워치 꾸미기가 유행이다 배경화면과 줄 테두리 케이스를 취향대로 디자인해 나만의 시계를 만드는 것이다'"
      ]
     },
     "metadata": {},
     "execution_count": 22
    }
   ],
   "metadata": {}
  }
 ],
 "metadata": {
  "orig_nbformat": 4,
  "language_info": {
   "name": "python",
   "version": "3.8.10",
   "mimetype": "text/x-python",
   "codemirror_mode": {
    "name": "ipython",
    "version": 3
   },
   "pygments_lexer": "ipython3",
   "nbconvert_exporter": "python",
   "file_extension": ".py"
  },
  "kernelspec": {
   "name": "python3",
   "display_name": "Python 3.8.10 64-bit ('base': conda)"
  },
  "interpreter": {
   "hash": "b3ba2566441a7c06988d0923437866b63cedc61552a5af99d1f4fb67d367b25f"
  }
 },
 "nbformat": 4,
 "nbformat_minor": 2
}