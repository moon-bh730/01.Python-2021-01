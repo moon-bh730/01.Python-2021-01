{
  "nbformat": 4,
  "nbformat_minor": 2,
  "metadata": {
    "colab": {
      "name": "6회차_문범희.ipynb",
      "provenance": [],
      "collapsed_sections": []
    },
    "kernelspec": {
      "name": "python3",
      "display_name": "Python 3.8.10 64-bit ('base': conda)"
    },
    "language_info": {
      "name": "python",
      "version": "3.8.10",
      "mimetype": "text/x-python",
      "codemirror_mode": {
        "name": "ipython",
        "version": 3
      },
      "pygments_lexer": "ipython3",
      "nbconvert_exporter": "python",
      "file_extension": ".py"
    },
    "interpreter": {
      "hash": "b3ba2566441a7c06988d0923437866b63cedc61552a5af99d1f4fb67d367b25f"
    }
  },
  "cells": [
    {
      "cell_type": "markdown",
      "source": [
        "# 8.5 심사문제: 합격 여부 출력하기\n",
        "-표준 입력으로 국어, 영어, 수학, 과학 점수가 입력됩니다. 국어는 90점 이상, 영어는 80점 초과, 수학은 85점 초과, 과학은 80점 이상일 때 합격이라고 정했습니다(한 과목이라도 조건에 만족하지 않으면 불합격). 다음 소스 코드를 완성하여 합격이면 True, 불합격이면 False가 출력되게 만드세요(input에서 안내 문자열은 출력하지 않아야 합니다)."
      ],
      "metadata": {
        "id": "fKeKxNu4xJa_"
      }
    },
    {
      "cell_type": "code",
      "execution_count": 5,
      "source": [
        "kor, eng, mat, sci = map(int, input().split())\n",
        "print(kor>=90 and eng>80 and mat>85 and sci>=80)"
      ],
      "outputs": [
        {
          "output_type": "stream",
          "name": "stdout",
          "text": [
            "89 81 86 81\n",
            "False\n"
          ]
        }
      ],
      "metadata": {
        "colab": {
          "base_uri": "https://localhost:8080/"
        },
        "id": "n1QR4jjQxFdd",
        "outputId": "42773cb6-f707-4cdf-cb90-af419e4f6c6c"
      }
    },
    {
      "cell_type": "markdown",
      "source": [
        "# 9.4 심사문제: 여러 줄로 된 문자열 사용하기\n",
        "- 다음 소스 코드를 완성하여 실행 결과대로 문자열이 출력되게 만드세요."
      ],
      "metadata": {
        "id": "_hfRhNzFyJpk"
      }
    },
    {
      "cell_type": "code",
      "execution_count": 15,
      "source": [
        "s = \"\"\"'Python'\"\"\"\n",
        "s = s + ''' is a \"programming language\" ''' + \"\\n\"\n",
        "s = s + \"that lets you work quickly\" + \"\\n\"\n",
        "s = s + \"and\" + \"\\n\"\n",
        "s = s + \"integrate systems more effectively.\"\n",
        "\n",
        "print(s)\n",
        "\n",
        "# 'Python' is a \"programming language\"\n",
        "# that lets you work quickly\n",
        "# and\n",
        "# integrate systems more effectively."
      ],
      "outputs": [
        {
          "output_type": "stream",
          "name": "stdout",
          "text": [
            "'Python' is a \"programming language\" \n",
            "that lets you work quickly\n",
            "and\n",
            "integrate systems more effectively.\n"
          ]
        }
      ],
      "metadata": {
        "colab": {
          "base_uri": "https://localhost:8080/"
        },
        "id": "1yTWjVNlxoQG",
        "outputId": "bbf3df2d-7ecb-4e50-9902-871715609882"
      }
    },
    {
      "cell_type": "markdown",
      "source": [
        "# 10.5 심사문제: range로 튜플 만들기\n",
        "-표준 입력으로 정수가 입력됩니다. range의 시작하는 숫자는 -10, 끝나는 숫자는 10이며 입력된 정수만큼 증가하는 숫자가 들어가도록 튜플을 만들고, 해당 튜플을 출력하는 프로그램을 만드세요(input에서 안내 문자열은 출력하지 않아야 합니다)."
      ],
      "metadata": {
        "id": "_6Esllv8zLj2"
      }
    },
    {
      "cell_type": "code",
      "execution_count": 17,
      "source": [
        "a = input()\n",
        "test = tuple(range(-10,10,int(a)))\n",
        "print(test)"
      ],
      "outputs": [
        {
          "output_type": "stream",
          "name": "stdout",
          "text": [
            "3\n",
            "(-10, -7, -4, -1, 2, 5, 8)\n"
          ]
        }
      ],
      "metadata": {
        "colab": {
          "base_uri": "https://localhost:8080/"
        },
        "id": "k02xPWDcyzFl",
        "outputId": "803dcdd6-a081-404f-a568-17b596d58424"
      }
    },
    {
      "cell_type": "markdown",
      "source": [
        "# 11.8 심사문제: 리스트의 마지막 부분 삭제하기\n",
        "-표준 입력으로 숫자 또는 문자열 여러 개가 입력되어 리스트 x에 저장됩니다(입력되는 숫자 또는 문자열의 개수는 정해져 있지 않음). 다음 소스 코드를 완성하여 리스트 x의 마지막 요소 5개를 삭제한 뒤 튜플로 출력되게 만드세요."
      ],
      "metadata": {
        "id": "4wWYrpD905Zr"
      }
    },
    {
      "cell_type": "code",
      "execution_count": 19,
      "source": [
        "x = input().split()\n",
        "del x[-5:]\n",
        "print(tuple(x))"
      ],
      "outputs": [
        {
          "output_type": "stream",
          "name": "stdout",
          "text": [
            "oven bat pony total leak wreck curl crop space navy loss knee\n",
            "('oven', 'bat', 'pony', 'total', 'leak', 'wreck', 'curl')\n"
          ]
        }
      ],
      "metadata": {
        "colab": {
          "base_uri": "https://localhost:8080/"
        },
        "id": "_4FPJLcF0spV",
        "outputId": "225ec686-668a-40df-8c3c-d4eeedbc44d4"
      }
    },
    {
      "cell_type": "markdown",
      "source": [
        "# 11.9 심사문제: 문자열에서 인덱스가 홀수인 문자와 짝수인 문자 연결하기\n",
        "-표준 입력으로 문자열 두 개가 각 줄에 입력됩니다(문자열의 길이는 정해져 있지 않음). 첫 번째 문자열에서 인덱스가 홀수인 문자와 두 번째 문자열에서 인덱스가 짝수인 문자를 연결하여 출력하는 프로그램을 만드세요(input에서 안내 문자열은 출력하지 않아야 합니다). 연결 순서는 첫 번째 문자열, 두 번째 문자열 순입니다. 그리고 0은 짝수로 처리합니다."
      ],
      "metadata": {
        "id": "TAQ5hHZZ1WKC"
      }
    },
    {
      "cell_type": "code",
      "execution_count": 22,
      "source": [
        "strIn_01 = input()\n",
        "strIn_02 = input()\n",
        "print(strIn_01[1::2]+strIn_02[::2])\n"
      ],
      "outputs": [
        {
          "output_type": "stream",
          "name": "stdout",
          "text": [
            "python\n",
            "python\n",
            "yhnpto\n"
          ]
        }
      ],
      "metadata": {
        "colab": {
          "base_uri": "https://localhost:8080/"
        },
        "id": "3xg4PBIz1K-G",
        "outputId": "1d6cf1bf-3097-4155-c9c9-252971d7afc1"
      }
    },
    {
      "cell_type": "markdown",
      "source": [],
      "metadata": {
        "id": "szzFOtvl1wzP"
      }
    },
    {
      "cell_type": "markdown",
      "source": [
        "# 12.4 연습문제: 딕셔너리에 게임 캐릭터 능력치 저장하기핵심 정리 ▶︎\n",
        "-표준 입력으로 문자열 여러 개와 숫자(실수) 여러 개가 두 줄로 입력됩니다. 입력된 첫 번째 줄은 키, 두 번째 줄은 값으로 하여 딕셔너리를 생성한 뒤 딕셔너리를 출력하는 프로그램을 만드세요. input().split()의 결과를 변수 한 개에 저장하면 리스트로 저장됩니다."
      ],
      "metadata": {
        "id": "45Kc-_Eo1566"
      }
    },
    {
      "cell_type": "code",
      "execution_count": 23,
      "source": [
        "st_01 = input().split()\r\n",
        "st_02 = map(float, input().split())\r\n",
        "st_dtnr = dict(zip(st_01,st_02))\r\n",
        "print(st_dtnr)"
      ],
      "outputs": [
        {
          "output_type": "stream",
          "name": "stdout",
          "text": [
            "health health_regen mana mana_regen\n",
            "575.6 1.7 338.8 1.63\n",
            "{'health': 575.6, 'health_regen': 1.7, 'mana': 338.8, 'mana_regen': 1.63}\n"
          ]
        }
      ],
      "metadata": {
        "colab": {
          "base_uri": "https://localhost:8080/"
        },
        "id": "fxBGFIJf1cde",
        "outputId": "82ce37ea-f8b7-41d1-b80e-92205de830cb"
      }
    },
    {
      "cell_type": "markdown",
      "source": [
        "# 13.6 연습문제: if 조건문 사용하기14.1 else 사용하기 ▶︎\n",
        "- 표준 입력으로 가격(정수)과 쿠폰 이름이 각 줄에 입력됩니다. Cash3000 쿠폰은 3,000원, Cash5000 쿠폰은 5,000원을 할인합니다. 쿠폰에 따라 할인된 가격을 출력하는 프로그램을 만드세요(input에서 안내 문자열은 출력하지 않아야 합니다).\n"
      ],
      "metadata": {
        "id": "qDZRKubIK4P9"
      }
    },
    {
      "cell_type": "code",
      "execution_count": 33,
      "source": [
        "st_v01 = int(input())\r\n",
        "st_v02 = input()\r\n",
        "\r\n",
        "#price = (st_v01-3000) if st_v02 == 'Cash3000' else (st_v01-5000)\r\n",
        "\r\n",
        "if st_v02 == 'Cash3000':\r\n",
        "    print(st_v01-3000)\r\n",
        "else:\r\n",
        "    if st_v02 == 'Cash5000':\r\n",
        "      print(st_v01-5000)\r\n",
        "    else:\r\n",
        "      print(st_v01)\r\n",
        "\r\n",
        "\r\n",
        "#입력 -  27000 \r\n",
        "#결과 - 24000"
      ],
      "outputs": [
        {
          "output_type": "stream",
          "name": "stdout",
          "text": [
            "27000\n",
            "Cash5000\n",
            "22000\n"
          ]
        }
      ],
      "metadata": {
        "colab": {
          "base_uri": "https://localhost:8080/"
        },
        "id": "BB8rHVPN2zW-",
        "outputId": "8b4450c0-9c6f-492c-f775-791bf16e7fc5"
      }
    },
    {
      "cell_type": "markdown",
      "source": [
        "# 14.7 심사문제: 합격 여부 판단하기\n",
        "-표준 입력으로 국어, 영어, 수학, 과학 점수가 입력됩니다. 여기서 네 과목의 평균 점수가 80점 이상일 때 합격이라고 정했습니다. 평균 점수에 따라 '합격', '불합격'을 출력하는 프로그램을 만드세요(input에서 안내 문자열은 출력하지 않아야 합니다). 단, 점수는 0점부터 100점까지만 입력받을 수 있으며 범위를 벗어났다면 '잘못된 점수'를 출력하고 합격, 불합격 여부는 출력하지 않아야 합니다."
      ],
      "metadata": {
        "id": "SAZHlebwNa1B"
      }
    },
    {
      "cell_type": "code",
      "execution_count": 2,
      "source": [
        "kor, eng, mat, sci = map(int,input().split())\r\n",
        "\r\n",
        "if 0<=kor<=100 and 0<=eng<=100 and 0<=mat<=100 and 0<=sci<=100:\r\n",
        "    if (kor+eng+mat+sci)/4 >= 80:\r\n",
        "        print('합격')\r\n",
        "    else:\r\n",
        "        print('불합격')\r\n",
        "else:\r\n",
        "    print('잘못된 점수')\r\n",
        "\r\n",
        "\r\n",
        "#----------------------------\r\n",
        "#입력 89 72 93 82\r\n",
        "#결과 합격\r\n",
        "#----------------------------\r\n",
        "#입력 100 79 68 71\r\n",
        "#결과 불합격\r\n",
        "#----------------------------\r\n",
        "#입력 99 85 101 90\r\n",
        "#결과 잘못된 점수\r\n",
        "#----------------------------"
      ],
      "outputs": [
        {
          "output_type": "stream",
          "name": "stdout",
          "text": [
            "잘못된 점수\n"
          ]
        }
      ],
      "metadata": {
        "colab": {
          "base_uri": "https://localhost:8080/"
        },
        "id": "rJCg0R_aLbKw",
        "outputId": "d65f0382-3db2-416f-e2eb-80726da37c36"
      }
    },
    {
      "cell_type": "code",
      "execution_count": null,
      "source": [],
      "outputs": [],
      "metadata": {
        "id": "LOPMRf6wPCQJ"
      }
    }
  ]
}