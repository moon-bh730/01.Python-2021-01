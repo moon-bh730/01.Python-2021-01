{
  "nbformat": 4,
  "nbformat_minor": 0,
  "metadata": {
    "colab": {
      "name": "6회차_문범희.ipynb",
      "provenance": [],
      "collapsed_sections": []
    },
    "kernelspec": {
      "name": "python3",
      "display_name": "Python 3"
    },
    "language_info": {
      "name": "python"
    }
  },
  "cells": [
    {
      "cell_type": "markdown",
      "metadata": {
        "id": "fKeKxNu4xJa_"
      },
      "source": [
        "# 8.5 심사문제: 합격 여부 출력하기\n",
        "-표준 입력으로 국어, 영어, 수학, 과학 점수가 입력됩니다. 국어는 90점 이상, 영어는 80점 초과, 수학은 85점 초과, 과학은 80점 이상일 때 합격이라고 정했습니다(한 과목이라도 조건에 만족하지 않으면 불합격). 다음 소스 코드를 완성하여 합격이면 True, 불합격이면 False가 출력되게 만드세요(input에서 안내 문자열은 출력하지 않아야 합니다)."
      ]
    },
    {
      "cell_type": "code",
      "metadata": {
        "colab": {
          "base_uri": "https://localhost:8080/"
        },
        "id": "n1QR4jjQxFdd",
        "outputId": "42773cb6-f707-4cdf-cb90-af419e4f6c6c"
      },
      "source": [
        "kor, eng, mat, sci = map(int, input().split())\n",
        "print(kor>=90 and eng>80 and mat>85 and sci>=80)"
      ],
      "execution_count": 5,
      "outputs": [
        {
          "output_type": "stream",
          "text": [
            "89 81 86 81\n",
            "False\n"
          ],
          "name": "stdout"
        }
      ]
    },
    {
      "cell_type": "markdown",
      "metadata": {
        "id": "_hfRhNzFyJpk"
      },
      "source": [
        "# 9.4 심사문제: 여러 줄로 된 문자열 사용하기\n",
        "- 다음 소스 코드를 완성하여 실행 결과대로 문자열이 출력되게 만드세요."
      ]
    },
    {
      "cell_type": "code",
      "metadata": {
        "colab": {
          "base_uri": "https://localhost:8080/"
        },
        "id": "1yTWjVNlxoQG",
        "outputId": "bbf3df2d-7ecb-4e50-9902-871715609882"
      },
      "source": [
        "s = \"\"\"'Python'\"\"\"\n",
        "s = s + ''' is a \"programming language\" ''' + \"\\n\"\n",
        "s = s + \"that lets you work quickly\" + \"\\n\"\n",
        "s = s + \"and\" + \"\\n\"\n",
        "s = s + \"integrate systems more effectively.\"\n",
        "\n",
        "print(s)\n",
        "\n",
        "# 'Python' is a \"programming language\"\n",
        "# that lets you work quickly\n",
        "# and\n",
        "# integrate systems more effectively."
      ],
      "execution_count": 15,
      "outputs": [
        {
          "output_type": "stream",
          "text": [
            "'Python' is a \"programming language\" \n",
            "that lets you work quickly\n",
            "and\n",
            "integrate systems more effectively.\n"
          ],
          "name": "stdout"
        }
      ]
    },
    {
      "cell_type": "markdown",
      "metadata": {
        "id": "_6Esllv8zLj2"
      },
      "source": [
        "# 10.5 심사문제: range로 튜플 만들기\n",
        "-표준 입력으로 정수가 입력됩니다. range의 시작하는 숫자는 -10, 끝나는 숫자는 10이며 입력된 정수만큼 증가하는 숫자가 들어가도록 튜플을 만들고, 해당 튜플을 출력하는 프로그램을 만드세요(input에서 안내 문자열은 출력하지 않아야 합니다)."
      ]
    },
    {
      "cell_type": "code",
      "metadata": {
        "colab": {
          "base_uri": "https://localhost:8080/"
        },
        "id": "k02xPWDcyzFl",
        "outputId": "803dcdd6-a081-404f-a568-17b596d58424"
      },
      "source": [
        "a = input()\n",
        "test = tuple(range(-10,10,int(a)))\n",
        "print(test)"
      ],
      "execution_count": 17,
      "outputs": [
        {
          "output_type": "stream",
          "text": [
            "3\n",
            "(-10, -7, -4, -1, 2, 5, 8)\n"
          ],
          "name": "stdout"
        }
      ]
    },
    {
      "cell_type": "markdown",
      "metadata": {
        "id": "4wWYrpD905Zr"
      },
      "source": [
        "# 11.8 심사문제: 리스트의 마지막 부분 삭제하기\n",
        "-표준 입력으로 숫자 또는 문자열 여러 개가 입력되어 리스트 x에 저장됩니다(입력되는 숫자 또는 문자열의 개수는 정해져 있지 않음). 다음 소스 코드를 완성하여 리스트 x의 마지막 요소 5개를 삭제한 뒤 튜플로 출력되게 만드세요."
      ]
    },
    {
      "cell_type": "code",
      "metadata": {
        "colab": {
          "base_uri": "https://localhost:8080/"
        },
        "id": "_4FPJLcF0spV",
        "outputId": "225ec686-668a-40df-8c3c-d4eeedbc44d4"
      },
      "source": [
        "x = input().split()\n",
        "del x[-5:]\n",
        "print(tuple(x))"
      ],
      "execution_count": 19,
      "outputs": [
        {
          "output_type": "stream",
          "text": [
            "oven bat pony total leak wreck curl crop space navy loss knee\n",
            "('oven', 'bat', 'pony', 'total', 'leak', 'wreck', 'curl')\n"
          ],
          "name": "stdout"
        }
      ]
    },
    {
      "cell_type": "markdown",
      "metadata": {
        "id": "TAQ5hHZZ1WKC"
      },
      "source": [
        "# 11.9 심사문제: 문자열에서 인덱스가 홀수인 문자와 짝수인 문자 연결하기\n",
        "-표준 입력으로 문자열 두 개가 각 줄에 입력됩니다(문자열의 길이는 정해져 있지 않음). 첫 번째 문자열에서 인덱스가 홀수인 문자와 두 번째 문자열에서 인덱스가 짝수인 문자를 연결하여 출력하는 프로그램을 만드세요(input에서 안내 문자열은 출력하지 않아야 합니다). 연결 순서는 첫 번째 문자열, 두 번째 문자열 순입니다. 그리고 0은 짝수로 처리합니다."
      ]
    },
    {
      "cell_type": "code",
      "metadata": {
        "colab": {
          "base_uri": "https://localhost:8080/"
        },
        "id": "3xg4PBIz1K-G",
        "outputId": "1d6cf1bf-3097-4155-c9c9-252971d7afc1"
      },
      "source": [
        "strIn_01 = input()\n",
        "strIn_02 = input()\n",
        "print(strIn_01[1::2]+strIn_02[::2])\n"
      ],
      "execution_count": 22,
      "outputs": [
        {
          "output_type": "stream",
          "text": [
            "python\n",
            "python\n",
            "yhnpto\n"
          ],
          "name": "stdout"
        }
      ]
    },
    {
      "cell_type": "markdown",
      "metadata": {
        "id": "szzFOtvl1wzP"
      },
      "source": [
        ""
      ]
    },
    {
      "cell_type": "markdown",
      "metadata": {
        "id": "45Kc-_Eo1566"
      },
      "source": [
        "# 12.4 연습문제: 딕셔너리에 게임 캐릭터 능력치 저장하기핵심 정리 ▶︎\n",
        "-표준 입력으로 문자열 여러 개와 숫자(실수) 여러 개가 두 줄로 입력됩니다. 입력된 첫 번째 줄은 키, 두 번째 줄은 값으로 하여 딕셔너리를 생성한 뒤 딕셔너리를 출력하는 프로그램을 만드세요. input().split()의 결과를 변수 한 개에 저장하면 리스트로 저장됩니다."
      ]
    },
    {
      "cell_type": "code",
      "metadata": {
        "colab": {
          "base_uri": "https://localhost:8080/"
        },
        "id": "fxBGFIJf1cde",
        "outputId": "82ce37ea-f8b7-41d1-b80e-92205de830cb"
      },
      "source": [
        "st_01 = input().split()\n",
        "st_02 = map(float, input().split())\n",
        "st_dtnr = dict(zip(st_01,st_02))\n",
        "print(st_dtnr)"
      ],
      "execution_count": 23,
      "outputs": [
        {
          "output_type": "stream",
          "text": [
            "health health_regen mana mana_regen\n",
            "575.6 1.7 338.8 1.63\n",
            "{'health': 575.6, 'health_regen': 1.7, 'mana': 338.8, 'mana_regen': 1.63}\n"
          ],
          "name": "stdout"
        }
      ]
    },
    {
      "cell_type": "markdown",
      "metadata": {
        "id": "qDZRKubIK4P9"
      },
      "source": [
        "# 13.6 연습문제: if 조건문 사용하기14.1 else 사용하기 ▶︎\n",
        "- 표준 입력으로 가격(정수)과 쿠폰 이름이 각 줄에 입력됩니다. Cash3000 쿠폰은 3,000원, Cash5000 쿠폰은 5,000원을 할인합니다. 쿠폰에 따라 할인된 가격을 출력하는 프로그램을 만드세요(input에서 안내 문자열은 출력하지 않아야 합니다).\n"
      ]
    },
    {
      "cell_type": "code",
      "metadata": {
        "colab": {
          "base_uri": "https://localhost:8080/"
        },
        "id": "BB8rHVPN2zW-",
        "outputId": "8b4450c0-9c6f-492c-f775-791bf16e7fc5"
      },
      "source": [
        "st_v01 = int(input())\n",
        "st_v02 = input()\n",
        "\n",
        "#price = (st_v01-3000) if st_v02 == 'Cash3000' else (st_v01-5000)\n",
        "\n",
        "if st_v02 == 'Cash3000':\n",
        "    print(st_v01-3000)\n",
        "else:\n",
        "    if st_v02 == 'Cash5000':\n",
        "      print(st_v01-5000)\n",
        "    else:\n",
        "      print(st_v01)\n",
        "\n",
        "\n",
        "#입력 -  27000 \n",
        "#결과 - 24000"
      ],
      "execution_count": 33,
      "outputs": [
        {
          "output_type": "stream",
          "text": [
            "27000\n",
            "Cash5000\n",
            "22000\n"
          ],
          "name": "stdout"
        }
      ]
    },
    {
      "cell_type": "markdown",
      "metadata": {
        "id": "SAZHlebwNa1B"
      },
      "source": [
        "# 14.7 심사문제: 합격 여부 판단하기\n",
        "-표준 입력으로 국어, 영어, 수학, 과학 점수가 입력됩니다. 여기서 네 과목의 평균 점수가 80점 이상일 때 합격이라고 정했습니다. 평균 점수에 따라 '합격', '불합격'을 출력하는 프로그램을 만드세요(input에서 안내 문자열은 출력하지 않아야 합니다). 단, 점수는 0점부터 100점까지만 입력받을 수 있으며 범위를 벗어났다면 '잘못된 점수'를 출력하고 합격, 불합격 여부는 출력하지 않아야 합니다."
      ]
    },
    {
      "cell_type": "code",
      "metadata": {
        "colab": {
          "base_uri": "https://localhost:8080/"
        },
        "id": "rJCg0R_aLbKw",
        "outputId": "d65f0382-3db2-416f-e2eb-80726da37c36"
      },
      "source": [
        "kor, eng, mat, sci = map(int,input().split())\n",
        "\n",
        "if 0<=kor<=100 and 0<=eng<=100 and 0<=mat<=100 and 0<=sci<=100:\n",
        "    if (kor+eng+mat+sci)/4 >= 80:\n",
        "        print('합격')\n",
        "    else:\n",
        "        print('불합격')\n",
        "else:\n",
        "    print('잘못된 점수')\n",
        "\n",
        "\n",
        "#----------------------------\n",
        "#입력 89 72 93 82\n",
        "#결과 합격\n",
        "#----------------------------\n",
        "#입력 100 79 68 71\n",
        "#결과 불합격\n",
        "#----------------------------\n",
        "#입력 99 85 101 90\n",
        "#결과 잘못된 점수\n",
        "#----------------------------"
      ],
      "execution_count": 35,
      "outputs": [
        {
          "output_type": "stream",
          "text": [
            "99 85 101 90\n",
            "잘못된 점수\n"
          ],
          "name": "stdout"
        }
      ]
    },
    {
      "cell_type": "code",
      "metadata": {
        "id": "LOPMRf6wPCQJ"
      },
      "source": [
        ""
      ],
      "execution_count": null,
      "outputs": []
    }
  ]
}