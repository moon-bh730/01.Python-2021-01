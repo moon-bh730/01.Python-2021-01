{
 "cells": [
  {
   "cell_type": "markdown",
   "source": [
    "# 22.10 심사문제: 2의 거듭제곱 리스트 생성하기\r\n",
    "    - 표준 입력으로 정수 두 개가 입력됩니다(첫 번째 입력 값의 범위는 1~20, 두 번째 입력 값의 범위는 10~30이며 첫 번째 입력 값은 두 번째 입력 값보다 항상 작습니다). \r\n",
    "    - 첫 번째 정수부터 두 번째 정수까지를 지수로 하는 2의 거듭제곱 리스트를 출력하는 프로그램을 만드세요(input에서 안내 문자열은 출력하지 않아야 합니다). \r\n",
    "    - 단, 리스트의 두 번째 요소와 뒤에서 두 번째 요소는 삭제한 뒤 출력하세요. 출력 결과는 리스트 형태라야 합니다."
   ],
   "metadata": {}
  },
  {
   "cell_type": "code",
   "execution_count": 14,
   "source": [
    "\r\n",
    "a,b = map(int, input().split())\r\n",
    "\r\n",
    "test = [2**i for i in range(a,b+1)]\r\n",
    "\r\n",
    "del test[1]\r\n",
    "del test[len(test)-2]\r\n",
    "\r\n",
    "print(test)"
   ],
   "outputs": [
    {
     "output_type": "stream",
     "name": "stdout",
     "text": [
      "[2048, 8192, 16384, 32768, 65536, 262144]\n"
     ]
    }
   ],
   "metadata": {}
  },
  {
   "cell_type": "markdown",
   "source": [
    "# 24.6 심사문제: 높은 가격순으로 출력하기\r\n",
    "    - 표준 입력으로 물품 가격 여러 개가 문자열 한 줄로 입력되고, 각 가격은 ;(세미콜론)으로 구분되어 있습니다. \r\n",
    "    - 입력된 가격을 높은 가격순으로 출력하는 프로그램을 만드세요(input에서 안내 문자열은 출력하지 않아야 합니다). \r\n",
    "    - 이때 가격은 길이를 9로 만든 뒤 오른쪽으로 정렬하고 천단위로 ,(콤마)를 넣으세요."
   ],
   "metadata": {}
  },
  {
   "cell_type": "code",
   "execution_count": 37,
   "source": [
    "# 1. input 물품가격 여러개 입력(구분은;)\r\n",
    "str_price =  \"11;15;22;1000;15;1500;2000;1000000;7000001122;77\"\r\n",
    "#str_price = input()\r\n",
    "#print(str_price)\r\n",
    "\r\n",
    "#빈리스트 만들기\r\n",
    "dif_price=[]\r\n",
    "dif_price_sorted=[]\r\n",
    "\r\n",
    "#리스트에 나누어 값을 넣기\r\n",
    "dif_price = map(int,str_price.split(\";\"))\r\n",
    "\r\n",
    "# 2. 높은 가격순 정렬\r\n",
    "dif_price_sorted = sorted(dif_price,reverse=True)\r\n",
    "\r\n",
    "\r\n",
    "# 3. 가격 길이를 9로 맞추기\r\n",
    "# 4. 오른쪽 정렬\r\n",
    "# 5. 천단위 콤마처리\r\n",
    "# 6. 출력   \r\n",
    "for i in (dif_price_sorted):\r\n",
    "    print(\"%9s\" % format(i,\",\"))\r\n"
   ],
   "outputs": [
    {
     "output_type": "stream",
     "name": "stdout",
     "text": [
      "7,000,001,122\n",
      "1,000,000\n",
      "    2,000\n",
      "    1,500\n",
      "    1,000\n",
      "       77\n",
      "       22\n",
      "       15\n",
      "       15\n",
      "       11\n"
     ]
    }
   ],
   "metadata": {}
  },
  {
   "cell_type": "code",
   "execution_count": null,
   "source": [],
   "outputs": [],
   "metadata": {}
  }
 ],
 "metadata": {
  "orig_nbformat": 4,
  "language_info": {
   "name": "python",
   "version": "3.8.10",
   "mimetype": "text/x-python",
   "codemirror_mode": {
    "name": "ipython",
    "version": 3
   },
   "pygments_lexer": "ipython3",
   "nbconvert_exporter": "python",
   "file_extension": ".py"
  },
  "kernelspec": {
   "name": "python3",
   "display_name": "Python 3.8.10 64-bit ('base': conda)"
  },
  "interpreter": {
   "hash": "b3ba2566441a7c06988d0923437866b63cedc61552a5af99d1f4fb67d367b25f"
  }
 },
 "nbformat": 4,
 "nbformat_minor": 2
}