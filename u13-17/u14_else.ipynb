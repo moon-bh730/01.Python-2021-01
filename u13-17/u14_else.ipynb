{
  "nbformat": 4,
  "nbformat_minor": 0,
  "metadata": {
    "colab": {
      "name": "u14_else.ipynb",
      "provenance": [],
      "collapsed_sections": []
    },
    "kernelspec": {
      "name": "python3",
      "display_name": "Python 3"
    },
    "language_info": {
      "name": "python"
    }
  },
  "cells": [
    {
      "cell_type": "markdown",
      "metadata": {
        "id": "cHRq91DFl_hm"
      },
      "source": [
        "# Unit 14. else"
      ]
    },
    {
      "cell_type": "code",
      "metadata": {
        "colab": {
          "base_uri": "https://localhost:8080/"
        },
        "id": "_SZd-uKGl-qF",
        "outputId": "cbffeca5-9dfc-4ade-9151-84e19753c0ad"
      },
      "source": [
        "x=5\n",
        "if x==10:\n",
        "  print('10 입니다.')\n",
        "else:\n",
        "  print('It is not 10.')"
      ],
      "execution_count": 1,
      "outputs": [
        {
          "output_type": "stream",
          "text": [
            "It is not 10.\n"
          ],
          "name": "stdout"
        }
      ]
    },
    {
      "cell_type": "markdown",
      "metadata": {
        "id": "vpl-9_3KnHZa"
      },
      "source": [
        "### 3항 연산자\n",
        "- Java, JS: a=(조건)? 참일때의 값 : 거짓일때의 값\n",
        "- 파이썬 : a = 참일때의 값 if 조건 else 거짓일때의 값"
      ]
    },
    {
      "cell_type": "code",
      "metadata": {
        "colab": {
          "base_uri": "https://localhost:8080/",
          "height": 35
        },
        "id": "-yQPpqmWmcQt",
        "outputId": "ce854456-25f4-48ca-811b-8b696faf69c7"
      },
      "source": [
        "x=1\n",
        "if x % 2 ==0:\n",
        "  y = 'even'\n",
        "else:\n",
        "  y = 'odd'\n",
        "y"
      ],
      "execution_count": 2,
      "outputs": [
        {
          "output_type": "execute_result",
          "data": {
            "application/vnd.google.colaboratory.intrinsic+json": {
              "type": "string"
            },
            "text/plain": [
              "'odd'"
            ]
          },
          "metadata": {
            "tags": []
          },
          "execution_count": 2
        }
      ]
    },
    {
      "cell_type": "code",
      "metadata": {
        "colab": {
          "base_uri": "https://localhost:8080/",
          "height": 35
        },
        "id": "Hj4gaYnQnRMd",
        "outputId": "2c3f5491-ebdc-4513-dd74-fa19f26545db"
      },
      "source": [
        "y = 'even' if x%2 == 0 else 'odd'\n",
        "y"
      ],
      "execution_count": 3,
      "outputs": [
        {
          "output_type": "execute_result",
          "data": {
            "application/vnd.google.colaboratory.intrinsic+json": {
              "type": "string"
            },
            "text/plain": [
              "'odd'"
            ]
          },
          "metadata": {
            "tags": []
          },
          "execution_count": 3
        }
      ]
    },
    {
      "cell_type": "code",
      "metadata": {
        "colab": {
          "base_uri": "https://localhost:8080/"
        },
        "id": "5NYCkIp1nXdd",
        "outputId": "e0953a75-b2fb-4cbd-8fcb-c8e1b3ae7f00"
      },
      "source": [
        "# 90점 이상이면 'A', 80~89 :'B', 70 !79 : C, 60~69 : D, ~59: F\n",
        "\n",
        "score = int(input('점수 입력> '))\n",
        "if score>=90:\n",
        "  print('A')\n",
        "if 80<=score<90:\n",
        "  print('B')\n",
        "if 70<=score<80:\n",
        "  print('C')\n",
        "if 60<=score<70:\n",
        "  print('D')\n",
        "else:\n",
        "  print('F')\n"
      ],
      "execution_count": 11,
      "outputs": [
        {
          "output_type": "stream",
          "text": [
            "점수 입력> 50\n",
            "F\n"
          ],
          "name": "stdout"
        }
      ]
    },
    {
      "cell_type": "code",
      "metadata": {
        "colab": {
          "base_uri": "https://localhost:8080/"
        },
        "id": "MG8mfURFo_D9",
        "outputId": "d1b16631-16e9-42d6-dab5-d0780e94d87a"
      },
      "source": [
        "score = int(input('점수 입력> '))\n",
        "if score>=90:\n",
        "  grade = 'A'\n",
        "else:\n",
        "  if score>80:\n",
        "    grade = 'B'\n",
        "  else:\n",
        "    if score>70:\n",
        "      grade = 'C'\n",
        "    else:\n",
        "      if score>60:\n",
        "        grade = 'D'\n",
        "      else:\n",
        "        grade = 'F'\n",
        "\n",
        "print(grade)"
      ],
      "execution_count": 13,
      "outputs": [
        {
          "output_type": "stream",
          "text": [
            "점수 입력> 88\n",
            "B\n"
          ],
          "name": "stdout"
        }
      ]
    },
    {
      "cell_type": "code",
      "metadata": {
        "colab": {
          "base_uri": "https://localhost:8080/",
          "height": 53
        },
        "id": "yPwKV0D9qhC0",
        "outputId": "5e9a639c-755a-4f5a-b876-966a5a1c8d2d"
      },
      "source": [
        "score = int(input('점수 입력> '))\n",
        "\n",
        "grade = 'A' if score >= 90 else \\\n",
        "              'B' if score >= 80 else \\\n",
        "                  'C' if score >= 70 else \\\n",
        "                      'D' if score >= 60 else 'F'\n",
        "grade"
      ],
      "execution_count": 14,
      "outputs": [
        {
          "output_type": "stream",
          "text": [
            "점수 입력> 30\n"
          ],
          "name": "stdout"
        },
        {
          "output_type": "execute_result",
          "data": {
            "application/vnd.google.colaboratory.intrinsic+json": {
              "type": "string"
            },
            "text/plain": [
              "'F'"
            ]
          },
          "metadata": {
            "tags": []
          },
          "execution_count": 14
        }
      ]
    },
    {
      "cell_type": "code",
      "metadata": {
        "colab": {
          "base_uri": "https://localhost:8080/",
          "height": 53
        },
        "id": "R3thwvMgrEnN",
        "outputId": "ccc515fb-6be6-4e1c-e318-225d1be3d4d4"
      },
      "source": [
        "score = int(input('점수 입력> '))\n",
        "\n",
        "grade = 'A' if score >= 90 else 'B' if score >= 80 else 'C' if score >= 70 else 'D' if score >= 60 else 'F'\n",
        "grade"
      ],
      "execution_count": 15,
      "outputs": [
        {
          "output_type": "stream",
          "text": [
            "점수 입력> 99\n"
          ],
          "name": "stdout"
        },
        {
          "output_type": "execute_result",
          "data": {
            "application/vnd.google.colaboratory.intrinsic+json": {
              "type": "string"
            },
            "text/plain": [
              "'A'"
            ]
          },
          "metadata": {
            "tags": []
          },
          "execution_count": 15
        }
      ]
    },
    {
      "cell_type": "code",
      "metadata": {
        "id": "VT0aD0T5rp6t"
      },
      "source": [
        ""
      ],
      "execution_count": null,
      "outputs": []
    }
  ]
}