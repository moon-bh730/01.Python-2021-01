{
  "nbformat": 4,
  "nbformat_minor": 0,
  "metadata": {
    "colab": {
      "name": "u13_if.ipynb",
      "provenance": [],
      "collapsed_sections": []
    },
    "kernelspec": {
      "name": "python3",
      "display_name": "Python 3"
    },
    "language_info": {
      "name": "python"
    }
  },
  "cells": [
    {
      "cell_type": "markdown",
      "metadata": {
        "id": "tT2gEH_Tguyq"
      },
      "source": [
        "# Unit 13. if 조건문"
      ]
    },
    {
      "cell_type": "markdown",
      "metadata": {
        "id": "hkM1lwtnhhSq"
      },
      "source": [
        "## 13.1 if 조건문"
      ]
    },
    {
      "cell_type": "code",
      "metadata": {
        "colab": {
          "base_uri": "https://localhost:8080/"
        },
        "id": "3SUccRNqgH5z",
        "outputId": "e77fe867-e9e8-4631-d3d7-b5b97e9f8172"
      },
      "source": [
        "x = 10\n",
        "if x == 10:\n",
        "  print('It is 10.')"
      ],
      "execution_count": 2,
      "outputs": [
        {
          "output_type": "stream",
          "text": [
            "It is 10.\n"
          ],
          "name": "stdout"
        }
      ]
    },
    {
      "cell_type": "markdown",
      "metadata": {
        "id": "MF8xdn3HjViV"
      },
      "source": [
        "## 13.2 들여쓰기"
      ]
    },
    {
      "cell_type": "code",
      "metadata": {
        "colab": {
          "base_uri": "https://localhost:8080/"
        },
        "id": "3aYfVWyNh29k",
        "outputId": "bee6a8c8-3164-4caf-e344-ef55d17cf4bb"
      },
      "source": [
        "x = 9\n",
        "\n",
        "if x==10:\n",
        "  print('x값은')\n",
        "  print('10입니다.')\n",
        "print('언제나 출력됩니다.')"
      ],
      "execution_count": 6,
      "outputs": [
        {
          "output_type": "stream",
          "text": [
            "언제나 출력됩니다.\n"
          ],
          "name": "stdout"
        }
      ]
    },
    {
      "cell_type": "markdown",
      "metadata": {
        "id": "ZbtpQ0hjkCip"
      },
      "source": [
        "## 13.3 중첩 if 조건문"
      ]
    },
    {
      "cell_type": "code",
      "metadata": {
        "colab": {
          "base_uri": "https://localhost:8080/"
        },
        "id": "fgZzKjIJjlYk",
        "outputId": "fc07e866-14fe-4e60-ecfa-62ff21d6ed74"
      },
      "source": [
        "x = 15\n",
        "if x > 10 :\n",
        "  print('10보다 큰 숫자 입니다.')\n",
        "  if x == 15:\n",
        "    print('15 입니다.')\n",
        "  if x == 20:\n",
        "    print('20 입니다.')\n",
        "    "
      ],
      "execution_count": 7,
      "outputs": [
        {
          "output_type": "stream",
          "text": [
            "10보다 큰 숫자 입니다.\n",
            "15 입니다.\n"
          ],
          "name": "stdout"
        }
      ]
    },
    {
      "cell_type": "code",
      "metadata": {
        "colab": {
          "base_uri": "https://localhost:8080/"
        },
        "id": "UsEswSiokket",
        "outputId": "96894f4e-05c0-4e6a-d59c-060d1d2cc93f"
      },
      "source": [
        "x = int(input('정수를 입력하세요 > '))\n",
        "if x >10:\n",
        "  print('10보다 큰 숫자 입니다.')\n",
        "  if x==15:\n",
        "    print('15 입니다.')\n",
        "  if x==20:\n",
        "    print('20 입니다.')"
      ],
      "execution_count": 9,
      "outputs": [
        {
          "output_type": "stream",
          "text": [
            "정수를 입력하세요 > 15\n",
            "10보다 큰 숫자 입니다.\n",
            "15 입니다.\n"
          ],
          "name": "stdout"
        }
      ]
    },
    {
      "cell_type": "code",
      "metadata": {
        "id": "dewpn9k4lW1c"
      },
      "source": [
        ""
      ],
      "execution_count": null,
      "outputs": []
    }
  ]
}